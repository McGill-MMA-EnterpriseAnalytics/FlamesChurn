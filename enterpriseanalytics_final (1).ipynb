{
 "cells": [
  {
   "cell_type": "code",
   "execution_count": 69,
   "metadata": {
    "ExecuteTime": {
     "end_time": "2020-02-14T20:49:04.480201Z",
     "start_time": "2020-02-14T20:49:04.453272Z"
    }
   },
   "outputs": [],
   "source": [
    "from __future__ import division, print_function, unicode_literals\n",
    "\n",
    "# Common imports\n",
    "import numpy as   np\n",
    "import os\n",
    "\n",
    "# to make this notebook's output stable across runs\n",
    "np.random.seed(42)\n",
    "\n",
    "# To plot pretty figures\n",
    "%matplotlib inline\n",
    "import matplotlib as mpl\n",
    "import matplotlib.pyplot as plt\n",
    "mpl.rc('axes', labelsize=14)\n",
    "mpl.rc('xtick', labelsize=12)\n",
    "mpl.rc('ytick', labelsize=12)\n",
    "\n",
    "# Where to save the figures\n",
    "PROJECT_ROOT_DIR = \".\"\n",
    "CHAPTER_ID = \"end_to_end_project\"\n",
    "IMAGES_PATH = os.path.join(PROJECT_ROOT_DIR, \"images\", CHAPTER_ID)\n",
    "\n",
    "def save_fig(fig_id, tight_layout=True, fig_extension=\"png\", resolution=300):\n",
    "    path = os.path.join(IMAGES_PATH, fig_id + \".\" + fig_extension)\n",
    "    print(\"Saving figure\", fig_id)\n",
    "    if tight_layout:\n",
    "        plt.tight_layout()\n",
    "    plt.savefig(path, format=fig_extension, dpi=resolution)\n",
    "\n",
    "# Ignore useless warnings (see SciPy issue #5998)\n",
    "import warnings\n",
    "warnings.filterwarnings(action=\"ignore\", message=\"^internal gelsd\")"
   ]
  },
  {
   "cell_type": "code",
   "execution_count": 70,
   "metadata": {
    "ExecuteTime": {
     "end_time": "2020-02-14T20:49:04.821746Z",
     "start_time": "2020-02-14T20:49:04.818752Z"
    }
   },
   "outputs": [],
   "source": [
    "#import pandas to get data\n",
    "import pandas as pd"
   ]
  },
  {
   "cell_type": "code",
   "execution_count": 71,
   "metadata": {
    "ExecuteTime": {
     "end_time": "2020-02-14T20:49:06.160557Z",
     "start_time": "2020-02-14T20:49:06.135116Z"
    }
   },
   "outputs": [],
   "source": [
    "churn = pd.read_csv(\"C:/Users/torim/Documents/GitHub/FlamesChurn/churn_num.csv\")\n"
   ]
  },
  {
   "cell_type": "code",
   "execution_count": 72,
   "metadata": {
    "ExecuteTime": {
     "end_time": "2020-02-14T20:49:06.804241Z",
     "start_time": "2020-02-14T20:49:06.785292Z"
    }
   },
   "outputs": [
    {
     "data": {
      "text/html": [
       "<div>\n",
       "<style scoped>\n",
       "    .dataframe tbody tr th:only-of-type {\n",
       "        vertical-align: middle;\n",
       "    }\n",
       "\n",
       "    .dataframe tbody tr th {\n",
       "        vertical-align: top;\n",
       "    }\n",
       "\n",
       "    .dataframe thead th {\n",
       "        text-align: right;\n",
       "    }\n",
       "</style>\n",
       "<table border=\"1\" class=\"dataframe\">\n",
       "  <thead>\n",
       "    <tr style=\"text-align: right;\">\n",
       "      <th></th>\n",
       "      <th>customerID</th>\n",
       "      <th>Gender_Male</th>\n",
       "      <th>SeniorCitizen_True</th>\n",
       "      <th>Partner_True</th>\n",
       "      <th>Dependents_True</th>\n",
       "      <th>Tenure</th>\n",
       "      <th>PhoneService_True</th>\n",
       "      <th>MultipleLines_True</th>\n",
       "      <th>MultipleLines_False</th>\n",
       "      <th>InternetService_DSL</th>\n",
       "      <th>...</th>\n",
       "      <th>StreamingMovies_True</th>\n",
       "      <th>StreamingMovies_False</th>\n",
       "      <th>Contract_OneYear</th>\n",
       "      <th>Contract_TwoYear</th>\n",
       "      <th>PaperlessBilling_True</th>\n",
       "      <th>PaymentMethod_Electronic</th>\n",
       "      <th>PaymentMethod_Mailed</th>\n",
       "      <th>PaymentMethod_Bank</th>\n",
       "      <th>MonthlyCharges</th>\n",
       "      <th>Churn_Yes</th>\n",
       "    </tr>\n",
       "  </thead>\n",
       "  <tbody>\n",
       "    <tr>\n",
       "      <th>0</th>\n",
       "      <td>7590-VHVEG</td>\n",
       "      <td>0</td>\n",
       "      <td>0</td>\n",
       "      <td>1</td>\n",
       "      <td>0</td>\n",
       "      <td>1</td>\n",
       "      <td>0</td>\n",
       "      <td>0</td>\n",
       "      <td>0</td>\n",
       "      <td>1</td>\n",
       "      <td>...</td>\n",
       "      <td>0</td>\n",
       "      <td>1</td>\n",
       "      <td>0</td>\n",
       "      <td>0</td>\n",
       "      <td>1</td>\n",
       "      <td>1</td>\n",
       "      <td>0</td>\n",
       "      <td>0</td>\n",
       "      <td>29.85</td>\n",
       "      <td>0</td>\n",
       "    </tr>\n",
       "    <tr>\n",
       "      <th>1</th>\n",
       "      <td>5575-GNVDE</td>\n",
       "      <td>1</td>\n",
       "      <td>0</td>\n",
       "      <td>0</td>\n",
       "      <td>0</td>\n",
       "      <td>34</td>\n",
       "      <td>1</td>\n",
       "      <td>0</td>\n",
       "      <td>1</td>\n",
       "      <td>1</td>\n",
       "      <td>...</td>\n",
       "      <td>0</td>\n",
       "      <td>1</td>\n",
       "      <td>1</td>\n",
       "      <td>0</td>\n",
       "      <td>0</td>\n",
       "      <td>0</td>\n",
       "      <td>1</td>\n",
       "      <td>0</td>\n",
       "      <td>56.95</td>\n",
       "      <td>0</td>\n",
       "    </tr>\n",
       "    <tr>\n",
       "      <th>2</th>\n",
       "      <td>3668-QPYBK</td>\n",
       "      <td>1</td>\n",
       "      <td>0</td>\n",
       "      <td>0</td>\n",
       "      <td>0</td>\n",
       "      <td>2</td>\n",
       "      <td>1</td>\n",
       "      <td>0</td>\n",
       "      <td>1</td>\n",
       "      <td>1</td>\n",
       "      <td>...</td>\n",
       "      <td>0</td>\n",
       "      <td>1</td>\n",
       "      <td>0</td>\n",
       "      <td>0</td>\n",
       "      <td>1</td>\n",
       "      <td>0</td>\n",
       "      <td>1</td>\n",
       "      <td>0</td>\n",
       "      <td>53.85</td>\n",
       "      <td>1</td>\n",
       "    </tr>\n",
       "    <tr>\n",
       "      <th>3</th>\n",
       "      <td>7795-CFOCW</td>\n",
       "      <td>1</td>\n",
       "      <td>0</td>\n",
       "      <td>0</td>\n",
       "      <td>0</td>\n",
       "      <td>45</td>\n",
       "      <td>0</td>\n",
       "      <td>0</td>\n",
       "      <td>0</td>\n",
       "      <td>1</td>\n",
       "      <td>...</td>\n",
       "      <td>0</td>\n",
       "      <td>1</td>\n",
       "      <td>1</td>\n",
       "      <td>0</td>\n",
       "      <td>0</td>\n",
       "      <td>0</td>\n",
       "      <td>0</td>\n",
       "      <td>1</td>\n",
       "      <td>42.30</td>\n",
       "      <td>0</td>\n",
       "    </tr>\n",
       "    <tr>\n",
       "      <th>4</th>\n",
       "      <td>9237-HQITU</td>\n",
       "      <td>0</td>\n",
       "      <td>0</td>\n",
       "      <td>0</td>\n",
       "      <td>0</td>\n",
       "      <td>2</td>\n",
       "      <td>1</td>\n",
       "      <td>0</td>\n",
       "      <td>1</td>\n",
       "      <td>0</td>\n",
       "      <td>...</td>\n",
       "      <td>0</td>\n",
       "      <td>1</td>\n",
       "      <td>0</td>\n",
       "      <td>0</td>\n",
       "      <td>1</td>\n",
       "      <td>1</td>\n",
       "      <td>0</td>\n",
       "      <td>0</td>\n",
       "      <td>70.70</td>\n",
       "      <td>1</td>\n",
       "    </tr>\n",
       "  </tbody>\n",
       "</table>\n",
       "<p>5 rows × 31 columns</p>\n",
       "</div>"
      ],
      "text/plain": [
       "   customerID  Gender_Male  SeniorCitizen_True  Partner_True  Dependents_True  \\\n",
       "0  7590-VHVEG            0                   0             1                0   \n",
       "1  5575-GNVDE            1                   0             0                0   \n",
       "2  3668-QPYBK            1                   0             0                0   \n",
       "3  7795-CFOCW            1                   0             0                0   \n",
       "4  9237-HQITU            0                   0             0                0   \n",
       "\n",
       "   Tenure  PhoneService_True  MultipleLines_True  MultipleLines_False  \\\n",
       "0       1                  0                   0                    0   \n",
       "1      34                  1                   0                    1   \n",
       "2       2                  1                   0                    1   \n",
       "3      45                  0                   0                    0   \n",
       "4       2                  1                   0                    1   \n",
       "\n",
       "   InternetService_DSL  ...  StreamingMovies_True  StreamingMovies_False  \\\n",
       "0                    1  ...                     0                      1   \n",
       "1                    1  ...                     0                      1   \n",
       "2                    1  ...                     0                      1   \n",
       "3                    1  ...                     0                      1   \n",
       "4                    0  ...                     0                      1   \n",
       "\n",
       "   Contract_OneYear  Contract_TwoYear  PaperlessBilling_True  \\\n",
       "0                 0                 0                      1   \n",
       "1                 1                 0                      0   \n",
       "2                 0                 0                      1   \n",
       "3                 1                 0                      0   \n",
       "4                 0                 0                      1   \n",
       "\n",
       "   PaymentMethod_Electronic  PaymentMethod_Mailed  PaymentMethod_Bank  \\\n",
       "0                         1                     0                   0   \n",
       "1                         0                     1                   0   \n",
       "2                         0                     1                   0   \n",
       "3                         0                     0                   1   \n",
       "4                         1                     0                   0   \n",
       "\n",
       "   MonthlyCharges  Churn_Yes  \n",
       "0           29.85          0  \n",
       "1           56.95          0  \n",
       "2           53.85          1  \n",
       "3           42.30          0  \n",
       "4           70.70          1  \n",
       "\n",
       "[5 rows x 31 columns]"
      ]
     },
     "execution_count": 72,
     "metadata": {},
     "output_type": "execute_result"
    }
   ],
   "source": [
    "churn.head()"
   ]
  },
  {
   "cell_type": "code",
   "execution_count": 74,
   "metadata": {
    "ExecuteTime": {
     "end_time": "2020-02-14T20:49:25.464469Z",
     "start_time": "2020-02-14T20:49:25.437985Z"
    }
   },
   "outputs": [],
   "source": [
    "churn.dropna()\n",
    "churn=churn[churn.Tenure>0]"
   ]
  },
  {
   "cell_type": "code",
   "execution_count": 75,
   "metadata": {
    "ExecuteTime": {
     "end_time": "2020-02-14T20:49:26.723974Z",
     "start_time": "2020-02-14T20:49:26.710990Z"
    }
   },
   "outputs": [
    {
     "name": "stdout",
     "output_type": "stream",
     "text": [
      "<class 'pandas.core.frame.DataFrame'>\n",
      "Int64Index: 7032 entries, 0 to 7042\n",
      "Data columns (total 31 columns):\n",
      "customerID                  7032 non-null object\n",
      "Gender_Male                 7032 non-null int64\n",
      "SeniorCitizen_True          7032 non-null int64\n",
      "Partner_True                7032 non-null int64\n",
      "Dependents_True             7032 non-null int64\n",
      "Tenure                      7032 non-null int64\n",
      "PhoneService_True           7032 non-null int64\n",
      "MultipleLines_True          7032 non-null int64\n",
      "MultipleLines_False         7032 non-null int64\n",
      "InternetService_DSL         7032 non-null int64\n",
      "InternetService_Fiber       7032 non-null int64\n",
      "OnlineSecurity_True         7032 non-null int64\n",
      "OnlineSecurity_False        7032 non-null int64\n",
      "OnlineBackup_True           7032 non-null int64\n",
      "OnlineBackup_False          7032 non-null int64\n",
      "DeviceProtection_True       7032 non-null int64\n",
      "DeviceProtection_False      7032 non-null int64\n",
      "TechSupport_True            7032 non-null int64\n",
      "TechSupport_False           7032 non-null int64\n",
      "StreamingTV_True            7032 non-null int64\n",
      "StreamingTV_False           7032 non-null int64\n",
      "StreamingMovies_True        7032 non-null int64\n",
      "StreamingMovies_False       7032 non-null int64\n",
      "Contract_OneYear            7032 non-null int64\n",
      "Contract_TwoYear            7032 non-null int64\n",
      "PaperlessBilling_True       7032 non-null int64\n",
      "PaymentMethod_Electronic    7032 non-null int64\n",
      "PaymentMethod_Mailed        7032 non-null int64\n",
      "PaymentMethod_Bank          7032 non-null int64\n",
      "MonthlyCharges              7032 non-null float64\n",
      "Churn_Yes                   7032 non-null int64\n",
      "dtypes: float64(1), int64(29), object(1)\n",
      "memory usage: 1.7+ MB\n"
     ]
    }
   ],
   "source": [
    "churn.info()"
   ]
  },
  {
   "cell_type": "code",
   "execution_count": 78,
   "metadata": {
    "ExecuteTime": {
     "end_time": "2020-02-14T20:50:27.020026Z",
     "start_time": "2020-02-14T20:50:27.012739Z"
    }
   },
   "outputs": [
    {
     "data": {
      "text/plain": [
       "0    4616\n",
       "1    2416\n",
       "Name: InternetService_DSL, dtype: int64"
      ]
     },
     "execution_count": 78,
     "metadata": {},
     "output_type": "execute_result"
    }
   ],
   "source": [
    "churn[\"InternetService_DSL\"].value_counts()"
   ]
  },
  {
   "cell_type": "code",
   "execution_count": 79,
   "metadata": {
    "ExecuteTime": {
     "end_time": "2020-02-14T20:52:28.946592Z",
     "start_time": "2020-02-14T20:52:28.938613Z"
    }
   },
   "outputs": [
    {
     "data": {
      "text/plain": [
       "1    4168\n",
       "0    2864\n",
       "Name: PaperlessBilling_True, dtype: int64"
      ]
     },
     "execution_count": 79,
     "metadata": {},
     "output_type": "execute_result"
    }
   ],
   "source": [
    "churn[\"PaperlessBilling_True\"].value_counts()"
   ]
  },
  {
   "cell_type": "code",
   "execution_count": 80,
   "metadata": {
    "ExecuteTime": {
     "end_time": "2020-02-14T20:52:34.663526Z",
     "start_time": "2020-02-14T20:52:30.561744Z"
    }
   },
   "outputs": [
    {
     "data": {
      "image/png": "[encoded data removed]",
      "text/plain": [
       "<Figure size 1440x1440 with 30 Axes>"
      ]
     },
     "metadata": {
      "needs_background": "light"
     },
     "output_type": "display_data"
    }
   ],
   "source": [
    "#plotting with matplotlib\n",
    "\n",
    "%matplotlib inline\n",
    "import matplotlib.pyplot as plt\n",
    "churn.hist(bins=25, figsize=(20,20))\n",
    "plt.show()"
   ]
  },
  {
   "cell_type": "code",
   "execution_count": 81,
   "metadata": {
    "ExecuteTime": {
     "end_time": "2020-02-14T20:52:35.834697Z",
     "start_time": "2020-02-14T20:52:35.830709Z"
    }
   },
   "outputs": [],
   "source": [
    "# to make this notebook's output identical at every run\n",
    "np.random.seed(42)"
   ]
  },
  {
   "cell_type": "code",
   "execution_count": 82,
   "metadata": {
    "ExecuteTime": {
     "end_time": "2020-02-14T20:52:36.789704Z",
     "start_time": "2020-02-14T20:52:36.785713Z"
    }
   },
   "outputs": [],
   "source": [
    "# For illustration only. Sklearn has train_test_split()\n",
    "def split_train_test(data, test_ratio):\n",
    "    shuffled_indices = np.random.permutation(len(data))\n",
    "    test_set_size = int(len(data) * test_ratio)\n",
    "    test_indices = shuffled_indices[:test_set_size]\n",
    "    train_indices = shuffled_indices[test_set_size:]\n",
    "    return data.iloc[train_indices], data.iloc[test_indices]"
   ]
  },
  {
   "cell_type": "code",
   "execution_count": 83,
   "metadata": {
    "ExecuteTime": {
     "end_time": "2020-02-14T20:52:37.304719Z",
     "start_time": "2020-02-14T20:52:37.296662Z"
    }
   },
   "outputs": [
    {
     "name": "stdout",
     "output_type": "stream",
     "text": [
      "5626 train + 1406 test\n"
     ]
    }
   ],
   "source": [
    "train_set, test_set = split_train_test(churn, 0.2)\n",
    "print(len(train_set), \"train +\", len(test_set), \"test\")"
   ]
  },
  {
   "cell_type": "code",
   "execution_count": 84,
   "metadata": {
    "ExecuteTime": {
     "end_time": "2020-02-14T20:52:37.846584Z",
     "start_time": "2020-02-14T20:52:37.838606Z"
    }
   },
   "outputs": [],
   "source": [
    "from zlib import crc32\n",
    "\n",
    "def test_set_check(identifier, test_ratio):\n",
    "    return crc32(np.int64(identifier)) & 0xffffffff < test_ratio * 2**32\n",
    "\n",
    "def split_train_test_by_id(data, test_ratio, id_column):\n",
    "    ids = data[id_column]\n",
    "    in_test_set = ids.apply(lambda id_: test_set_check(id_, test_ratio))\n",
    "    return data.loc[~in_test_set], data.loc[in_test_set]"
   ]
  },
  {
   "cell_type": "code",
   "execution_count": 85,
   "metadata": {
    "ExecuteTime": {
     "end_time": "2020-02-14T20:52:38.519785Z",
     "start_time": "2020-02-14T20:52:38.514797Z"
    }
   },
   "outputs": [],
   "source": [
    "import hashlib\n",
    "\n",
    "def test_set_check(identifier, test_ratio, hash=hashlib.md5):\n",
    "    return hash(np.int64(identifier)).digest()[-1] < 256 * test_ratio\n",
    "def test_set_check(identifier, test_ratio, hash=hashlib.md5):\n",
    "    return bytearray(hash(np.int64(identifier)).digest())[-1] < 256 * test_ratio"
   ]
  },
  {
   "cell_type": "code",
   "execution_count": 86,
   "metadata": {
    "ExecuteTime": {
     "end_time": "2020-02-14T20:52:39.035969Z",
     "start_time": "2020-02-14T20:52:38.994043Z"
    }
   },
   "outputs": [],
   "source": [
    "churn_with_index = churn.reset_index()   # adds an `index` column\n",
    "train_set, test_set = split_train_test_by_id(churn_with_index, 0.2, \"index\")"
   ]
  },
  {
   "cell_type": "code",
   "execution_count": 87,
   "metadata": {
    "ExecuteTime": {
     "end_time": "2020-02-14T20:52:39.496867Z",
     "start_time": "2020-02-14T20:52:39.488299Z"
    }
   },
   "outputs": [],
   "source": [
    "\n",
    "from sklearn.model_selection import train_test_split\n",
    "\n",
    "train_set, test_set = train_test_split(churn, test_size=0.2, random_state=42)"
   ]
  },
  {
   "cell_type": "code",
   "execution_count": 88,
   "metadata": {
    "ExecuteTime": {
     "end_time": "2020-02-14T20:52:40.060325Z",
     "start_time": "2020-02-14T20:52:40.039842Z"
    }
   },
   "outputs": [
    {
     "data": {
      "text/html": [
       "<div>\n",
       "<style scoped>\n",
       "    .dataframe tbody tr th:only-of-type {\n",
       "        vertical-align: middle;\n",
       "    }\n",
       "\n",
       "    .dataframe tbody tr th {\n",
       "        vertical-align: top;\n",
       "    }\n",
       "\n",
       "    .dataframe thead th {\n",
       "        text-align: right;\n",
       "    }\n",
       "</style>\n",
       "<table border=\"1\" class=\"dataframe\">\n",
       "  <thead>\n",
       "    <tr style=\"text-align: right;\">\n",
       "      <th></th>\n",
       "      <th>customerID</th>\n",
       "      <th>Gender_Male</th>\n",
       "      <th>SeniorCitizen_True</th>\n",
       "      <th>Partner_True</th>\n",
       "      <th>Dependents_True</th>\n",
       "      <th>Tenure</th>\n",
       "      <th>PhoneService_True</th>\n",
       "      <th>MultipleLines_True</th>\n",
       "      <th>MultipleLines_False</th>\n",
       "      <th>InternetService_DSL</th>\n",
       "      <th>...</th>\n",
       "      <th>StreamingMovies_True</th>\n",
       "      <th>StreamingMovies_False</th>\n",
       "      <th>Contract_OneYear</th>\n",
       "      <th>Contract_TwoYear</th>\n",
       "      <th>PaperlessBilling_True</th>\n",
       "      <th>PaymentMethod_Electronic</th>\n",
       "      <th>PaymentMethod_Mailed</th>\n",
       "      <th>PaymentMethod_Bank</th>\n",
       "      <th>MonthlyCharges</th>\n",
       "      <th>Churn_Yes</th>\n",
       "    </tr>\n",
       "  </thead>\n",
       "  <tbody>\n",
       "    <tr>\n",
       "      <th>2481</th>\n",
       "      <td>6614-YWYSC</td>\n",
       "      <td>1</td>\n",
       "      <td>1</td>\n",
       "      <td>1</td>\n",
       "      <td>0</td>\n",
       "      <td>61</td>\n",
       "      <td>1</td>\n",
       "      <td>1</td>\n",
       "      <td>0</td>\n",
       "      <td>0</td>\n",
       "      <td>...</td>\n",
       "      <td>0</td>\n",
       "      <td>0</td>\n",
       "      <td>0</td>\n",
       "      <td>1</td>\n",
       "      <td>0</td>\n",
       "      <td>0</td>\n",
       "      <td>0</td>\n",
       "      <td>1</td>\n",
       "      <td>25.00</td>\n",
       "      <td>0</td>\n",
       "    </tr>\n",
       "    <tr>\n",
       "      <th>6784</th>\n",
       "      <td>9546-KDTRB</td>\n",
       "      <td>0</td>\n",
       "      <td>0</td>\n",
       "      <td>0</td>\n",
       "      <td>0</td>\n",
       "      <td>19</td>\n",
       "      <td>1</td>\n",
       "      <td>1</td>\n",
       "      <td>0</td>\n",
       "      <td>0</td>\n",
       "      <td>...</td>\n",
       "      <td>0</td>\n",
       "      <td>0</td>\n",
       "      <td>0</td>\n",
       "      <td>0</td>\n",
       "      <td>0</td>\n",
       "      <td>0</td>\n",
       "      <td>0</td>\n",
       "      <td>1</td>\n",
       "      <td>24.70</td>\n",
       "      <td>0</td>\n",
       "    </tr>\n",
       "    <tr>\n",
       "      <th>6125</th>\n",
       "      <td>0871-URUWO</td>\n",
       "      <td>1</td>\n",
       "      <td>0</td>\n",
       "      <td>1</td>\n",
       "      <td>0</td>\n",
       "      <td>13</td>\n",
       "      <td>1</td>\n",
       "      <td>1</td>\n",
       "      <td>0</td>\n",
       "      <td>0</td>\n",
       "      <td>...</td>\n",
       "      <td>1</td>\n",
       "      <td>0</td>\n",
       "      <td>0</td>\n",
       "      <td>0</td>\n",
       "      <td>1</td>\n",
       "      <td>0</td>\n",
       "      <td>0</td>\n",
       "      <td>0</td>\n",
       "      <td>102.25</td>\n",
       "      <td>1</td>\n",
       "    </tr>\n",
       "    <tr>\n",
       "      <th>3052</th>\n",
       "      <td>5151-HQRDG</td>\n",
       "      <td>1</td>\n",
       "      <td>0</td>\n",
       "      <td>1</td>\n",
       "      <td>0</td>\n",
       "      <td>37</td>\n",
       "      <td>1</td>\n",
       "      <td>1</td>\n",
       "      <td>0</td>\n",
       "      <td>1</td>\n",
       "      <td>...</td>\n",
       "      <td>0</td>\n",
       "      <td>1</td>\n",
       "      <td>0</td>\n",
       "      <td>0</td>\n",
       "      <td>1</td>\n",
       "      <td>0</td>\n",
       "      <td>1</td>\n",
       "      <td>0</td>\n",
       "      <td>55.05</td>\n",
       "      <td>0</td>\n",
       "    </tr>\n",
       "    <tr>\n",
       "      <th>4099</th>\n",
       "      <td>6624-JDRDS</td>\n",
       "      <td>0</td>\n",
       "      <td>0</td>\n",
       "      <td>0</td>\n",
       "      <td>0</td>\n",
       "      <td>6</td>\n",
       "      <td>0</td>\n",
       "      <td>0</td>\n",
       "      <td>0</td>\n",
       "      <td>1</td>\n",
       "      <td>...</td>\n",
       "      <td>0</td>\n",
       "      <td>1</td>\n",
       "      <td>0</td>\n",
       "      <td>0</td>\n",
       "      <td>0</td>\n",
       "      <td>0</td>\n",
       "      <td>0</td>\n",
       "      <td>1</td>\n",
       "      <td>29.45</td>\n",
       "      <td>0</td>\n",
       "    </tr>\n",
       "  </tbody>\n",
       "</table>\n",
       "<p>5 rows × 31 columns</p>\n",
       "</div>"
      ],
      "text/plain": [
       "      customerID  Gender_Male  SeniorCitizen_True  Partner_True  \\\n",
       "2481  6614-YWYSC            1                   1             1   \n",
       "6784  9546-KDTRB            0                   0             0   \n",
       "6125  0871-URUWO            1                   0             1   \n",
       "3052  5151-HQRDG            1                   0             1   \n",
       "4099  6624-JDRDS            0                   0             0   \n",
       "\n",
       "      Dependents_True  Tenure  PhoneService_True  MultipleLines_True  \\\n",
       "2481                0      61                  1                   1   \n",
       "6784                0      19                  1                   1   \n",
       "6125                0      13                  1                   1   \n",
       "3052                0      37                  1                   1   \n",
       "4099                0       6                  0                   0   \n",
       "\n",
       "      MultipleLines_False  InternetService_DSL  ...  StreamingMovies_True  \\\n",
       "2481                    0                    0  ...                     0   \n",
       "6784                    0                    0  ...                     0   \n",
       "6125                    0                    0  ...                     1   \n",
       "3052                    0                    1  ...                     0   \n",
       "4099                    0                    1  ...                     0   \n",
       "\n",
       "      StreamingMovies_False  Contract_OneYear  Contract_TwoYear  \\\n",
       "2481                      0                 0                 1   \n",
       "6784                      0                 0                 0   \n",
       "6125                      0                 0                 0   \n",
       "3052                      1                 0                 0   \n",
       "4099                      1                 0                 0   \n",
       "\n",
       "      PaperlessBilling_True  PaymentMethod_Electronic  PaymentMethod_Mailed  \\\n",
       "2481                      0                         0                     0   \n",
       "6784                      0                         0                     0   \n",
       "6125                      1                         0                     0   \n",
       "3052                      1                         0                     1   \n",
       "4099                      0                         0                     0   \n",
       "\n",
       "      PaymentMethod_Bank  MonthlyCharges  Churn_Yes  \n",
       "2481                   1           25.00          0  \n",
       "6784                   1           24.70          0  \n",
       "6125                   0          102.25          1  \n",
       "3052                   0           55.05          0  \n",
       "4099                   1           29.45          0  \n",
       "\n",
       "[5 rows x 31 columns]"
      ]
     },
     "execution_count": 88,
     "metadata": {},
     "output_type": "execute_result"
    }
   ],
   "source": [
    "test_set.head()\n"
   ]
  },
  {
   "cell_type": "code",
   "execution_count": 90,
   "metadata": {
    "ExecuteTime": {
     "end_time": "2020-02-14T20:52:43.923569Z",
     "start_time": "2020-02-14T20:52:43.916566Z"
    }
   },
   "outputs": [
    {
     "data": {
      "text/plain": [
       "1     613\n",
       "72    362\n",
       "2     238\n",
       "3     200\n",
       "4     176\n",
       "71    170\n",
       "5     133\n",
       "7     131\n",
       "8     123\n",
       "70    119\n",
       "9     119\n",
       "12    117\n",
       "10    116\n",
       "6     110\n",
       "13    109\n",
       "68    100\n",
       "15     99\n",
       "11     99\n",
       "67     98\n",
       "18     97\n",
       "69     95\n",
       "24     94\n",
       "22     90\n",
       "66     89\n",
       "35     88\n",
       "17     87\n",
       "23     85\n",
       "16     80\n",
       "64     80\n",
       "52     80\n",
       "     ... \n",
       "29     72\n",
       "20     71\n",
       "53     70\n",
       "62     70\n",
       "41     70\n",
       "32     69\n",
       "47     68\n",
       "51     68\n",
       "54     68\n",
       "50     68\n",
       "58     67\n",
       "49     66\n",
       "57     65\n",
       "37     65\n",
       "31     65\n",
       "43     65\n",
       "34     65\n",
       "42     65\n",
       "40     64\n",
       "48     64\n",
       "33     64\n",
       "55     64\n",
       "21     63\n",
       "45     61\n",
       "59     60\n",
       "38     59\n",
       "28     57\n",
       "39     56\n",
       "44     51\n",
       "36     50\n",
       "Name: Tenure, Length: 72, dtype: int64"
      ]
     },
     "execution_count": 90,
     "metadata": {},
     "output_type": "execute_result"
    }
   ],
   "source": [
    "churn[\"Tenure\"].value_counts()"
   ]
  },
  {
   "cell_type": "code",
   "execution_count": 91,
   "metadata": {
    "ExecuteTime": {
     "end_time": "2020-02-14T20:52:49.426420Z",
     "start_time": "2020-02-14T20:52:49.268242Z"
    }
   },
   "outputs": [
    {
     "data": {
      "text/plain": [
       "<matplotlib.axes._subplots.AxesSubplot at 0x1730598ea90>"
      ]
     },
     "execution_count": 91,
     "metadata": {},
     "output_type": "execute_result"
    },
    {
     "data": {
      "image/png": "[encoded data removed]",
      "text/plain": [
       "<Figure size 432x288 with 1 Axes>"
      ]
     },
     "metadata": {
      "needs_background": "light"
     },
     "output_type": "display_data"
    }
   ],
   "source": [
    "churn[\"Tenure\"].hist()"
   ]
  },
  {
   "cell_type": "code",
   "execution_count": 92,
   "metadata": {
    "ExecuteTime": {
     "end_time": "2020-02-14T20:52:58.218691Z",
     "start_time": "2020-02-14T20:52:58.089026Z"
    }
   },
   "outputs": [],
   "source": [
    "churn[\"tenure_cat\"] = pd.cut(churn[\"Tenure\"],\n",
    "                               bins=[0,5,10,15,20,25,70,np.inf],\n",
    "                               labels=[1, 2, 3, 4,5,6,7])\n",
    "# Label those above 5 as 5\n",
    "churn[\"tenure_cat\"].where(churn[\"tenure_cat\"] < 7, 7.0, inplace=True)"
   ]
  },
  {
   "cell_type": "code",
   "execution_count": 93,
   "metadata": {
    "ExecuteTime": {
     "end_time": "2020-02-14T20:52:59.179923Z",
     "start_time": "2020-02-14T20:52:59.172941Z"
    }
   },
   "outputs": [
    {
     "data": {
      "text/plain": [
       "6    3222\n",
       "1    1360\n",
       "2     599\n",
       "7     532\n",
       "3     500\n",
       "5     411\n",
       "4     408\n",
       "Name: tenure_cat, dtype: int64"
      ]
     },
     "execution_count": 93,
     "metadata": {},
     "output_type": "execute_result"
    }
   ],
   "source": [
    "churn[\"tenure_cat\"].value_counts()"
   ]
  },
  {
   "cell_type": "code",
   "execution_count": 94,
   "metadata": {
    "ExecuteTime": {
     "end_time": "2020-02-14T20:52:59.925440Z",
     "start_time": "2020-02-14T20:52:59.773877Z"
    },
    "scrolled": true
   },
   "outputs": [
    {
     "data": {
      "text/plain": [
       "<matplotlib.axes._subplots.AxesSubplot at 0x173033aba20>"
      ]
     },
     "execution_count": 94,
     "metadata": {},
     "output_type": "execute_result"
    },
    {
     "data": {
      "image/png": "[encoded data removed]",
      "text/plain": [
       "<Figure size 432x288 with 1 Axes>"
      ]
     },
     "metadata": {
      "needs_background": "light"
     },
     "output_type": "display_data"
    }
   ],
   "source": [
    "churn[\"tenure_cat\"].hist()"
   ]
  },
  {
   "cell_type": "code",
   "execution_count": 95,
   "metadata": {
    "ExecuteTime": {
     "end_time": "2020-02-14T20:53:00.303198Z",
     "start_time": "2020-02-14T20:53:00.295215Z"
    }
   },
   "outputs": [
    {
     "data": {
      "text/plain": [
       "6    0.458191\n",
       "1    0.193402\n",
       "2    0.085182\n",
       "7    0.075654\n",
       "3    0.071104\n",
       "5    0.058447\n",
       "4    0.058020\n",
       "Name: tenure_cat, dtype: float64"
      ]
     },
     "execution_count": 95,
     "metadata": {},
     "output_type": "execute_result"
    }
   ],
   "source": [
    "churn[\"tenure_cat\"].value_counts() / len(churn)"
   ]
  },
  {
   "cell_type": "code",
   "execution_count": 96,
   "metadata": {
    "ExecuteTime": {
     "end_time": "2020-02-14T20:53:02.158814Z",
     "start_time": "2020-02-14T20:53:02.146831Z"
    }
   },
   "outputs": [
    {
     "name": "stderr",
     "output_type": "stream",
     "text": [
      "C:\\Users\\torim\\Anaconda3\\lib\\site-packages\\ipykernel_launcher.py:5: FutureWarning: \n",
      "Passing list-likes to .loc or [] with any missing label will raise\n",
      "KeyError in the future, you can use .reindex() as an alternative.\n",
      "\n",
      "See the documentation here:\n",
      "https://pandas.pydata.org/pandas-docs/stable/indexing.html#deprecate-loc-reindex-listlike\n",
      "  \"\"\"\n",
      "C:\\Users\\torim\\Anaconda3\\lib\\site-packages\\ipykernel_launcher.py:6: FutureWarning: \n",
      "Passing list-likes to .loc or [] with any missing label will raise\n",
      "KeyError in the future, you can use .reindex() as an alternative.\n",
      "\n",
      "See the documentation here:\n",
      "https://pandas.pydata.org/pandas-docs/stable/indexing.html#deprecate-loc-reindex-listlike\n",
      "  \n"
     ]
    }
   ],
   "source": [
    "from sklearn.model_selection import StratifiedShuffleSplit\n",
    "\n",
    "split = StratifiedShuffleSplit(n_splits=1, test_size=0.2, random_state=42)\n",
    "for train_index, test_index in split.split(churn, churn[\"tenure_cat\"]):\n",
    "    strat_train_set = churn.loc[train_index]\n",
    "    strat_test_set = churn.loc[test_index]"
   ]
  },
  {
   "cell_type": "code",
   "execution_count": 97,
   "metadata": {
    "ExecuteTime": {
     "end_time": "2020-02-14T20:53:05.613474Z",
     "start_time": "2020-02-14T20:53:05.602507Z"
    }
   },
   "outputs": [
    {
     "data": {
      "text/plain": [
       "6    0.456290\n",
       "1    0.205402\n",
       "2    0.079602\n",
       "3    0.068230\n",
       "4    0.063966\n",
       "7    0.063255\n",
       "5    0.062544\n",
       "Name: tenure_cat, dtype: float64"
      ]
     },
     "execution_count": 97,
     "metadata": {},
     "output_type": "execute_result"
    }
   ],
   "source": [
    "strat_test_set[\"tenure_cat\"].value_counts() / len(strat_test_set)"
   ]
  },
  {
   "cell_type": "code",
   "execution_count": 98,
   "metadata": {
    "ExecuteTime": {
     "end_time": "2020-02-14T20:53:06.053720Z",
     "start_time": "2020-02-14T20:53:06.044674Z"
    }
   },
   "outputs": [
    {
     "data": {
      "text/plain": [
       "6    0.458191\n",
       "1    0.193402\n",
       "2    0.085182\n",
       "7    0.075654\n",
       "3    0.071104\n",
       "5    0.058447\n",
       "4    0.058020\n",
       "Name: tenure_cat, dtype: float64"
      ]
     },
     "execution_count": 98,
     "metadata": {},
     "output_type": "execute_result"
    }
   ],
   "source": [
    "churn[\"tenure_cat\"].value_counts() / len(churn)"
   ]
  },
  {
   "cell_type": "code",
   "execution_count": 99,
   "metadata": {
    "ExecuteTime": {
     "end_time": "2020-02-14T20:53:06.707387Z",
     "start_time": "2020-02-14T20:53:06.680946Z"
    }
   },
   "outputs": [],
   "source": [
    "def tenure_cat_proportions(data):\n",
    "    return data[\"tenure_cat\"].value_counts() / len(data)\n",
    "\n",
    "train_set, test_set = train_test_split(churn, test_size=0.2, random_state=42)\n",
    "\n",
    "compare_props = pd.DataFrame({\n",
    "    \"Overall\": tenure_cat_proportions(churn),\n",
    "    \"Stratified\": tenure_cat_proportions(strat_test_set),\n",
    "    \"Random\": tenure_cat_proportions(test_set),\n",
    "}).sort_index()\n",
    "compare_props[\"Rand. %error\"] = 100 * compare_props[\"Random\"] / compare_props[\"Overall\"] - 100\n",
    "compare_props[\"Strat. %error\"] = 100 * compare_props[\"Stratified\"] / compare_props[\"Overall\"] - 100"
   ]
  },
  {
   "cell_type": "code",
   "execution_count": 100,
   "metadata": {
    "ExecuteTime": {
     "end_time": "2020-02-14T20:53:07.926457Z",
     "start_time": "2020-02-14T20:53:07.918466Z"
    }
   },
   "outputs": [
    {
     "data": {
      "text/html": [
       "<div>\n",
       "<style scoped>\n",
       "    .dataframe tbody tr th:only-of-type {\n",
       "        vertical-align: middle;\n",
       "    }\n",
       "\n",
       "    .dataframe tbody tr th {\n",
       "        vertical-align: top;\n",
       "    }\n",
       "\n",
       "    .dataframe thead th {\n",
       "        text-align: right;\n",
       "    }\n",
       "</style>\n",
       "<table border=\"1\" class=\"dataframe\">\n",
       "  <thead>\n",
       "    <tr style=\"text-align: right;\">\n",
       "      <th></th>\n",
       "      <th>Overall</th>\n",
       "      <th>Stratified</th>\n",
       "      <th>Random</th>\n",
       "      <th>Rand. %error</th>\n",
       "      <th>Strat. %error</th>\n",
       "    </tr>\n",
       "  </thead>\n",
       "  <tbody>\n",
       "    <tr>\n",
       "      <th>1</th>\n",
       "      <td>0.193402</td>\n",
       "      <td>0.205402</td>\n",
       "      <td>0.191187</td>\n",
       "      <td>-1.145115</td>\n",
       "      <td>6.204691</td>\n",
       "    </tr>\n",
       "    <tr>\n",
       "      <th>2</th>\n",
       "      <td>0.085182</td>\n",
       "      <td>0.079602</td>\n",
       "      <td>0.073205</td>\n",
       "      <td>-14.060036</td>\n",
       "      <td>-6.550719</td>\n",
       "    </tr>\n",
       "    <tr>\n",
       "      <th>3</th>\n",
       "      <td>0.071104</td>\n",
       "      <td>0.068230</td>\n",
       "      <td>0.072495</td>\n",
       "      <td>1.956503</td>\n",
       "      <td>-4.040938</td>\n",
       "    </tr>\n",
       "    <tr>\n",
       "      <th>4</th>\n",
       "      <td>0.058020</td>\n",
       "      <td>0.063966</td>\n",
       "      <td>0.071073</td>\n",
       "      <td>22.496760</td>\n",
       "      <td>10.247084</td>\n",
       "    </tr>\n",
       "    <tr>\n",
       "      <th>5</th>\n",
       "      <td>0.058447</td>\n",
       "      <td>0.062544</td>\n",
       "      <td>0.055437</td>\n",
       "      <td>-5.149954</td>\n",
       "      <td>7.010308</td>\n",
       "    </tr>\n",
       "    <tr>\n",
       "      <th>6</th>\n",
       "      <td>0.458191</td>\n",
       "      <td>0.456290</td>\n",
       "      <td>0.459844</td>\n",
       "      <td>0.360660</td>\n",
       "      <td>-0.414925</td>\n",
       "    </tr>\n",
       "    <tr>\n",
       "      <th>7</th>\n",
       "      <td>0.075654</td>\n",
       "      <td>0.063255</td>\n",
       "      <td>0.076759</td>\n",
       "      <td>1.460474</td>\n",
       "      <td>-16.389054</td>\n",
       "    </tr>\n",
       "  </tbody>\n",
       "</table>\n",
       "</div>"
      ],
      "text/plain": [
       "    Overall  Stratified    Random  Rand. %error  Strat. %error\n",
       "1  0.193402    0.205402  0.191187     -1.145115       6.204691\n",
       "2  0.085182    0.079602  0.073205    -14.060036      -6.550719\n",
       "3  0.071104    0.068230  0.072495      1.956503      -4.040938\n",
       "4  0.058020    0.063966  0.071073     22.496760      10.247084\n",
       "5  0.058447    0.062544  0.055437     -5.149954       7.010308\n",
       "6  0.458191    0.456290  0.459844      0.360660      -0.414925\n",
       "7  0.075654    0.063255  0.076759      1.460474     -16.389054"
      ]
     },
     "execution_count": 100,
     "metadata": {},
     "output_type": "execute_result"
    }
   ],
   "source": [
    "compare_props"
   ]
  },
  {
   "cell_type": "code",
   "execution_count": 101,
   "metadata": {
    "ExecuteTime": {
     "end_time": "2020-02-14T20:53:08.312413Z",
     "start_time": "2020-02-14T20:53:08.300445Z"
    }
   },
   "outputs": [],
   "source": [
    "for set_ in (strat_train_set, strat_test_set):\n",
    "    set_.drop(\"tenure_cat\", axis=1, inplace=True)"
   ]
  },
  {
   "cell_type": "code",
   "execution_count": 102,
   "metadata": {
    "ExecuteTime": {
     "end_time": "2020-02-14T20:53:08.619111Z",
     "start_time": "2020-02-14T20:53:08.616114Z"
    },
    "code_folding": []
   },
   "outputs": [],
   "source": [
    "#### Visualize Data"
   ]
  },
  {
   "cell_type": "code",
   "execution_count": 103,
   "metadata": {
    "ExecuteTime": {
     "end_time": "2020-02-14T20:53:09.197583Z",
     "start_time": "2020-02-14T20:53:09.170631Z"
    }
   },
   "outputs": [
    {
     "data": {
      "text/html": [
       "<div>\n",
       "<style scoped>\n",
       "    .dataframe tbody tr th:only-of-type {\n",
       "        vertical-align: middle;\n",
       "    }\n",
       "\n",
       "    .dataframe tbody tr th {\n",
       "        vertical-align: top;\n",
       "    }\n",
       "\n",
       "    .dataframe thead th {\n",
       "        text-align: right;\n",
       "    }\n",
       "</style>\n",
       "<table border=\"1\" class=\"dataframe\">\n",
       "  <thead>\n",
       "    <tr style=\"text-align: right;\">\n",
       "      <th></th>\n",
       "      <th>customerID</th>\n",
       "      <th>Gender_Male</th>\n",
       "      <th>SeniorCitizen_True</th>\n",
       "      <th>Partner_True</th>\n",
       "      <th>Dependents_True</th>\n",
       "      <th>Tenure</th>\n",
       "      <th>PhoneService_True</th>\n",
       "      <th>MultipleLines_True</th>\n",
       "      <th>MultipleLines_False</th>\n",
       "      <th>InternetService_DSL</th>\n",
       "      <th>...</th>\n",
       "      <th>StreamingMovies_True</th>\n",
       "      <th>StreamingMovies_False</th>\n",
       "      <th>Contract_OneYear</th>\n",
       "      <th>Contract_TwoYear</th>\n",
       "      <th>PaperlessBilling_True</th>\n",
       "      <th>PaymentMethod_Electronic</th>\n",
       "      <th>PaymentMethod_Mailed</th>\n",
       "      <th>PaymentMethod_Bank</th>\n",
       "      <th>MonthlyCharges</th>\n",
       "      <th>Churn_Yes</th>\n",
       "    </tr>\n",
       "  </thead>\n",
       "  <tbody>\n",
       "    <tr>\n",
       "      <th>5882</th>\n",
       "      <td>2138-VFAPZ</td>\n",
       "      <td>0.0</td>\n",
       "      <td>0.0</td>\n",
       "      <td>1.0</td>\n",
       "      <td>1.0</td>\n",
       "      <td>14.0</td>\n",
       "      <td>1.0</td>\n",
       "      <td>0.0</td>\n",
       "      <td>1.0</td>\n",
       "      <td>0.0</td>\n",
       "      <td>...</td>\n",
       "      <td>0.0</td>\n",
       "      <td>0.0</td>\n",
       "      <td>0.0</td>\n",
       "      <td>1.0</td>\n",
       "      <td>1.0</td>\n",
       "      <td>0.0</td>\n",
       "      <td>1.0</td>\n",
       "      <td>0.0</td>\n",
       "      <td>19.70</td>\n",
       "      <td>0.0</td>\n",
       "    </tr>\n",
       "    <tr>\n",
       "      <th>3614</th>\n",
       "      <td>8039-EQPIM</td>\n",
       "      <td>1.0</td>\n",
       "      <td>0.0</td>\n",
       "      <td>1.0</td>\n",
       "      <td>0.0</td>\n",
       "      <td>69.0</td>\n",
       "      <td>0.0</td>\n",
       "      <td>0.0</td>\n",
       "      <td>0.0</td>\n",
       "      <td>1.0</td>\n",
       "      <td>...</td>\n",
       "      <td>1.0</td>\n",
       "      <td>0.0</td>\n",
       "      <td>0.0</td>\n",
       "      <td>1.0</td>\n",
       "      <td>0.0</td>\n",
       "      <td>0.0</td>\n",
       "      <td>0.0</td>\n",
       "      <td>1.0</td>\n",
       "      <td>60.25</td>\n",
       "      <td>0.0</td>\n",
       "    </tr>\n",
       "    <tr>\n",
       "      <th>923</th>\n",
       "      <td>9199-PWQVC</td>\n",
       "      <td>0.0</td>\n",
       "      <td>0.0</td>\n",
       "      <td>1.0</td>\n",
       "      <td>0.0</td>\n",
       "      <td>63.0</td>\n",
       "      <td>1.0</td>\n",
       "      <td>1.0</td>\n",
       "      <td>0.0</td>\n",
       "      <td>1.0</td>\n",
       "      <td>...</td>\n",
       "      <td>1.0</td>\n",
       "      <td>0.0</td>\n",
       "      <td>1.0</td>\n",
       "      <td>0.0</td>\n",
       "      <td>1.0</td>\n",
       "      <td>0.0</td>\n",
       "      <td>0.0</td>\n",
       "      <td>0.0</td>\n",
       "      <td>79.70</td>\n",
       "      <td>0.0</td>\n",
       "    </tr>\n",
       "    <tr>\n",
       "      <th>609</th>\n",
       "      <td>3419-SNJJD</td>\n",
       "      <td>0.0</td>\n",
       "      <td>1.0</td>\n",
       "      <td>1.0</td>\n",
       "      <td>0.0</td>\n",
       "      <td>65.0</td>\n",
       "      <td>1.0</td>\n",
       "      <td>1.0</td>\n",
       "      <td>0.0</td>\n",
       "      <td>0.0</td>\n",
       "      <td>...</td>\n",
       "      <td>1.0</td>\n",
       "      <td>0.0</td>\n",
       "      <td>0.0</td>\n",
       "      <td>0.0</td>\n",
       "      <td>0.0</td>\n",
       "      <td>0.0</td>\n",
       "      <td>0.0</td>\n",
       "      <td>1.0</td>\n",
       "      <td>105.25</td>\n",
       "      <td>1.0</td>\n",
       "    </tr>\n",
       "    <tr>\n",
       "      <th>5042</th>\n",
       "      <td>1561-BWHIN</td>\n",
       "      <td>1.0</td>\n",
       "      <td>0.0</td>\n",
       "      <td>1.0</td>\n",
       "      <td>1.0</td>\n",
       "      <td>19.0</td>\n",
       "      <td>1.0</td>\n",
       "      <td>0.0</td>\n",
       "      <td>1.0</td>\n",
       "      <td>0.0</td>\n",
       "      <td>...</td>\n",
       "      <td>0.0</td>\n",
       "      <td>0.0</td>\n",
       "      <td>1.0</td>\n",
       "      <td>0.0</td>\n",
       "      <td>0.0</td>\n",
       "      <td>0.0</td>\n",
       "      <td>1.0</td>\n",
       "      <td>0.0</td>\n",
       "      <td>19.80</td>\n",
       "      <td>0.0</td>\n",
       "    </tr>\n",
       "  </tbody>\n",
       "</table>\n",
       "<p>5 rows × 31 columns</p>\n",
       "</div>"
      ],
      "text/plain": [
       "      customerID  Gender_Male  SeniorCitizen_True  Partner_True  \\\n",
       "5882  2138-VFAPZ          0.0                 0.0           1.0   \n",
       "3614  8039-EQPIM          1.0                 0.0           1.0   \n",
       "923   9199-PWQVC          0.0                 0.0           1.0   \n",
       "609   3419-SNJJD          0.0                 1.0           1.0   \n",
       "5042  1561-BWHIN          1.0                 0.0           1.0   \n",
       "\n",
       "      Dependents_True  Tenure  PhoneService_True  MultipleLines_True  \\\n",
       "5882              1.0    14.0                1.0                 0.0   \n",
       "3614              0.0    69.0                0.0                 0.0   \n",
       "923               0.0    63.0                1.0                 1.0   \n",
       "609               0.0    65.0                1.0                 1.0   \n",
       "5042              1.0    19.0                1.0                 0.0   \n",
       "\n",
       "      MultipleLines_False  InternetService_DSL  ...  StreamingMovies_True  \\\n",
       "5882                  1.0                  0.0  ...                   0.0   \n",
       "3614                  0.0                  1.0  ...                   1.0   \n",
       "923                   0.0                  1.0  ...                   1.0   \n",
       "609                   0.0                  0.0  ...                   1.0   \n",
       "5042                  1.0                  0.0  ...                   0.0   \n",
       "\n",
       "      StreamingMovies_False  Contract_OneYear  Contract_TwoYear  \\\n",
       "5882                    0.0               0.0               1.0   \n",
       "3614                    0.0               0.0               1.0   \n",
       "923                     0.0               1.0               0.0   \n",
       "609                     0.0               0.0               0.0   \n",
       "5042                    0.0               1.0               0.0   \n",
       "\n",
       "      PaperlessBilling_True  PaymentMethod_Electronic  PaymentMethod_Mailed  \\\n",
       "5882                    1.0                       0.0                   1.0   \n",
       "3614                    0.0                       0.0                   0.0   \n",
       "923                     1.0                       0.0                   0.0   \n",
       "609                     0.0                       0.0                   0.0   \n",
       "5042                    0.0                       0.0                   1.0   \n",
       "\n",
       "      PaymentMethod_Bank  MonthlyCharges  Churn_Yes  \n",
       "5882                 0.0           19.70        0.0  \n",
       "3614                 1.0           60.25        0.0  \n",
       "923                  0.0           79.70        0.0  \n",
       "609                  1.0          105.25        1.0  \n",
       "5042                 0.0           19.80        0.0  \n",
       "\n",
       "[5 rows x 31 columns]"
      ]
     },
     "execution_count": 103,
     "metadata": {},
     "output_type": "execute_result"
    }
   ],
   "source": [
    "churn1 = strat_train_set.copy()\n",
    "churn1.head()"
   ]
  },
  {
   "cell_type": "code",
   "execution_count": 104,
   "metadata": {
    "ExecuteTime": {
     "end_time": "2020-02-14T20:53:09.743635Z",
     "start_time": "2020-02-14T20:53:09.699738Z"
    }
   },
   "outputs": [
    {
     "data": {
      "text/html": [
       "<div>\n",
       "<style scoped>\n",
       "    .dataframe tbody tr th:only-of-type {\n",
       "        vertical-align: middle;\n",
       "    }\n",
       "\n",
       "    .dataframe tbody tr th {\n",
       "        vertical-align: top;\n",
       "    }\n",
       "\n",
       "    .dataframe thead th {\n",
       "        text-align: right;\n",
       "    }\n",
       "</style>\n",
       "<table border=\"1\" class=\"dataframe\">\n",
       "  <thead>\n",
       "    <tr style=\"text-align: right;\">\n",
       "      <th></th>\n",
       "      <th>Gender_Male</th>\n",
       "      <th>SeniorCitizen_True</th>\n",
       "      <th>Partner_True</th>\n",
       "      <th>Dependents_True</th>\n",
       "      <th>Tenure</th>\n",
       "      <th>PhoneService_True</th>\n",
       "      <th>MultipleLines_True</th>\n",
       "      <th>MultipleLines_False</th>\n",
       "      <th>InternetService_DSL</th>\n",
       "      <th>InternetService_Fiber</th>\n",
       "      <th>...</th>\n",
       "      <th>StreamingMovies_True</th>\n",
       "      <th>StreamingMovies_False</th>\n",
       "      <th>Contract_OneYear</th>\n",
       "      <th>Contract_TwoYear</th>\n",
       "      <th>PaperlessBilling_True</th>\n",
       "      <th>PaymentMethod_Electronic</th>\n",
       "      <th>PaymentMethod_Mailed</th>\n",
       "      <th>PaymentMethod_Bank</th>\n",
       "      <th>MonthlyCharges</th>\n",
       "      <th>Churn_Yes</th>\n",
       "    </tr>\n",
       "  </thead>\n",
       "  <tbody>\n",
       "    <tr>\n",
       "      <th>Gender_Male</th>\n",
       "      <td>1.000000</td>\n",
       "      <td>0.005286</td>\n",
       "      <td>-0.000837</td>\n",
       "      <td>0.000892</td>\n",
       "      <td>0.001491</td>\n",
       "      <td>-0.008430</td>\n",
       "      <td>-0.006819</td>\n",
       "      <td>0.001765</td>\n",
       "      <td>0.005199</td>\n",
       "      <td>-0.005737</td>\n",
       "      <td>...</td>\n",
       "      <td>-0.007804</td>\n",
       "      <td>0.007014</td>\n",
       "      <td>-0.001040</td>\n",
       "      <td>-0.008608</td>\n",
       "      <td>-0.008802</td>\n",
       "      <td>0.017180</td>\n",
       "      <td>0.006535</td>\n",
       "      <td>-0.024519</td>\n",
       "      <td>-0.009962</td>\n",
       "      <td>-0.009803</td>\n",
       "    </tr>\n",
       "    <tr>\n",
       "      <th>SeniorCitizen_True</th>\n",
       "      <td>0.005286</td>\n",
       "      <td>1.000000</td>\n",
       "      <td>0.013507</td>\n",
       "      <td>-0.210784</td>\n",
       "      <td>0.006378</td>\n",
       "      <td>0.012915</td>\n",
       "      <td>0.137222</td>\n",
       "      <td>-0.128087</td>\n",
       "      <td>-0.103917</td>\n",
       "      <td>0.250478</td>\n",
       "      <td>...</td>\n",
       "      <td>0.122732</td>\n",
       "      <td>0.030869</td>\n",
       "      <td>-0.045323</td>\n",
       "      <td>-0.116620</td>\n",
       "      <td>0.152361</td>\n",
       "      <td>0.179807</td>\n",
       "      <td>-0.147933</td>\n",
       "      <td>-0.018109</td>\n",
       "      <td>0.217116</td>\n",
       "      <td>0.153265</td>\n",
       "    </tr>\n",
       "    <tr>\n",
       "      <th>Partner_True</th>\n",
       "      <td>-0.000837</td>\n",
       "      <td>0.013507</td>\n",
       "      <td>1.000000</td>\n",
       "      <td>0.455529</td>\n",
       "      <td>0.381536</td>\n",
       "      <td>0.020499</td>\n",
       "      <td>0.138100</td>\n",
       "      <td>-0.124475</td>\n",
       "      <td>-0.006775</td>\n",
       "      <td>-0.000163</td>\n",
       "      <td>...</td>\n",
       "      <td>0.113240</td>\n",
       "      <td>-0.119709</td>\n",
       "      <td>0.086642</td>\n",
       "      <td>0.250174</td>\n",
       "      <td>-0.018156</td>\n",
       "      <td>-0.089336</td>\n",
       "      <td>-0.090822</td>\n",
       "      <td>0.102192</td>\n",
       "      <td>0.092326</td>\n",
       "      <td>-0.148118</td>\n",
       "    </tr>\n",
       "    <tr>\n",
       "      <th>Dependents_True</th>\n",
       "      <td>0.000892</td>\n",
       "      <td>-0.210784</td>\n",
       "      <td>0.455529</td>\n",
       "      <td>1.000000</td>\n",
       "      <td>0.168050</td>\n",
       "      <td>0.003833</td>\n",
       "      <td>-0.025436</td>\n",
       "      <td>0.027420</td>\n",
       "      <td>0.043535</td>\n",
       "      <td>-0.156771</td>\n",
       "      <td>...</td>\n",
       "      <td>-0.039702</td>\n",
       "      <td>-0.077253</td>\n",
       "      <td>0.074668</td>\n",
       "      <td>0.202296</td>\n",
       "      <td>-0.109516</td>\n",
       "      <td>-0.150821</td>\n",
       "      <td>0.049155</td>\n",
       "      <td>0.043813</td>\n",
       "      <td>-0.106362</td>\n",
       "      <td>-0.163096</td>\n",
       "    </tr>\n",
       "    <tr>\n",
       "      <th>Tenure</th>\n",
       "      <td>0.001491</td>\n",
       "      <td>0.006378</td>\n",
       "      <td>0.381536</td>\n",
       "      <td>0.168050</td>\n",
       "      <td>1.000000</td>\n",
       "      <td>0.004443</td>\n",
       "      <td>0.326064</td>\n",
       "      <td>-0.319857</td>\n",
       "      <td>0.011840</td>\n",
       "      <td>0.015144</td>\n",
       "      <td>...</td>\n",
       "      <td>0.282435</td>\n",
       "      <td>-0.254833</td>\n",
       "      <td>0.193720</td>\n",
       "      <td>0.569051</td>\n",
       "      <td>-0.003194</td>\n",
       "      <td>-0.208303</td>\n",
       "      <td>-0.231618</td>\n",
       "      <td>0.244515</td>\n",
       "      <td>0.240910</td>\n",
       "      <td>-0.357045</td>\n",
       "    </tr>\n",
       "    <tr>\n",
       "      <th>PhoneService_True</th>\n",
       "      <td>-0.008430</td>\n",
       "      <td>0.012915</td>\n",
       "      <td>0.020499</td>\n",
       "      <td>0.003833</td>\n",
       "      <td>0.004443</td>\n",
       "      <td>1.000000</td>\n",
       "      <td>0.279871</td>\n",
       "      <td>0.313810</td>\n",
       "      <td>-0.450660</td>\n",
       "      <td>0.288331</td>\n",
       "      <td>...</td>\n",
       "      <td>-0.023359</td>\n",
       "      <td>-0.122136</td>\n",
       "      <td>-0.001508</td>\n",
       "      <td>0.004679</td>\n",
       "      <td>0.016887</td>\n",
       "      <td>0.005535</td>\n",
       "      <td>-0.012763</td>\n",
       "      <td>0.011558</td>\n",
       "      <td>0.246714</td>\n",
       "      <td>0.016015</td>\n",
       "    </tr>\n",
       "    <tr>\n",
       "      <th>MultipleLines_True</th>\n",
       "      <td>-0.006819</td>\n",
       "      <td>0.137222</td>\n",
       "      <td>0.138100</td>\n",
       "      <td>-0.025436</td>\n",
       "      <td>0.326064</td>\n",
       "      <td>0.279871</td>\n",
       "      <td>1.000000</td>\n",
       "      <td>-0.823716</td>\n",
       "      <td>-0.201517</td>\n",
       "      <td>0.369159</td>\n",
       "      <td>...</td>\n",
       "      <td>0.262029</td>\n",
       "      <td>-0.082470</td>\n",
       "      <td>-0.007080</td>\n",
       "      <td>0.109084</td>\n",
       "      <td>0.162969</td>\n",
       "      <td>0.087011</td>\n",
       "      <td>-0.234889</td>\n",
       "      <td>0.080459</td>\n",
       "      <td>0.492552</td>\n",
       "      <td>0.043173</td>\n",
       "    </tr>\n",
       "    <tr>\n",
       "      <th>MultipleLines_False</th>\n",
       "      <td>0.001765</td>\n",
       "      <td>-0.128087</td>\n",
       "      <td>-0.124475</td>\n",
       "      <td>0.027420</td>\n",
       "      <td>-0.319857</td>\n",
       "      <td>0.313810</td>\n",
       "      <td>-0.823716</td>\n",
       "      <td>1.000000</td>\n",
       "      <td>-0.066860</td>\n",
       "      <td>-0.194812</td>\n",
       "      <td>...</td>\n",
       "      <td>-0.272945</td>\n",
       "      <td>0.009429</td>\n",
       "      <td>0.006112</td>\n",
       "      <td>-0.105122</td>\n",
       "      <td>-0.151204</td>\n",
       "      <td>-0.082786</td>\n",
       "      <td>0.224770</td>\n",
       "      <td>-0.072749</td>\n",
       "      <td>-0.341428</td>\n",
       "      <td>-0.033240</td>\n",
       "    </tr>\n",
       "    <tr>\n",
       "      <th>InternetService_DSL</th>\n",
       "      <td>0.005199</td>\n",
       "      <td>-0.103917</td>\n",
       "      <td>-0.006775</td>\n",
       "      <td>0.043535</td>\n",
       "      <td>0.011840</td>\n",
       "      <td>-0.450660</td>\n",
       "      <td>-0.201517</td>\n",
       "      <td>-0.066860</td>\n",
       "      <td>1.000000</td>\n",
       "      <td>-0.639797</td>\n",
       "      <td>...</td>\n",
       "      <td>0.017824</td>\n",
       "      <td>0.304937</td>\n",
       "      <td>0.053997</td>\n",
       "      <td>0.026909</td>\n",
       "      <td>-0.067162</td>\n",
       "      <td>-0.105523</td>\n",
       "      <td>0.044735</td>\n",
       "      <td>0.023822</td>\n",
       "      <td>-0.157243</td>\n",
       "      <td>-0.122355</td>\n",
       "    </tr>\n",
       "    <tr>\n",
       "      <th>InternetService_Fiber</th>\n",
       "      <td>-0.005737</td>\n",
       "      <td>0.250478</td>\n",
       "      <td>-0.000163</td>\n",
       "      <td>-0.156771</td>\n",
       "      <td>0.015144</td>\n",
       "      <td>0.288331</td>\n",
       "      <td>0.369159</td>\n",
       "      <td>-0.194812</td>\n",
       "      <td>-0.639797</td>\n",
       "      <td>1.000000</td>\n",
       "      <td>...</td>\n",
       "      <td>0.332499</td>\n",
       "      <td>0.061631</td>\n",
       "      <td>-0.082113</td>\n",
       "      <td>-0.210264</td>\n",
       "      <td>0.326237</td>\n",
       "      <td>0.336458</td>\n",
       "      <td>-0.298698</td>\n",
       "      <td>-0.020263</td>\n",
       "      <td>0.786215</td>\n",
       "      <td>0.308028</td>\n",
       "    </tr>\n",
       "    <tr>\n",
       "      <th>OnlineSecurity_True</th>\n",
       "      <td>-0.015360</td>\n",
       "      <td>-0.032470</td>\n",
       "      <td>0.144331</td>\n",
       "      <td>0.083027</td>\n",
       "      <td>0.330693</td>\n",
       "      <td>-0.108828</td>\n",
       "      <td>0.108208</td>\n",
       "      <td>-0.171292</td>\n",
       "      <td>0.330491</td>\n",
       "      <td>-0.036920</td>\n",
       "      <td>...</td>\n",
       "      <td>0.190246</td>\n",
       "      <td>0.094106</td>\n",
       "      <td>0.104323</td>\n",
       "      <td>0.191796</td>\n",
       "      <td>-0.014912</td>\n",
       "      <td>-0.108755</td>\n",
       "      <td>-0.075137</td>\n",
       "      <td>0.100605</td>\n",
       "      <td>0.294511</td>\n",
       "      <td>-0.174606</td>\n",
       "    </tr>\n",
       "    <tr>\n",
       "      <th>OnlineSecurity_False</th>\n",
       "      <td>0.013172</td>\n",
       "      <td>0.179253</td>\n",
       "      <td>-0.137444</td>\n",
       "      <td>-0.189474</td>\n",
       "      <td>-0.273509</td>\n",
       "      <td>-0.043481</td>\n",
       "      <td>0.076748</td>\n",
       "      <td>-0.101585</td>\n",
       "      <td>0.015793</td>\n",
       "      <td>0.417846</td>\n",
       "      <td>...</td>\n",
       "      <td>0.174442</td>\n",
       "      <td>0.265642</td>\n",
       "      <td>-0.124748</td>\n",
       "      <td>-0.356966</td>\n",
       "      <td>0.273448</td>\n",
       "      <td>0.332209</td>\n",
       "      <td>-0.185798</td>\n",
       "      <td>-0.088673</td>\n",
       "      <td>0.363813</td>\n",
       "      <td>0.347697</td>\n",
       "    </tr>\n",
       "    <tr>\n",
       "      <th>OnlineBackup_True</th>\n",
       "      <td>-0.017731</td>\n",
       "      <td>0.061997</td>\n",
       "      <td>0.138993</td>\n",
       "      <td>0.031279</td>\n",
       "      <td>0.352923</td>\n",
       "      <td>-0.055158</td>\n",
       "      <td>0.197156</td>\n",
       "      <td>-0.227566</td>\n",
       "      <td>0.161779</td>\n",
       "      <td>0.165784</td>\n",
       "      <td>...</td>\n",
       "      <td>0.280883</td>\n",
       "      <td>0.045475</td>\n",
       "      <td>0.079654</td>\n",
       "      <td>0.111767</td>\n",
       "      <td>0.128074</td>\n",
       "      <td>-0.002059</td>\n",
       "      <td>-0.167777</td>\n",
       "      <td>0.093853</td>\n",
       "      <td>0.443444</td>\n",
       "      <td>-0.083052</td>\n",
       "    </tr>\n",
       "    <tr>\n",
       "      <th>OnlineBackup_False</th>\n",
       "      <td>0.016285</td>\n",
       "      <td>0.091528</td>\n",
       "      <td>-0.140273</td>\n",
       "      <td>-0.145272</td>\n",
       "      <td>-0.312756</td>\n",
       "      <td>-0.090357</td>\n",
       "      <td>-0.013156</td>\n",
       "      <td>-0.040354</td>\n",
       "      <td>0.162637</td>\n",
       "      <td>0.228365</td>\n",
       "      <td>...</td>\n",
       "      <td>0.079926</td>\n",
       "      <td>0.310305</td>\n",
       "      <td>-0.107008</td>\n",
       "      <td>-0.292134</td>\n",
       "      <td>0.139082</td>\n",
       "      <td>0.237637</td>\n",
       "      <td>-0.094847</td>\n",
       "      <td>-0.087668</td>\n",
       "      <td>0.210029</td>\n",
       "      <td>0.270901</td>\n",
       "    </tr>\n",
       "    <tr>\n",
       "      <th>DeviceProtection_True</th>\n",
       "      <td>-0.010874</td>\n",
       "      <td>0.063200</td>\n",
       "      <td>0.154204</td>\n",
       "      <td>0.017213</td>\n",
       "      <td>0.364594</td>\n",
       "      <td>-0.069994</td>\n",
       "      <td>0.211128</td>\n",
       "      <td>-0.250146</td>\n",
       "      <td>0.143837</td>\n",
       "      <td>0.178449</td>\n",
       "      <td>...</td>\n",
       "      <td>0.405356</td>\n",
       "      <td>-0.083271</td>\n",
       "      <td>0.096194</td>\n",
       "      <td>0.168074</td>\n",
       "      <td>0.112088</td>\n",
       "      <td>-0.003606</td>\n",
       "      <td>-0.184459</td>\n",
       "      <td>0.087923</td>\n",
       "      <td>0.485521</td>\n",
       "      <td>-0.070216</td>\n",
       "    </tr>\n",
       "    <tr>\n",
       "      <th>DeviceProtection_False</th>\n",
       "      <td>0.009633</td>\n",
       "      <td>0.090490</td>\n",
       "      <td>-0.153994</td>\n",
       "      <td>-0.131463</td>\n",
       "      <td>-0.321912</td>\n",
       "      <td>-0.076265</td>\n",
       "      <td>-0.025655</td>\n",
       "      <td>-0.019669</td>\n",
       "      <td>0.180196</td>\n",
       "      <td>0.216588</td>\n",
       "      <td>...</td>\n",
       "      <td>-0.037960</td>\n",
       "      <td>0.433009</td>\n",
       "      <td>-0.122303</td>\n",
       "      <td>-0.344990</td>\n",
       "      <td>0.154668</td>\n",
       "      <td>0.238718</td>\n",
       "      <td>-0.079457</td>\n",
       "      <td>-0.081465</td>\n",
       "      <td>0.171345</td>\n",
       "      <td>0.257844</td>\n",
       "    </tr>\n",
       "    <tr>\n",
       "      <th>TechSupport_True</th>\n",
       "      <td>-0.009958</td>\n",
       "      <td>-0.063859</td>\n",
       "      <td>0.104823</td>\n",
       "      <td>0.057852</td>\n",
       "      <td>0.322988</td>\n",
       "      <td>-0.092493</td>\n",
       "      <td>0.104695</td>\n",
       "      <td>-0.158171</td>\n",
       "      <td>0.315283</td>\n",
       "      <td>-0.018717</td>\n",
       "      <td>...</td>\n",
       "      <td>0.280113</td>\n",
       "      <td>0.008161</td>\n",
       "      <td>0.097705</td>\n",
       "      <td>0.234263</td>\n",
       "      <td>0.037841</td>\n",
       "      <td>-0.109044</td>\n",
       "      <td>-0.083894</td>\n",
       "      <td>0.099451</td>\n",
       "      <td>0.342871</td>\n",
       "      <td>-0.165607</td>\n",
       "    </tr>\n",
       "    <tr>\n",
       "      <th>TechSupport_False</th>\n",
       "      <td>0.008325</td>\n",
       "      <td>0.208062</td>\n",
       "      <td>-0.102162</td>\n",
       "      <td>-0.166968</td>\n",
       "      <td>-0.268160</td>\n",
       "      <td>-0.057847</td>\n",
       "      <td>0.079435</td>\n",
       "      <td>-0.112726</td>\n",
       "      <td>0.028040</td>\n",
       "      <td>0.401514</td>\n",
       "      <td>...</td>\n",
       "      <td>0.091618</td>\n",
       "      <td>0.343583</td>\n",
       "      <td>-0.119250</td>\n",
       "      <td>-0.396690</td>\n",
       "      <td>0.225483</td>\n",
       "      <td>0.333071</td>\n",
       "      <td>-0.177483</td>\n",
       "      <td>-0.088131</td>\n",
       "      <td>0.318353</td>\n",
       "      <td>0.340418</td>\n",
       "    </tr>\n",
       "    <tr>\n",
       "      <th>StreamingTV_True</th>\n",
       "      <td>0.000693</td>\n",
       "      <td>0.100339</td>\n",
       "      <td>0.123823</td>\n",
       "      <td>-0.008821</td>\n",
       "      <td>0.277000</td>\n",
       "      <td>-0.021946</td>\n",
       "      <td>0.251377</td>\n",
       "      <td>-0.261576</td>\n",
       "      <td>0.023662</td>\n",
       "      <td>0.324424</td>\n",
       "      <td>...</td>\n",
       "      <td>0.529572</td>\n",
       "      <td>-0.175804</td>\n",
       "      <td>0.064169</td>\n",
       "      <td>0.071869</td>\n",
       "      <td>0.215441</td>\n",
       "      <td>0.136732</td>\n",
       "      <td>-0.244482</td>\n",
       "      <td>0.054295</td>\n",
       "      <td>0.628036</td>\n",
       "      <td>0.062088</td>\n",
       "    </tr>\n",
       "    <tr>\n",
       "      <th>StreamingTV_False</th>\n",
       "      <td>0.000693</td>\n",
       "      <td>0.100339</td>\n",
       "      <td>0.123823</td>\n",
       "      <td>-0.008821</td>\n",
       "      <td>0.277000</td>\n",
       "      <td>-0.021946</td>\n",
       "      <td>0.251377</td>\n",
       "      <td>-0.261576</td>\n",
       "      <td>0.023662</td>\n",
       "      <td>0.324424</td>\n",
       "      <td>...</td>\n",
       "      <td>0.529572</td>\n",
       "      <td>-0.175804</td>\n",
       "      <td>0.064169</td>\n",
       "      <td>0.071869</td>\n",
       "      <td>0.215441</td>\n",
       "      <td>0.136732</td>\n",
       "      <td>-0.244482</td>\n",
       "      <td>0.054295</td>\n",
       "      <td>0.628036</td>\n",
       "      <td>0.062088</td>\n",
       "    </tr>\n",
       "    <tr>\n",
       "      <th>StreamingMovies_True</th>\n",
       "      <td>-0.007804</td>\n",
       "      <td>0.122732</td>\n",
       "      <td>0.113240</td>\n",
       "      <td>-0.039702</td>\n",
       "      <td>0.282435</td>\n",
       "      <td>-0.023359</td>\n",
       "      <td>0.262029</td>\n",
       "      <td>-0.272945</td>\n",
       "      <td>0.017824</td>\n",
       "      <td>0.332499</td>\n",
       "      <td>...</td>\n",
       "      <td>1.000000</td>\n",
       "      <td>-0.642524</td>\n",
       "      <td>0.060478</td>\n",
       "      <td>0.069527</td>\n",
       "      <td>0.213409</td>\n",
       "      <td>0.137001</td>\n",
       "      <td>-0.253085</td>\n",
       "      <td>0.050501</td>\n",
       "      <td>0.633854</td>\n",
       "      <td>0.061978</td>\n",
       "    </tr>\n",
       "    <tr>\n",
       "      <th>StreamingMovies_False</th>\n",
       "      <td>0.007014</td>\n",
       "      <td>0.030869</td>\n",
       "      <td>-0.119709</td>\n",
       "      <td>-0.077253</td>\n",
       "      <td>-0.254833</td>\n",
       "      <td>-0.122136</td>\n",
       "      <td>-0.082470</td>\n",
       "      <td>0.009429</td>\n",
       "      <td>0.304937</td>\n",
       "      <td>0.061631</td>\n",
       "      <td>...</td>\n",
       "      <td>-0.642524</td>\n",
       "      <td>1.000000</td>\n",
       "      <td>-0.091199</td>\n",
       "      <td>-0.256692</td>\n",
       "      <td>0.053087</td>\n",
       "      <td>0.102381</td>\n",
       "      <td>-0.007355</td>\n",
       "      <td>-0.047785</td>\n",
       "      <td>0.013178</td>\n",
       "      <td>0.131980</td>\n",
       "    </tr>\n",
       "    <tr>\n",
       "      <th>Contract_OneYear</th>\n",
       "      <td>-0.001040</td>\n",
       "      <td>-0.045323</td>\n",
       "      <td>0.086642</td>\n",
       "      <td>0.074668</td>\n",
       "      <td>0.193720</td>\n",
       "      <td>-0.001508</td>\n",
       "      <td>-0.007080</td>\n",
       "      <td>0.006112</td>\n",
       "      <td>0.053997</td>\n",
       "      <td>-0.082113</td>\n",
       "      <td>...</td>\n",
       "      <td>0.060478</td>\n",
       "      <td>-0.091199</td>\n",
       "      <td>1.000000</td>\n",
       "      <td>-0.292512</td>\n",
       "      <td>-0.059000</td>\n",
       "      <td>-0.106866</td>\n",
       "      <td>0.010149</td>\n",
       "      <td>0.053298</td>\n",
       "      <td>0.002132</td>\n",
       "      <td>-0.179405</td>\n",
       "    </tr>\n",
       "    <tr>\n",
       "      <th>Contract_TwoYear</th>\n",
       "      <td>-0.008608</td>\n",
       "      <td>-0.116620</td>\n",
       "      <td>0.250174</td>\n",
       "      <td>0.202296</td>\n",
       "      <td>0.569051</td>\n",
       "      <td>0.004679</td>\n",
       "      <td>0.109084</td>\n",
       "      <td>-0.105122</td>\n",
       "      <td>0.026909</td>\n",
       "      <td>-0.210264</td>\n",
       "      <td>...</td>\n",
       "      <td>0.069527</td>\n",
       "      <td>-0.256692</td>\n",
       "      <td>-0.292512</td>\n",
       "      <td>1.000000</td>\n",
       "      <td>-0.146347</td>\n",
       "      <td>-0.280570</td>\n",
       "      <td>-0.015084</td>\n",
       "      <td>0.153778</td>\n",
       "      <td>-0.075528</td>\n",
       "      <td>-0.302115</td>\n",
       "    </tr>\n",
       "    <tr>\n",
       "      <th>PaperlessBilling_True</th>\n",
       "      <td>-0.008802</td>\n",
       "      <td>0.152361</td>\n",
       "      <td>-0.018156</td>\n",
       "      <td>-0.109516</td>\n",
       "      <td>-0.003194</td>\n",
       "      <td>0.016887</td>\n",
       "      <td>0.162969</td>\n",
       "      <td>-0.151204</td>\n",
       "      <td>-0.067162</td>\n",
       "      <td>0.326237</td>\n",
       "      <td>...</td>\n",
       "      <td>0.213409</td>\n",
       "      <td>0.053087</td>\n",
       "      <td>-0.059000</td>\n",
       "      <td>-0.146347</td>\n",
       "      <td>1.000000</td>\n",
       "      <td>0.210569</td>\n",
       "      <td>-0.203773</td>\n",
       "      <td>-0.017567</td>\n",
       "      <td>0.348601</td>\n",
       "      <td>0.194917</td>\n",
       "    </tr>\n",
       "    <tr>\n",
       "      <th>PaymentMethod_Electronic</th>\n",
       "      <td>0.017180</td>\n",
       "      <td>0.179807</td>\n",
       "      <td>-0.089336</td>\n",
       "      <td>-0.150821</td>\n",
       "      <td>-0.208303</td>\n",
       "      <td>0.005535</td>\n",
       "      <td>0.087011</td>\n",
       "      <td>-0.082786</td>\n",
       "      <td>-0.105523</td>\n",
       "      <td>0.336458</td>\n",
       "      <td>...</td>\n",
       "      <td>0.137001</td>\n",
       "      <td>0.102381</td>\n",
       "      <td>-0.106866</td>\n",
       "      <td>-0.280570</td>\n",
       "      <td>0.210569</td>\n",
       "      <td>1.000000</td>\n",
       "      <td>-0.385435</td>\n",
       "      <td>-0.378987</td>\n",
       "      <td>0.270377</td>\n",
       "      <td>0.290754</td>\n",
       "    </tr>\n",
       "    <tr>\n",
       "      <th>PaymentMethod_Mailed</th>\n",
       "      <td>0.006535</td>\n",
       "      <td>-0.147933</td>\n",
       "      <td>-0.090822</td>\n",
       "      <td>0.049155</td>\n",
       "      <td>-0.231618</td>\n",
       "      <td>-0.012763</td>\n",
       "      <td>-0.234889</td>\n",
       "      <td>0.224770</td>\n",
       "      <td>0.044735</td>\n",
       "      <td>-0.298698</td>\n",
       "      <td>...</td>\n",
       "      <td>-0.253085</td>\n",
       "      <td>-0.007355</td>\n",
       "      <td>0.010149</td>\n",
       "      <td>-0.015084</td>\n",
       "      <td>-0.203773</td>\n",
       "      <td>-0.385435</td>\n",
       "      <td>1.000000</td>\n",
       "      <td>-0.289744</td>\n",
       "      <td>-0.370037</td>\n",
       "      <td>-0.086829</td>\n",
       "    </tr>\n",
       "    <tr>\n",
       "      <th>PaymentMethod_Bank</th>\n",
       "      <td>-0.024519</td>\n",
       "      <td>-0.018109</td>\n",
       "      <td>0.102192</td>\n",
       "      <td>0.043813</td>\n",
       "      <td>0.244515</td>\n",
       "      <td>0.011558</td>\n",
       "      <td>0.080459</td>\n",
       "      <td>-0.072749</td>\n",
       "      <td>0.023822</td>\n",
       "      <td>-0.020263</td>\n",
       "      <td>...</td>\n",
       "      <td>0.050501</td>\n",
       "      <td>-0.047785</td>\n",
       "      <td>0.053298</td>\n",
       "      <td>0.153778</td>\n",
       "      <td>-0.017567</td>\n",
       "      <td>-0.378987</td>\n",
       "      <td>-0.289744</td>\n",
       "      <td>1.000000</td>\n",
       "      <td>0.048271</td>\n",
       "      <td>-0.108358</td>\n",
       "    </tr>\n",
       "    <tr>\n",
       "      <th>MonthlyCharges</th>\n",
       "      <td>-0.009962</td>\n",
       "      <td>0.217116</td>\n",
       "      <td>0.092326</td>\n",
       "      <td>-0.106362</td>\n",
       "      <td>0.240910</td>\n",
       "      <td>0.246714</td>\n",
       "      <td>0.492552</td>\n",
       "      <td>-0.341428</td>\n",
       "      <td>-0.157243</td>\n",
       "      <td>0.786215</td>\n",
       "      <td>...</td>\n",
       "      <td>0.633854</td>\n",
       "      <td>0.013178</td>\n",
       "      <td>0.002132</td>\n",
       "      <td>-0.075528</td>\n",
       "      <td>0.348601</td>\n",
       "      <td>0.270377</td>\n",
       "      <td>-0.370037</td>\n",
       "      <td>0.048271</td>\n",
       "      <td>1.000000</td>\n",
       "      <td>0.194014</td>\n",
       "    </tr>\n",
       "    <tr>\n",
       "      <th>Churn_Yes</th>\n",
       "      <td>-0.009803</td>\n",
       "      <td>0.153265</td>\n",
       "      <td>-0.148118</td>\n",
       "      <td>-0.163096</td>\n",
       "      <td>-0.357045</td>\n",
       "      <td>0.016015</td>\n",
       "      <td>0.043173</td>\n",
       "      <td>-0.033240</td>\n",
       "      <td>-0.122355</td>\n",
       "      <td>0.308028</td>\n",
       "      <td>...</td>\n",
       "      <td>0.061978</td>\n",
       "      <td>0.131980</td>\n",
       "      <td>-0.179405</td>\n",
       "      <td>-0.302115</td>\n",
       "      <td>0.194917</td>\n",
       "      <td>0.290754</td>\n",
       "      <td>-0.086829</td>\n",
       "      <td>-0.108358</td>\n",
       "      <td>0.194014</td>\n",
       "      <td>1.000000</td>\n",
       "    </tr>\n",
       "  </tbody>\n",
       "</table>\n",
       "<p>30 rows × 30 columns</p>\n",
       "</div>"
      ],
      "text/plain": [
       "                          Gender_Male  SeniorCitizen_True  Partner_True  \\\n",
       "Gender_Male                  1.000000            0.005286     -0.000837   \n",
       "SeniorCitizen_True           0.005286            1.000000      0.013507   \n",
       "Partner_True                -0.000837            0.013507      1.000000   \n",
       "Dependents_True              0.000892           -0.210784      0.455529   \n",
       "Tenure                       0.001491            0.006378      0.381536   \n",
       "PhoneService_True           -0.008430            0.012915      0.020499   \n",
       "MultipleLines_True          -0.006819            0.137222      0.138100   \n",
       "MultipleLines_False          0.001765           -0.128087     -0.124475   \n",
       "InternetService_DSL          0.005199           -0.103917     -0.006775   \n",
       "InternetService_Fiber       -0.005737            0.250478     -0.000163   \n",
       "OnlineSecurity_True         -0.015360           -0.032470      0.144331   \n",
       "OnlineSecurity_False         0.013172            0.179253     -0.137444   \n",
       "OnlineBackup_True           -0.017731            0.061997      0.138993   \n",
       "OnlineBackup_False           0.016285            0.091528     -0.140273   \n",
       "DeviceProtection_True       -0.010874            0.063200      0.154204   \n",
       "DeviceProtection_False       0.009633            0.090490     -0.153994   \n",
       "TechSupport_True            -0.009958           -0.063859      0.104823   \n",
       "TechSupport_False            0.008325            0.208062     -0.102162   \n",
       "StreamingTV_True             0.000693            0.100339      0.123823   \n",
       "StreamingTV_False            0.000693            0.100339      0.123823   \n",
       "StreamingMovies_True        -0.007804            0.122732      0.113240   \n",
       "StreamingMovies_False        0.007014            0.030869     -0.119709   \n",
       "Contract_OneYear            -0.001040           -0.045323      0.086642   \n",
       "Contract_TwoYear            -0.008608           -0.116620      0.250174   \n",
       "PaperlessBilling_True       -0.008802            0.152361     -0.018156   \n",
       "PaymentMethod_Electronic     0.017180            0.179807     -0.089336   \n",
       "PaymentMethod_Mailed         0.006535           -0.147933     -0.090822   \n",
       "PaymentMethod_Bank          -0.024519           -0.018109      0.102192   \n",
       "MonthlyCharges              -0.009962            0.217116      0.092326   \n",
       "Churn_Yes                   -0.009803            0.153265     -0.148118   \n",
       "\n",
       "                          Dependents_True    Tenure  PhoneService_True  \\\n",
       "Gender_Male                      0.000892  0.001491          -0.008430   \n",
       "SeniorCitizen_True              -0.210784  0.006378           0.012915   \n",
       "Partner_True                     0.455529  0.381536           0.020499   \n",
       "Dependents_True                  1.000000  0.168050           0.003833   \n",
       "Tenure                           0.168050  1.000000           0.004443   \n",
       "PhoneService_True                0.003833  0.004443           1.000000   \n",
       "MultipleLines_True              -0.025436  0.326064           0.279871   \n",
       "MultipleLines_False              0.027420 -0.319857           0.313810   \n",
       "InternetService_DSL              0.043535  0.011840          -0.450660   \n",
       "InternetService_Fiber           -0.156771  0.015144           0.288331   \n",
       "OnlineSecurity_True              0.083027  0.330693          -0.108828   \n",
       "OnlineSecurity_False            -0.189474 -0.273509          -0.043481   \n",
       "OnlineBackup_True                0.031279  0.352923          -0.055158   \n",
       "OnlineBackup_False              -0.145272 -0.312756          -0.090357   \n",
       "DeviceProtection_True            0.017213  0.364594          -0.069994   \n",
       "DeviceProtection_False          -0.131463 -0.321912          -0.076265   \n",
       "TechSupport_True                 0.057852  0.322988          -0.092493   \n",
       "TechSupport_False               -0.166968 -0.268160          -0.057847   \n",
       "StreamingTV_True                -0.008821  0.277000          -0.021946   \n",
       "StreamingTV_False               -0.008821  0.277000          -0.021946   \n",
       "StreamingMovies_True            -0.039702  0.282435          -0.023359   \n",
       "StreamingMovies_False           -0.077253 -0.254833          -0.122136   \n",
       "Contract_OneYear                 0.074668  0.193720          -0.001508   \n",
       "Contract_TwoYear                 0.202296  0.569051           0.004679   \n",
       "PaperlessBilling_True           -0.109516 -0.003194           0.016887   \n",
       "PaymentMethod_Electronic        -0.150821 -0.208303           0.005535   \n",
       "PaymentMethod_Mailed             0.049155 -0.231618          -0.012763   \n",
       "PaymentMethod_Bank               0.043813  0.244515           0.011558   \n",
       "MonthlyCharges                  -0.106362  0.240910           0.246714   \n",
       "Churn_Yes                       -0.163096 -0.357045           0.016015   \n",
       "\n",
       "                          MultipleLines_True  MultipleLines_False  \\\n",
       "Gender_Male                        -0.006819             0.001765   \n",
       "SeniorCitizen_True                  0.137222            -0.128087   \n",
       "Partner_True                        0.138100            -0.124475   \n",
       "Dependents_True                    -0.025436             0.027420   \n",
       "Tenure                              0.326064            -0.319857   \n",
       "PhoneService_True                   0.279871             0.313810   \n",
       "MultipleLines_True                  1.000000            -0.823716   \n",
       "MultipleLines_False                -0.823716             1.000000   \n",
       "InternetService_DSL                -0.201517            -0.066860   \n",
       "InternetService_Fiber               0.369159            -0.194812   \n",
       "OnlineSecurity_True                 0.108208            -0.171292   \n",
       "OnlineSecurity_False                0.076748            -0.101585   \n",
       "OnlineBackup_True                   0.197156            -0.227566   \n",
       "OnlineBackup_False                 -0.013156            -0.040354   \n",
       "DeviceProtection_True               0.211128            -0.250146   \n",
       "DeviceProtection_False             -0.025655            -0.019669   \n",
       "TechSupport_True                    0.104695            -0.158171   \n",
       "TechSupport_False                   0.079435            -0.112726   \n",
       "StreamingTV_True                    0.251377            -0.261576   \n",
       "StreamingTV_False                   0.251377            -0.261576   \n",
       "StreamingMovies_True                0.262029            -0.272945   \n",
       "StreamingMovies_False              -0.082470             0.009429   \n",
       "Contract_OneYear                   -0.007080             0.006112   \n",
       "Contract_TwoYear                    0.109084            -0.105122   \n",
       "PaperlessBilling_True               0.162969            -0.151204   \n",
       "PaymentMethod_Electronic            0.087011            -0.082786   \n",
       "PaymentMethod_Mailed               -0.234889             0.224770   \n",
       "PaymentMethod_Bank                  0.080459            -0.072749   \n",
       "MonthlyCharges                      0.492552            -0.341428   \n",
       "Churn_Yes                           0.043173            -0.033240   \n",
       "\n",
       "                          InternetService_DSL  InternetService_Fiber  ...  \\\n",
       "Gender_Male                          0.005199              -0.005737  ...   \n",
       "SeniorCitizen_True                  -0.103917               0.250478  ...   \n",
       "Partner_True                        -0.006775              -0.000163  ...   \n",
       "Dependents_True                      0.043535              -0.156771  ...   \n",
       "Tenure                               0.011840               0.015144  ...   \n",
       "PhoneService_True                   -0.450660               0.288331  ...   \n",
       "MultipleLines_True                  -0.201517               0.369159  ...   \n",
       "MultipleLines_False                 -0.066860              -0.194812  ...   \n",
       "InternetService_DSL                  1.000000              -0.639797  ...   \n",
       "InternetService_Fiber               -0.639797               1.000000  ...   \n",
       "OnlineSecurity_True                  0.330491              -0.036920  ...   \n",
       "OnlineSecurity_False                 0.015793               0.417846  ...   \n",
       "OnlineBackup_True                    0.161779               0.165784  ...   \n",
       "OnlineBackup_False                   0.162637               0.228365  ...   \n",
       "DeviceProtection_True                0.143837               0.178449  ...   \n",
       "DeviceProtection_False               0.180196               0.216588  ...   \n",
       "TechSupport_True                     0.315283              -0.018717  ...   \n",
       "TechSupport_False                    0.028040               0.401514  ...   \n",
       "StreamingTV_True                     0.023662               0.324424  ...   \n",
       "StreamingTV_False                    0.023662               0.324424  ...   \n",
       "StreamingMovies_True                 0.017824               0.332499  ...   \n",
       "StreamingMovies_False                0.304937               0.061631  ...   \n",
       "Contract_OneYear                     0.053997              -0.082113  ...   \n",
       "Contract_TwoYear                     0.026909              -0.210264  ...   \n",
       "PaperlessBilling_True               -0.067162               0.326237  ...   \n",
       "PaymentMethod_Electronic            -0.105523               0.336458  ...   \n",
       "PaymentMethod_Mailed                 0.044735              -0.298698  ...   \n",
       "PaymentMethod_Bank                   0.023822              -0.020263  ...   \n",
       "MonthlyCharges                      -0.157243               0.786215  ...   \n",
       "Churn_Yes                           -0.122355               0.308028  ...   \n",
       "\n",
       "                          StreamingMovies_True  StreamingMovies_False  \\\n",
       "Gender_Male                          -0.007804               0.007014   \n",
       "SeniorCitizen_True                    0.122732               0.030869   \n",
       "Partner_True                          0.113240              -0.119709   \n",
       "Dependents_True                      -0.039702              -0.077253   \n",
       "Tenure                                0.282435              -0.254833   \n",
       "PhoneService_True                    -0.023359              -0.122136   \n",
       "MultipleLines_True                    0.262029              -0.082470   \n",
       "MultipleLines_False                  -0.272945               0.009429   \n",
       "InternetService_DSL                   0.017824               0.304937   \n",
       "InternetService_Fiber                 0.332499               0.061631   \n",
       "OnlineSecurity_True                   0.190246               0.094106   \n",
       "OnlineSecurity_False                  0.174442               0.265642   \n",
       "OnlineBackup_True                     0.280883               0.045475   \n",
       "OnlineBackup_False                    0.079926               0.310305   \n",
       "DeviceProtection_True                 0.405356              -0.083271   \n",
       "DeviceProtection_False               -0.037960               0.433009   \n",
       "TechSupport_True                      0.280113               0.008161   \n",
       "TechSupport_False                     0.091618               0.343583   \n",
       "StreamingTV_True                      0.529572              -0.175804   \n",
       "StreamingTV_False                     0.529572              -0.175804   \n",
       "StreamingMovies_True                  1.000000              -0.642524   \n",
       "StreamingMovies_False                -0.642524               1.000000   \n",
       "Contract_OneYear                      0.060478              -0.091199   \n",
       "Contract_TwoYear                      0.069527              -0.256692   \n",
       "PaperlessBilling_True                 0.213409               0.053087   \n",
       "PaymentMethod_Electronic              0.137001               0.102381   \n",
       "PaymentMethod_Mailed                 -0.253085              -0.007355   \n",
       "PaymentMethod_Bank                    0.050501              -0.047785   \n",
       "MonthlyCharges                        0.633854               0.013178   \n",
       "Churn_Yes                             0.061978               0.131980   \n",
       "\n",
       "                          Contract_OneYear  Contract_TwoYear  \\\n",
       "Gender_Male                      -0.001040         -0.008608   \n",
       "SeniorCitizen_True               -0.045323         -0.116620   \n",
       "Partner_True                      0.086642          0.250174   \n",
       "Dependents_True                   0.074668          0.202296   \n",
       "Tenure                            0.193720          0.569051   \n",
       "PhoneService_True                -0.001508          0.004679   \n",
       "MultipleLines_True               -0.007080          0.109084   \n",
       "MultipleLines_False               0.006112         -0.105122   \n",
       "InternetService_DSL               0.053997          0.026909   \n",
       "InternetService_Fiber            -0.082113         -0.210264   \n",
       "OnlineSecurity_True               0.104323          0.191796   \n",
       "OnlineSecurity_False             -0.124748         -0.356966   \n",
       "OnlineBackup_True                 0.079654          0.111767   \n",
       "OnlineBackup_False               -0.107008         -0.292134   \n",
       "DeviceProtection_True             0.096194          0.168074   \n",
       "DeviceProtection_False           -0.122303         -0.344990   \n",
       "TechSupport_True                  0.097705          0.234263   \n",
       "TechSupport_False                -0.119250         -0.396690   \n",
       "StreamingTV_True                  0.064169          0.071869   \n",
       "StreamingTV_False                 0.064169          0.071869   \n",
       "StreamingMovies_True              0.060478          0.069527   \n",
       "StreamingMovies_False            -0.091199         -0.256692   \n",
       "Contract_OneYear                  1.000000         -0.292512   \n",
       "Contract_TwoYear                 -0.292512          1.000000   \n",
       "PaperlessBilling_True            -0.059000         -0.146347   \n",
       "PaymentMethod_Electronic         -0.106866         -0.280570   \n",
       "PaymentMethod_Mailed              0.010149         -0.015084   \n",
       "PaymentMethod_Bank                0.053298          0.153778   \n",
       "MonthlyCharges                    0.002132         -0.075528   \n",
       "Churn_Yes                        -0.179405         -0.302115   \n",
       "\n",
       "                          PaperlessBilling_True  PaymentMethod_Electronic  \\\n",
       "Gender_Male                           -0.008802                  0.017180   \n",
       "SeniorCitizen_True                     0.152361                  0.179807   \n",
       "Partner_True                          -0.018156                 -0.089336   \n",
       "Dependents_True                       -0.109516                 -0.150821   \n",
       "Tenure                                -0.003194                 -0.208303   \n",
       "PhoneService_True                      0.016887                  0.005535   \n",
       "MultipleLines_True                     0.162969                  0.087011   \n",
       "MultipleLines_False                   -0.151204                 -0.082786   \n",
       "InternetService_DSL                   -0.067162                 -0.105523   \n",
       "InternetService_Fiber                  0.326237                  0.336458   \n",
       "OnlineSecurity_True                   -0.014912                 -0.108755   \n",
       "OnlineSecurity_False                   0.273448                  0.332209   \n",
       "OnlineBackup_True                      0.128074                 -0.002059   \n",
       "OnlineBackup_False                     0.139082                  0.237637   \n",
       "DeviceProtection_True                  0.112088                 -0.003606   \n",
       "DeviceProtection_False                 0.154668                  0.238718   \n",
       "TechSupport_True                       0.037841                 -0.109044   \n",
       "TechSupport_False                      0.225483                  0.333071   \n",
       "StreamingTV_True                       0.215441                  0.136732   \n",
       "StreamingTV_False                      0.215441                  0.136732   \n",
       "StreamingMovies_True                   0.213409                  0.137001   \n",
       "StreamingMovies_False                  0.053087                  0.102381   \n",
       "Contract_OneYear                      -0.059000                 -0.106866   \n",
       "Contract_TwoYear                      -0.146347                 -0.280570   \n",
       "PaperlessBilling_True                  1.000000                  0.210569   \n",
       "PaymentMethod_Electronic               0.210569                  1.000000   \n",
       "PaymentMethod_Mailed                  -0.203773                 -0.385435   \n",
       "PaymentMethod_Bank                    -0.017567                 -0.378987   \n",
       "MonthlyCharges                         0.348601                  0.270377   \n",
       "Churn_Yes                              0.194917                  0.290754   \n",
       "\n",
       "                          PaymentMethod_Mailed  PaymentMethod_Bank  \\\n",
       "Gender_Male                           0.006535           -0.024519   \n",
       "SeniorCitizen_True                   -0.147933           -0.018109   \n",
       "Partner_True                         -0.090822            0.102192   \n",
       "Dependents_True                       0.049155            0.043813   \n",
       "Tenure                               -0.231618            0.244515   \n",
       "PhoneService_True                    -0.012763            0.011558   \n",
       "MultipleLines_True                   -0.234889            0.080459   \n",
       "MultipleLines_False                   0.224770           -0.072749   \n",
       "InternetService_DSL                   0.044735            0.023822   \n",
       "InternetService_Fiber                -0.298698           -0.020263   \n",
       "OnlineSecurity_True                  -0.075137            0.100605   \n",
       "OnlineSecurity_False                 -0.185798           -0.088673   \n",
       "OnlineBackup_True                    -0.167777            0.093853   \n",
       "OnlineBackup_False                   -0.094847           -0.087668   \n",
       "DeviceProtection_True                -0.184459            0.087923   \n",
       "DeviceProtection_False               -0.079457           -0.081465   \n",
       "TechSupport_True                     -0.083894            0.099451   \n",
       "TechSupport_False                    -0.177483           -0.088131   \n",
       "StreamingTV_True                     -0.244482            0.054295   \n",
       "StreamingTV_False                    -0.244482            0.054295   \n",
       "StreamingMovies_True                 -0.253085            0.050501   \n",
       "StreamingMovies_False                -0.007355           -0.047785   \n",
       "Contract_OneYear                      0.010149            0.053298   \n",
       "Contract_TwoYear                     -0.015084            0.153778   \n",
       "PaperlessBilling_True                -0.203773           -0.017567   \n",
       "PaymentMethod_Electronic             -0.385435           -0.378987   \n",
       "PaymentMethod_Mailed                  1.000000           -0.289744   \n",
       "PaymentMethod_Bank                   -0.289744            1.000000   \n",
       "MonthlyCharges                       -0.370037            0.048271   \n",
       "Churn_Yes                            -0.086829           -0.108358   \n",
       "\n",
       "                          MonthlyCharges  Churn_Yes  \n",
       "Gender_Male                    -0.009962  -0.009803  \n",
       "SeniorCitizen_True              0.217116   0.153265  \n",
       "Partner_True                    0.092326  -0.148118  \n",
       "Dependents_True                -0.106362  -0.163096  \n",
       "Tenure                          0.240910  -0.357045  \n",
       "PhoneService_True               0.246714   0.016015  \n",
       "MultipleLines_True              0.492552   0.043173  \n",
       "MultipleLines_False            -0.341428  -0.033240  \n",
       "InternetService_DSL            -0.157243  -0.122355  \n",
       "InternetService_Fiber           0.786215   0.308028  \n",
       "OnlineSecurity_True             0.294511  -0.174606  \n",
       "OnlineSecurity_False            0.363813   0.347697  \n",
       "OnlineBackup_True               0.443444  -0.083052  \n",
       "OnlineBackup_False              0.210029   0.270901  \n",
       "DeviceProtection_True           0.485521  -0.070216  \n",
       "DeviceProtection_False          0.171345   0.257844  \n",
       "TechSupport_True                0.342871  -0.165607  \n",
       "TechSupport_False               0.318353   0.340418  \n",
       "StreamingTV_True                0.628036   0.062088  \n",
       "StreamingTV_False               0.628036   0.062088  \n",
       "StreamingMovies_True            0.633854   0.061978  \n",
       "StreamingMovies_False           0.013178   0.131980  \n",
       "Contract_OneYear                0.002132  -0.179405  \n",
       "Contract_TwoYear               -0.075528  -0.302115  \n",
       "PaperlessBilling_True           0.348601   0.194917  \n",
       "PaymentMethod_Electronic        0.270377   0.290754  \n",
       "PaymentMethod_Mailed           -0.370037  -0.086829  \n",
       "PaymentMethod_Bank              0.048271  -0.108358  \n",
       "MonthlyCharges                  1.000000   0.194014  \n",
       "Churn_Yes                       0.194014   1.000000  \n",
       "\n",
       "[30 rows x 30 columns]"
      ]
     },
     "execution_count": 104,
     "metadata": {},
     "output_type": "execute_result"
    }
   ],
   "source": [
    "corr_matrix = churn1.corr()\n",
    "corr_matrix"
   ]
  },
  {
   "cell_type": "code",
   "execution_count": 105,
   "metadata": {
    "ExecuteTime": {
     "end_time": "2020-02-14T20:53:15.591916Z",
     "start_time": "2020-02-14T20:53:15.584934Z"
    }
   },
   "outputs": [
    {
     "data": {
      "text/plain": [
       "Tenure                      1.000000\n",
       "Contract_TwoYear            0.569051\n",
       "Partner_True                0.381536\n",
       "DeviceProtection_True       0.364594\n",
       "OnlineBackup_True           0.352923\n",
       "OnlineSecurity_True         0.330693\n",
       "MultipleLines_True          0.326064\n",
       "TechSupport_True            0.322988\n",
       "StreamingMovies_True        0.282435\n",
       "StreamingTV_False           0.277000\n",
       "StreamingTV_True            0.277000\n",
       "PaymentMethod_Bank          0.244515\n",
       "MonthlyCharges              0.240910\n",
       "Contract_OneYear            0.193720\n",
       "Dependents_True             0.168050\n",
       "InternetService_Fiber       0.015144\n",
       "InternetService_DSL         0.011840\n",
       "SeniorCitizen_True          0.006378\n",
       "PhoneService_True           0.004443\n",
       "Gender_Male                 0.001491\n",
       "PaperlessBilling_True      -0.003194\n",
       "PaymentMethod_Electronic   -0.208303\n",
       "PaymentMethod_Mailed       -0.231618\n",
       "StreamingMovies_False      -0.254833\n",
       "TechSupport_False          -0.268160\n",
       "OnlineSecurity_False       -0.273509\n",
       "OnlineBackup_False         -0.312756\n",
       "MultipleLines_False        -0.319857\n",
       "DeviceProtection_False     -0.321912\n",
       "Churn_Yes                  -0.357045\n",
       "Name: Tenure, dtype: float64"
      ]
     },
     "execution_count": 105,
     "metadata": {},
     "output_type": "execute_result"
    }
   ],
   "source": [
    "corr_matrix[\"Tenure\"].sort_values(ascending=False)"
   ]
  },
  {
   "cell_type": "code",
   "execution_count": 108,
   "metadata": {
    "ExecuteTime": {
     "end_time": "2020-02-14T20:54:48.382161Z",
     "start_time": "2020-02-14T20:54:43.415798Z"
    }
   },
   "outputs": [
    {
     "data": {
      "text/plain": [
       "array([[<matplotlib.axes._subplots.AxesSubplot object at 0x00000173057C1668>,\n",
       "        <matplotlib.axes._subplots.AxesSubplot object at 0x00000173066EC1D0>,\n",
       "        <matplotlib.axes._subplots.AxesSubplot object at 0x0000017305A8FC18>,\n",
       "        <matplotlib.axes._subplots.AxesSubplot object at 0x00000173066F5390>,\n",
       "        <matplotlib.axes._subplots.AxesSubplot object at 0x000001730668EB38>,\n",
       "        <matplotlib.axes._subplots.AxesSubplot object at 0x0000017305A4AB70>],\n",
       "       [<matplotlib.axes._subplots.AxesSubplot object at 0x0000017303233208>,\n",
       "        <matplotlib.axes._subplots.AxesSubplot object at 0x0000017305A59C88>,\n",
       "        <matplotlib.axes._subplots.AxesSubplot object at 0x0000017305A59CC0>,\n",
       "        <matplotlib.axes._subplots.AxesSubplot object at 0x0000017306785080>,\n",
       "        <matplotlib.axes._subplots.AxesSubplot object at 0x0000017305DE74A8>,\n",
       "        <matplotlib.axes._subplots.AxesSubplot object at 0x0000017305A9C8D0>],\n",
       "       [<matplotlib.axes._subplots.AxesSubplot object at 0x000001730321AF60>,\n",
       "        <matplotlib.axes._subplots.AxesSubplot object at 0x00000173031C9BA8>,\n",
       "        <matplotlib.axes._subplots.AxesSubplot object at 0x000001730662A588>,\n",
       "        <matplotlib.axes._subplots.AxesSubplot object at 0x00000173051D0A20>,\n",
       "        <matplotlib.axes._subplots.AxesSubplot object at 0x00000173066D3940>,\n",
       "        <matplotlib.axes._subplots.AxesSubplot object at 0x00000173055A0278>],\n",
       "       [<matplotlib.axes._subplots.AxesSubplot object at 0x00000173051D92B0>,\n",
       "        <matplotlib.axes._subplots.AxesSubplot object at 0x00000173051B7A20>,\n",
       "        <matplotlib.axes._subplots.AxesSubplot object at 0x00000173066D2E10>,\n",
       "        <matplotlib.axes._subplots.AxesSubplot object at 0x0000017306619400>,\n",
       "        <matplotlib.axes._subplots.AxesSubplot object at 0x0000017305ABC9B0>,\n",
       "        <matplotlib.axes._subplots.AxesSubplot object at 0x0000017306758F60>],\n",
       "       [<matplotlib.axes._subplots.AxesSubplot object at 0x00000173066BE550>,\n",
       "        <matplotlib.axes._subplots.AxesSubplot object at 0x00000173066BDB00>,\n",
       "        <matplotlib.axes._subplots.AxesSubplot object at 0x00000173057C80F0>,\n",
       "        <matplotlib.axes._subplots.AxesSubplot object at 0x00000173066716A0>,\n",
       "        <matplotlib.axes._subplots.AxesSubplot object at 0x0000017305D94C50>,\n",
       "        <matplotlib.axes._subplots.AxesSubplot object at 0x00000173054D2240>],\n",
       "       [<matplotlib.axes._subplots.AxesSubplot object at 0x00000173058E17F0>,\n",
       "        <matplotlib.axes._subplots.AxesSubplot object at 0x000001730579EDA0>,\n",
       "        <matplotlib.axes._subplots.AxesSubplot object at 0x0000017305140390>,\n",
       "        <matplotlib.axes._subplots.AxesSubplot object at 0x0000017305950940>,\n",
       "        <matplotlib.axes._subplots.AxesSubplot object at 0x00000173052C4EF0>,\n",
       "        <matplotlib.axes._subplots.AxesSubplot object at 0x00000173058A04E0>]],\n",
       "      dtype=object)"
      ]
     },
     "execution_count": 108,
     "metadata": {},
     "output_type": "execute_result"
    },
    {
     "data": {
      "image/png": "[encoded data removed]",
      "text/plain": [
       "<Figure size 864x576 with 36 Axes>"
      ]
     },
     "metadata": {
      "needs_background": "light"
     },
     "output_type": "display_data"
    }
   ],
   "source": [
    "# from pandas.tools.plotting import scatter_matrix # For older versions of Pandas\n",
    "from pandas.plotting import scatter_matrix\n",
    "\n",
    "attributes = [\"Churn_Yes\", \"Tenure\", \"MonthlyCharges\",\n",
    "              \"Gender_Male\",\"Dependents_True\",\"PaperlessBilling_True\"]\n",
    "scatter_matrix(churn1[attributes], figsize=(12, 8))"
   ]
  },
  {
   "cell_type": "code",
   "execution_count": 110,
   "metadata": {
    "ExecuteTime": {
     "end_time": "2020-02-14T20:55:14.393236Z",
     "start_time": "2020-02-14T20:55:14.168303Z"
    }
   },
   "outputs": [
    {
     "data": {
      "text/plain": [
       "[0, 80, 0, 150]"
      ]
     },
     "execution_count": 110,
     "metadata": {},
     "output_type": "execute_result"
    },
    {
     "data": {
      "image/png": "[encoded data removed]",
      "text/plain": [
       "<Figure size 432x288 with 1 Axes>"
      ]
     },
     "metadata": {
      "needs_background": "light"
     },
     "output_type": "display_data"
    }
   ],
   "source": [
    "churn1.plot(kind=\"scatter\", x=\"Tenure\", y=\"MonthlyCharges\",\n",
    "             alpha=0.1)\n",
    "plt.axis([0, 80, 0, 150])"
   ]
  },
  {
   "cell_type": "code",
   "execution_count": 111,
   "metadata": {
    "ExecuteTime": {
     "end_time": "2020-02-14T20:55:19.432391Z",
     "start_time": "2020-02-14T20:55:19.190523Z"
    }
   },
   "outputs": [
    {
     "data": {
      "text/plain": [
       "[15, 130, 0, 80]"
      ]
     },
     "execution_count": 111,
     "metadata": {},
     "output_type": "execute_result"
    },
    {
     "data": {
      "image/png": "[encoded data removed]",
      "text/plain": [
       "<Figure size 432x288 with 1 Axes>"
      ]
     },
     "metadata": {
      "needs_background": "light"
     },
     "output_type": "display_data"
    }
   ],
   "source": [
    "churn1.plot(kind=\"scatter\", x=\"MonthlyCharges\", y=\"Tenure\",\n",
    "             alpha=0.1)\n",
    "plt.axis([15, 130, 0, 80])"
   ]
  },
  {
   "cell_type": "code",
   "execution_count": 112,
   "metadata": {
    "ExecuteTime": {
     "end_time": "2020-02-14T20:55:24.199269Z",
     "start_time": "2020-02-14T20:55:24.123471Z"
    }
   },
   "outputs": [
    {
     "data": {
      "text/html": [
       "<div>\n",
       "<style scoped>\n",
       "    .dataframe tbody tr th:only-of-type {\n",
       "        vertical-align: middle;\n",
       "    }\n",
       "\n",
       "    .dataframe tbody tr th {\n",
       "        vertical-align: top;\n",
       "    }\n",
       "\n",
       "    .dataframe thead th {\n",
       "        text-align: right;\n",
       "    }\n",
       "</style>\n",
       "<table border=\"1\" class=\"dataframe\">\n",
       "  <thead>\n",
       "    <tr style=\"text-align: right;\">\n",
       "      <th></th>\n",
       "      <th>Gender_Male</th>\n",
       "      <th>SeniorCitizen_True</th>\n",
       "      <th>Partner_True</th>\n",
       "      <th>Dependents_True</th>\n",
       "      <th>Tenure</th>\n",
       "      <th>PhoneService_True</th>\n",
       "      <th>MultipleLines_True</th>\n",
       "      <th>MultipleLines_False</th>\n",
       "      <th>InternetService_DSL</th>\n",
       "      <th>InternetService_Fiber</th>\n",
       "      <th>...</th>\n",
       "      <th>StreamingMovies_True</th>\n",
       "      <th>StreamingMovies_False</th>\n",
       "      <th>Contract_OneYear</th>\n",
       "      <th>Contract_TwoYear</th>\n",
       "      <th>PaperlessBilling_True</th>\n",
       "      <th>PaymentMethod_Electronic</th>\n",
       "      <th>PaymentMethod_Mailed</th>\n",
       "      <th>PaymentMethod_Bank</th>\n",
       "      <th>MonthlyCharges</th>\n",
       "      <th>Churn_Yes</th>\n",
       "    </tr>\n",
       "  </thead>\n",
       "  <tbody>\n",
       "    <tr>\n",
       "      <th>count</th>\n",
       "      <td>5615.000000</td>\n",
       "      <td>5615.000000</td>\n",
       "      <td>5615.000000</td>\n",
       "      <td>5615.000000</td>\n",
       "      <td>5615.000000</td>\n",
       "      <td>5615.000000</td>\n",
       "      <td>5615.000000</td>\n",
       "      <td>5615.000000</td>\n",
       "      <td>5615.000000</td>\n",
       "      <td>5615.000000</td>\n",
       "      <td>...</td>\n",
       "      <td>5615.000000</td>\n",
       "      <td>5615.000000</td>\n",
       "      <td>5615.000000</td>\n",
       "      <td>5615.000000</td>\n",
       "      <td>5615.000000</td>\n",
       "      <td>5615.000000</td>\n",
       "      <td>5615.000000</td>\n",
       "      <td>5615.000000</td>\n",
       "      <td>5615.000000</td>\n",
       "      <td>5615.000000</td>\n",
       "    </tr>\n",
       "    <tr>\n",
       "      <th>mean</th>\n",
       "      <td>0.506500</td>\n",
       "      <td>0.164381</td>\n",
       "      <td>0.484239</td>\n",
       "      <td>0.297418</td>\n",
       "      <td>32.632235</td>\n",
       "      <td>0.903651</td>\n",
       "      <td>0.423508</td>\n",
       "      <td>0.480142</td>\n",
       "      <td>0.344256</td>\n",
       "      <td>0.438112</td>\n",
       "      <td>...</td>\n",
       "      <td>0.388424</td>\n",
       "      <td>0.393945</td>\n",
       "      <td>0.210686</td>\n",
       "      <td>0.242743</td>\n",
       "      <td>0.592876</td>\n",
       "      <td>0.335174</td>\n",
       "      <td>0.227605</td>\n",
       "      <td>0.221728</td>\n",
       "      <td>64.778780</td>\n",
       "      <td>0.263758</td>\n",
       "    </tr>\n",
       "    <tr>\n",
       "      <th>std</th>\n",
       "      <td>0.500002</td>\n",
       "      <td>0.370654</td>\n",
       "      <td>0.499796</td>\n",
       "      <td>0.457163</td>\n",
       "      <td>24.597956</td>\n",
       "      <td>0.295096</td>\n",
       "      <td>0.494158</td>\n",
       "      <td>0.499650</td>\n",
       "      <td>0.475168</td>\n",
       "      <td>0.496199</td>\n",
       "      <td>...</td>\n",
       "      <td>0.487435</td>\n",
       "      <td>0.488666</td>\n",
       "      <td>0.407832</td>\n",
       "      <td>0.428779</td>\n",
       "      <td>0.491342</td>\n",
       "      <td>0.472093</td>\n",
       "      <td>0.419323</td>\n",
       "      <td>0.415446</td>\n",
       "      <td>30.152966</td>\n",
       "      <td>0.440709</td>\n",
       "    </tr>\n",
       "    <tr>\n",
       "      <th>min</th>\n",
       "      <td>0.000000</td>\n",
       "      <td>0.000000</td>\n",
       "      <td>0.000000</td>\n",
       "      <td>0.000000</td>\n",
       "      <td>1.000000</td>\n",
       "      <td>0.000000</td>\n",
       "      <td>0.000000</td>\n",
       "      <td>0.000000</td>\n",
       "      <td>0.000000</td>\n",
       "      <td>0.000000</td>\n",
       "      <td>...</td>\n",
       "      <td>0.000000</td>\n",
       "      <td>0.000000</td>\n",
       "      <td>0.000000</td>\n",
       "      <td>0.000000</td>\n",
       "      <td>0.000000</td>\n",
       "      <td>0.000000</td>\n",
       "      <td>0.000000</td>\n",
       "      <td>0.000000</td>\n",
       "      <td>18.250000</td>\n",
       "      <td>0.000000</td>\n",
       "    </tr>\n",
       "    <tr>\n",
       "      <th>25%</th>\n",
       "      <td>0.000000</td>\n",
       "      <td>0.000000</td>\n",
       "      <td>0.000000</td>\n",
       "      <td>0.000000</td>\n",
       "      <td>9.000000</td>\n",
       "      <td>1.000000</td>\n",
       "      <td>0.000000</td>\n",
       "      <td>0.000000</td>\n",
       "      <td>0.000000</td>\n",
       "      <td>0.000000</td>\n",
       "      <td>...</td>\n",
       "      <td>0.000000</td>\n",
       "      <td>0.000000</td>\n",
       "      <td>0.000000</td>\n",
       "      <td>0.000000</td>\n",
       "      <td>0.000000</td>\n",
       "      <td>0.000000</td>\n",
       "      <td>0.000000</td>\n",
       "      <td>0.000000</td>\n",
       "      <td>35.475000</td>\n",
       "      <td>0.000000</td>\n",
       "    </tr>\n",
       "    <tr>\n",
       "      <th>50%</th>\n",
       "      <td>1.000000</td>\n",
       "      <td>0.000000</td>\n",
       "      <td>0.000000</td>\n",
       "      <td>0.000000</td>\n",
       "      <td>29.000000</td>\n",
       "      <td>1.000000</td>\n",
       "      <td>0.000000</td>\n",
       "      <td>0.000000</td>\n",
       "      <td>0.000000</td>\n",
       "      <td>0.000000</td>\n",
       "      <td>...</td>\n",
       "      <td>0.000000</td>\n",
       "      <td>0.000000</td>\n",
       "      <td>0.000000</td>\n",
       "      <td>0.000000</td>\n",
       "      <td>1.000000</td>\n",
       "      <td>0.000000</td>\n",
       "      <td>0.000000</td>\n",
       "      <td>0.000000</td>\n",
       "      <td>70.350000</td>\n",
       "      <td>0.000000</td>\n",
       "    </tr>\n",
       "    <tr>\n",
       "      <th>75%</th>\n",
       "      <td>1.000000</td>\n",
       "      <td>0.000000</td>\n",
       "      <td>1.000000</td>\n",
       "      <td>1.000000</td>\n",
       "      <td>56.000000</td>\n",
       "      <td>1.000000</td>\n",
       "      <td>1.000000</td>\n",
       "      <td>1.000000</td>\n",
       "      <td>1.000000</td>\n",
       "      <td>1.000000</td>\n",
       "      <td>...</td>\n",
       "      <td>1.000000</td>\n",
       "      <td>1.000000</td>\n",
       "      <td>0.000000</td>\n",
       "      <td>0.000000</td>\n",
       "      <td>1.000000</td>\n",
       "      <td>1.000000</td>\n",
       "      <td>0.000000</td>\n",
       "      <td>0.000000</td>\n",
       "      <td>89.850000</td>\n",
       "      <td>1.000000</td>\n",
       "    </tr>\n",
       "    <tr>\n",
       "      <th>max</th>\n",
       "      <td>1.000000</td>\n",
       "      <td>1.000000</td>\n",
       "      <td>1.000000</td>\n",
       "      <td>1.000000</td>\n",
       "      <td>72.000000</td>\n",
       "      <td>1.000000</td>\n",
       "      <td>1.000000</td>\n",
       "      <td>1.000000</td>\n",
       "      <td>1.000000</td>\n",
       "      <td>1.000000</td>\n",
       "      <td>...</td>\n",
       "      <td>1.000000</td>\n",
       "      <td>1.000000</td>\n",
       "      <td>1.000000</td>\n",
       "      <td>1.000000</td>\n",
       "      <td>1.000000</td>\n",
       "      <td>1.000000</td>\n",
       "      <td>1.000000</td>\n",
       "      <td>1.000000</td>\n",
       "      <td>118.750000</td>\n",
       "      <td>1.000000</td>\n",
       "    </tr>\n",
       "  </tbody>\n",
       "</table>\n",
       "<p>8 rows × 30 columns</p>\n",
       "</div>"
      ],
      "text/plain": [
       "       Gender_Male  SeniorCitizen_True  Partner_True  Dependents_True  \\\n",
       "count  5615.000000         5615.000000   5615.000000      5615.000000   \n",
       "mean      0.506500            0.164381      0.484239         0.297418   \n",
       "std       0.500002            0.370654      0.499796         0.457163   \n",
       "min       0.000000            0.000000      0.000000         0.000000   \n",
       "25%       0.000000            0.000000      0.000000         0.000000   \n",
       "50%       1.000000            0.000000      0.000000         0.000000   \n",
       "75%       1.000000            0.000000      1.000000         1.000000   \n",
       "max       1.000000            1.000000      1.000000         1.000000   \n",
       "\n",
       "            Tenure  PhoneService_True  MultipleLines_True  \\\n",
       "count  5615.000000        5615.000000         5615.000000   \n",
       "mean     32.632235           0.903651            0.423508   \n",
       "std      24.597956           0.295096            0.494158   \n",
       "min       1.000000           0.000000            0.000000   \n",
       "25%       9.000000           1.000000            0.000000   \n",
       "50%      29.000000           1.000000            0.000000   \n",
       "75%      56.000000           1.000000            1.000000   \n",
       "max      72.000000           1.000000            1.000000   \n",
       "\n",
       "       MultipleLines_False  InternetService_DSL  InternetService_Fiber  ...  \\\n",
       "count          5615.000000          5615.000000            5615.000000  ...   \n",
       "mean              0.480142             0.344256               0.438112  ...   \n",
       "std               0.499650             0.475168               0.496199  ...   \n",
       "min               0.000000             0.000000               0.000000  ...   \n",
       "25%               0.000000             0.000000               0.000000  ...   \n",
       "50%               0.000000             0.000000               0.000000  ...   \n",
       "75%               1.000000             1.000000               1.000000  ...   \n",
       "max               1.000000             1.000000               1.000000  ...   \n",
       "\n",
       "       StreamingMovies_True  StreamingMovies_False  Contract_OneYear  \\\n",
       "count           5615.000000            5615.000000       5615.000000   \n",
       "mean               0.388424               0.393945          0.210686   \n",
       "std                0.487435               0.488666          0.407832   \n",
       "min                0.000000               0.000000          0.000000   \n",
       "25%                0.000000               0.000000          0.000000   \n",
       "50%                0.000000               0.000000          0.000000   \n",
       "75%                1.000000               1.000000          0.000000   \n",
       "max                1.000000               1.000000          1.000000   \n",
       "\n",
       "       Contract_TwoYear  PaperlessBilling_True  PaymentMethod_Electronic  \\\n",
       "count       5615.000000            5615.000000               5615.000000   \n",
       "mean           0.242743               0.592876                  0.335174   \n",
       "std            0.428779               0.491342                  0.472093   \n",
       "min            0.000000               0.000000                  0.000000   \n",
       "25%            0.000000               0.000000                  0.000000   \n",
       "50%            0.000000               1.000000                  0.000000   \n",
       "75%            0.000000               1.000000                  1.000000   \n",
       "max            1.000000               1.000000                  1.000000   \n",
       "\n",
       "       PaymentMethod_Mailed  PaymentMethod_Bank  MonthlyCharges    Churn_Yes  \n",
       "count           5615.000000         5615.000000     5615.000000  5615.000000  \n",
       "mean               0.227605            0.221728       64.778780     0.263758  \n",
       "std                0.419323            0.415446       30.152966     0.440709  \n",
       "min                0.000000            0.000000       18.250000     0.000000  \n",
       "25%                0.000000            0.000000       35.475000     0.000000  \n",
       "50%                0.000000            0.000000       70.350000     0.000000  \n",
       "75%                0.000000            0.000000       89.850000     1.000000  \n",
       "max                1.000000            1.000000      118.750000     1.000000  \n",
       "\n",
       "[8 rows x 30 columns]"
      ]
     },
     "execution_count": 112,
     "metadata": {},
     "output_type": "execute_result"
    }
   ],
   "source": [
    "churn1.describe()"
   ]
  },
  {
   "cell_type": "code",
   "execution_count": 38,
   "metadata": {
    "ExecuteTime": {
     "end_time": "2020-02-14T20:26:06.534076Z",
     "start_time": "2020-02-14T20:26:06.530100Z"
    }
   },
   "outputs": [],
   "source": [
    "#### Prep for machine learning "
   ]
  },
  {
   "cell_type": "code",
   "execution_count": 113,
   "metadata": {
    "ExecuteTime": {
     "end_time": "2020-02-14T20:55:34.672388Z",
     "start_time": "2020-02-14T20:55:34.662418Z"
    }
   },
   "outputs": [],
   "source": [
    "#setting predictors and target variable\n",
    "churn = strat_train_set.drop(\"Churn_Yes\", axis=1) # drop labels for training set\n",
    "churn_labels = strat_train_set[\"Churn_Yes\"].copy()"
   ]
  },
  {
   "cell_type": "code",
   "execution_count": 114,
   "metadata": {
    "ExecuteTime": {
     "end_time": "2020-02-14T20:55:36.010895Z",
     "start_time": "2020-02-14T20:55:35.986934Z"
    },
    "scrolled": true
   },
   "outputs": [
    {
     "data": {
      "text/html": [
       "<div>\n",
       "<style scoped>\n",
       "    .dataframe tbody tr th:only-of-type {\n",
       "        vertical-align: middle;\n",
       "    }\n",
       "\n",
       "    .dataframe tbody tr th {\n",
       "        vertical-align: top;\n",
       "    }\n",
       "\n",
       "    .dataframe thead th {\n",
       "        text-align: right;\n",
       "    }\n",
       "</style>\n",
       "<table border=\"1\" class=\"dataframe\">\n",
       "  <thead>\n",
       "    <tr style=\"text-align: right;\">\n",
       "      <th></th>\n",
       "      <th>customerID</th>\n",
       "      <th>Gender_Male</th>\n",
       "      <th>SeniorCitizen_True</th>\n",
       "      <th>Partner_True</th>\n",
       "      <th>Dependents_True</th>\n",
       "      <th>Tenure</th>\n",
       "      <th>PhoneService_True</th>\n",
       "      <th>MultipleLines_True</th>\n",
       "      <th>MultipleLines_False</th>\n",
       "      <th>InternetService_DSL</th>\n",
       "      <th>...</th>\n",
       "      <th>StreamingTV_False</th>\n",
       "      <th>StreamingMovies_True</th>\n",
       "      <th>StreamingMovies_False</th>\n",
       "      <th>Contract_OneYear</th>\n",
       "      <th>Contract_TwoYear</th>\n",
       "      <th>PaperlessBilling_True</th>\n",
       "      <th>PaymentMethod_Electronic</th>\n",
       "      <th>PaymentMethod_Mailed</th>\n",
       "      <th>PaymentMethod_Bank</th>\n",
       "      <th>MonthlyCharges</th>\n",
       "    </tr>\n",
       "  </thead>\n",
       "  <tbody>\n",
       "    <tr>\n",
       "      <th>3826</th>\n",
       "      <td>NaN</td>\n",
       "      <td>NaN</td>\n",
       "      <td>NaN</td>\n",
       "      <td>NaN</td>\n",
       "      <td>NaN</td>\n",
       "      <td>NaN</td>\n",
       "      <td>NaN</td>\n",
       "      <td>NaN</td>\n",
       "      <td>NaN</td>\n",
       "      <td>NaN</td>\n",
       "      <td>...</td>\n",
       "      <td>NaN</td>\n",
       "      <td>NaN</td>\n",
       "      <td>NaN</td>\n",
       "      <td>NaN</td>\n",
       "      <td>NaN</td>\n",
       "      <td>NaN</td>\n",
       "      <td>NaN</td>\n",
       "      <td>NaN</td>\n",
       "      <td>NaN</td>\n",
       "      <td>NaN</td>\n",
       "    </tr>\n",
       "    <tr>\n",
       "      <th>6754</th>\n",
       "      <td>NaN</td>\n",
       "      <td>NaN</td>\n",
       "      <td>NaN</td>\n",
       "      <td>NaN</td>\n",
       "      <td>NaN</td>\n",
       "      <td>NaN</td>\n",
       "      <td>NaN</td>\n",
       "      <td>NaN</td>\n",
       "      <td>NaN</td>\n",
       "      <td>NaN</td>\n",
       "      <td>...</td>\n",
       "      <td>NaN</td>\n",
       "      <td>NaN</td>\n",
       "      <td>NaN</td>\n",
       "      <td>NaN</td>\n",
       "      <td>NaN</td>\n",
       "      <td>NaN</td>\n",
       "      <td>NaN</td>\n",
       "      <td>NaN</td>\n",
       "      <td>NaN</td>\n",
       "      <td>NaN</td>\n",
       "    </tr>\n",
       "    <tr>\n",
       "      <th>6670</th>\n",
       "      <td>NaN</td>\n",
       "      <td>NaN</td>\n",
       "      <td>NaN</td>\n",
       "      <td>NaN</td>\n",
       "      <td>NaN</td>\n",
       "      <td>NaN</td>\n",
       "      <td>NaN</td>\n",
       "      <td>NaN</td>\n",
       "      <td>NaN</td>\n",
       "      <td>NaN</td>\n",
       "      <td>...</td>\n",
       "      <td>NaN</td>\n",
       "      <td>NaN</td>\n",
       "      <td>NaN</td>\n",
       "      <td>NaN</td>\n",
       "      <td>NaN</td>\n",
       "      <td>NaN</td>\n",
       "      <td>NaN</td>\n",
       "      <td>NaN</td>\n",
       "      <td>NaN</td>\n",
       "      <td>NaN</td>\n",
       "    </tr>\n",
       "    <tr>\n",
       "      <th>1340</th>\n",
       "      <td>NaN</td>\n",
       "      <td>NaN</td>\n",
       "      <td>NaN</td>\n",
       "      <td>NaN</td>\n",
       "      <td>NaN</td>\n",
       "      <td>NaN</td>\n",
       "      <td>NaN</td>\n",
       "      <td>NaN</td>\n",
       "      <td>NaN</td>\n",
       "      <td>NaN</td>\n",
       "      <td>...</td>\n",
       "      <td>NaN</td>\n",
       "      <td>NaN</td>\n",
       "      <td>NaN</td>\n",
       "      <td>NaN</td>\n",
       "      <td>NaN</td>\n",
       "      <td>NaN</td>\n",
       "      <td>NaN</td>\n",
       "      <td>NaN</td>\n",
       "      <td>NaN</td>\n",
       "      <td>NaN</td>\n",
       "    </tr>\n",
       "    <tr>\n",
       "      <th>936</th>\n",
       "      <td>NaN</td>\n",
       "      <td>NaN</td>\n",
       "      <td>NaN</td>\n",
       "      <td>NaN</td>\n",
       "      <td>NaN</td>\n",
       "      <td>NaN</td>\n",
       "      <td>NaN</td>\n",
       "      <td>NaN</td>\n",
       "      <td>NaN</td>\n",
       "      <td>NaN</td>\n",
       "      <td>...</td>\n",
       "      <td>NaN</td>\n",
       "      <td>NaN</td>\n",
       "      <td>NaN</td>\n",
       "      <td>NaN</td>\n",
       "      <td>NaN</td>\n",
       "      <td>NaN</td>\n",
       "      <td>NaN</td>\n",
       "      <td>NaN</td>\n",
       "      <td>NaN</td>\n",
       "      <td>NaN</td>\n",
       "    </tr>\n",
       "  </tbody>\n",
       "</table>\n",
       "<p>5 rows × 30 columns</p>\n",
       "</div>"
      ],
      "text/plain": [
       "     customerID  Gender_Male  SeniorCitizen_True  Partner_True  \\\n",
       "3826        NaN          NaN                 NaN           NaN   \n",
       "6754        NaN          NaN                 NaN           NaN   \n",
       "6670        NaN          NaN                 NaN           NaN   \n",
       "1340        NaN          NaN                 NaN           NaN   \n",
       "936         NaN          NaN                 NaN           NaN   \n",
       "\n",
       "      Dependents_True  Tenure  PhoneService_True  MultipleLines_True  \\\n",
       "3826              NaN     NaN                NaN                 NaN   \n",
       "6754              NaN     NaN                NaN                 NaN   \n",
       "6670              NaN     NaN                NaN                 NaN   \n",
       "1340              NaN     NaN                NaN                 NaN   \n",
       "936               NaN     NaN                NaN                 NaN   \n",
       "\n",
       "      MultipleLines_False  InternetService_DSL  ...  StreamingTV_False  \\\n",
       "3826                  NaN                  NaN  ...                NaN   \n",
       "6754                  NaN                  NaN  ...                NaN   \n",
       "6670                  NaN                  NaN  ...                NaN   \n",
       "1340                  NaN                  NaN  ...                NaN   \n",
       "936                   NaN                  NaN  ...                NaN   \n",
       "\n",
       "      StreamingMovies_True  StreamingMovies_False  Contract_OneYear  \\\n",
       "3826                   NaN                    NaN               NaN   \n",
       "6754                   NaN                    NaN               NaN   \n",
       "6670                   NaN                    NaN               NaN   \n",
       "1340                   NaN                    NaN               NaN   \n",
       "936                    NaN                    NaN               NaN   \n",
       "\n",
       "      Contract_TwoYear  PaperlessBilling_True  PaymentMethod_Electronic  \\\n",
       "3826               NaN                    NaN                       NaN   \n",
       "6754               NaN                    NaN                       NaN   \n",
       "6670               NaN                    NaN                       NaN   \n",
       "1340               NaN                    NaN                       NaN   \n",
       "936                NaN                    NaN                       NaN   \n",
       "\n",
       "      PaymentMethod_Mailed  PaymentMethod_Bank  MonthlyCharges  \n",
       "3826                   NaN                 NaN             NaN  \n",
       "6754                   NaN                 NaN             NaN  \n",
       "6670                   NaN                 NaN             NaN  \n",
       "1340                   NaN                 NaN             NaN  \n",
       "936                    NaN                 NaN             NaN  \n",
       "\n",
       "[5 rows x 30 columns]"
      ]
     },
     "execution_count": 114,
     "metadata": {},
     "output_type": "execute_result"
    }
   ],
   "source": [
    "#finding incomplete rows in data\n",
    "sample_incomplete_rows = churn[churn.isnull().any(axis=1)].head()\n",
    "sample_incomplete_rows"
   ]
  },
  {
   "cell_type": "code",
   "execution_count": 115,
   "metadata": {
    "ExecuteTime": {
     "end_time": "2020-02-14T20:55:38.678535Z",
     "start_time": "2020-02-14T20:55:38.672551Z"
    }
   },
   "outputs": [
    {
     "data": {
      "text/plain": [
       "customerID                  0\n",
       "Gender_Male                 0\n",
       "SeniorCitizen_True          0\n",
       "Partner_True                0\n",
       "Dependents_True             0\n",
       "Tenure                      0\n",
       "PhoneService_True           0\n",
       "MultipleLines_True          0\n",
       "MultipleLines_False         0\n",
       "InternetService_DSL         0\n",
       "InternetService_Fiber       0\n",
       "OnlineSecurity_True         0\n",
       "OnlineSecurity_False        0\n",
       "OnlineBackup_True           0\n",
       "OnlineBackup_False          0\n",
       "DeviceProtection_True       0\n",
       "DeviceProtection_False      0\n",
       "TechSupport_True            0\n",
       "TechSupport_False           0\n",
       "StreamingTV_True            0\n",
       "StreamingTV_False           0\n",
       "StreamingMovies_True        0\n",
       "StreamingMovies_False       0\n",
       "Contract_OneYear            0\n",
       "Contract_TwoYear            0\n",
       "PaperlessBilling_True       0\n",
       "PaymentMethod_Electronic    0\n",
       "PaymentMethod_Mailed        0\n",
       "PaymentMethod_Bank          0\n",
       "MonthlyCharges              0\n",
       "dtype: int64"
      ]
     },
     "execution_count": 115,
     "metadata": {},
     "output_type": "execute_result"
    }
   ],
   "source": [
    "sample_incomplete_rows.count()"
   ]
  },
  {
   "cell_type": "code",
   "execution_count": 116,
   "metadata": {
    "ExecuteTime": {
     "end_time": "2020-02-14T20:55:43.039187Z",
     "start_time": "2020-02-14T20:55:43.015741Z"
    }
   },
   "outputs": [
    {
     "data": {
      "text/html": [
       "<div>\n",
       "<style scoped>\n",
       "    .dataframe tbody tr th:only-of-type {\n",
       "        vertical-align: middle;\n",
       "    }\n",
       "\n",
       "    .dataframe tbody tr th {\n",
       "        vertical-align: top;\n",
       "    }\n",
       "\n",
       "    .dataframe thead th {\n",
       "        text-align: right;\n",
       "    }\n",
       "</style>\n",
       "<table border=\"1\" class=\"dataframe\">\n",
       "  <thead>\n",
       "    <tr style=\"text-align: right;\">\n",
       "      <th></th>\n",
       "      <th>customerID</th>\n",
       "      <th>Gender_Male</th>\n",
       "      <th>SeniorCitizen_True</th>\n",
       "      <th>Partner_True</th>\n",
       "      <th>Dependents_True</th>\n",
       "      <th>Tenure</th>\n",
       "      <th>PhoneService_True</th>\n",
       "      <th>MultipleLines_True</th>\n",
       "      <th>MultipleLines_False</th>\n",
       "      <th>InternetService_DSL</th>\n",
       "      <th>...</th>\n",
       "      <th>StreamingTV_False</th>\n",
       "      <th>StreamingMovies_True</th>\n",
       "      <th>StreamingMovies_False</th>\n",
       "      <th>Contract_OneYear</th>\n",
       "      <th>Contract_TwoYear</th>\n",
       "      <th>PaperlessBilling_True</th>\n",
       "      <th>PaymentMethod_Electronic</th>\n",
       "      <th>PaymentMethod_Mailed</th>\n",
       "      <th>PaymentMethod_Bank</th>\n",
       "      <th>MonthlyCharges</th>\n",
       "    </tr>\n",
       "  </thead>\n",
       "  <tbody>\n",
       "    <tr>\n",
       "      <th>5882</th>\n",
       "      <td>2138-VFAPZ</td>\n",
       "      <td>0.0</td>\n",
       "      <td>0.0</td>\n",
       "      <td>1.0</td>\n",
       "      <td>1.0</td>\n",
       "      <td>14.0</td>\n",
       "      <td>1.0</td>\n",
       "      <td>0.0</td>\n",
       "      <td>1.0</td>\n",
       "      <td>0.0</td>\n",
       "      <td>...</td>\n",
       "      <td>0.0</td>\n",
       "      <td>0.0</td>\n",
       "      <td>0.0</td>\n",
       "      <td>0.0</td>\n",
       "      <td>1.0</td>\n",
       "      <td>1.0</td>\n",
       "      <td>0.0</td>\n",
       "      <td>1.0</td>\n",
       "      <td>0.0</td>\n",
       "      <td>19.70</td>\n",
       "    </tr>\n",
       "    <tr>\n",
       "      <th>3614</th>\n",
       "      <td>8039-EQPIM</td>\n",
       "      <td>1.0</td>\n",
       "      <td>0.0</td>\n",
       "      <td>1.0</td>\n",
       "      <td>0.0</td>\n",
       "      <td>69.0</td>\n",
       "      <td>0.0</td>\n",
       "      <td>0.0</td>\n",
       "      <td>0.0</td>\n",
       "      <td>1.0</td>\n",
       "      <td>...</td>\n",
       "      <td>1.0</td>\n",
       "      <td>1.0</td>\n",
       "      <td>0.0</td>\n",
       "      <td>0.0</td>\n",
       "      <td>1.0</td>\n",
       "      <td>0.0</td>\n",
       "      <td>0.0</td>\n",
       "      <td>0.0</td>\n",
       "      <td>1.0</td>\n",
       "      <td>60.25</td>\n",
       "    </tr>\n",
       "    <tr>\n",
       "      <th>923</th>\n",
       "      <td>9199-PWQVC</td>\n",
       "      <td>0.0</td>\n",
       "      <td>0.0</td>\n",
       "      <td>1.0</td>\n",
       "      <td>0.0</td>\n",
       "      <td>63.0</td>\n",
       "      <td>1.0</td>\n",
       "      <td>1.0</td>\n",
       "      <td>0.0</td>\n",
       "      <td>1.0</td>\n",
       "      <td>...</td>\n",
       "      <td>1.0</td>\n",
       "      <td>1.0</td>\n",
       "      <td>0.0</td>\n",
       "      <td>1.0</td>\n",
       "      <td>0.0</td>\n",
       "      <td>1.0</td>\n",
       "      <td>0.0</td>\n",
       "      <td>0.0</td>\n",
       "      <td>0.0</td>\n",
       "      <td>79.70</td>\n",
       "    </tr>\n",
       "    <tr>\n",
       "      <th>609</th>\n",
       "      <td>3419-SNJJD</td>\n",
       "      <td>0.0</td>\n",
       "      <td>1.0</td>\n",
       "      <td>1.0</td>\n",
       "      <td>0.0</td>\n",
       "      <td>65.0</td>\n",
       "      <td>1.0</td>\n",
       "      <td>1.0</td>\n",
       "      <td>0.0</td>\n",
       "      <td>0.0</td>\n",
       "      <td>...</td>\n",
       "      <td>1.0</td>\n",
       "      <td>1.0</td>\n",
       "      <td>0.0</td>\n",
       "      <td>0.0</td>\n",
       "      <td>0.0</td>\n",
       "      <td>0.0</td>\n",
       "      <td>0.0</td>\n",
       "      <td>0.0</td>\n",
       "      <td>1.0</td>\n",
       "      <td>105.25</td>\n",
       "    </tr>\n",
       "    <tr>\n",
       "      <th>5042</th>\n",
       "      <td>1561-BWHIN</td>\n",
       "      <td>1.0</td>\n",
       "      <td>0.0</td>\n",
       "      <td>1.0</td>\n",
       "      <td>1.0</td>\n",
       "      <td>19.0</td>\n",
       "      <td>1.0</td>\n",
       "      <td>0.0</td>\n",
       "      <td>1.0</td>\n",
       "      <td>0.0</td>\n",
       "      <td>...</td>\n",
       "      <td>0.0</td>\n",
       "      <td>0.0</td>\n",
       "      <td>0.0</td>\n",
       "      <td>1.0</td>\n",
       "      <td>0.0</td>\n",
       "      <td>0.0</td>\n",
       "      <td>0.0</td>\n",
       "      <td>1.0</td>\n",
       "      <td>0.0</td>\n",
       "      <td>19.80</td>\n",
       "    </tr>\n",
       "  </tbody>\n",
       "</table>\n",
       "<p>5 rows × 30 columns</p>\n",
       "</div>"
      ],
      "text/plain": [
       "      customerID  Gender_Male  SeniorCitizen_True  Partner_True  \\\n",
       "5882  2138-VFAPZ          0.0                 0.0           1.0   \n",
       "3614  8039-EQPIM          1.0                 0.0           1.0   \n",
       "923   9199-PWQVC          0.0                 0.0           1.0   \n",
       "609   3419-SNJJD          0.0                 1.0           1.0   \n",
       "5042  1561-BWHIN          1.0                 0.0           1.0   \n",
       "\n",
       "      Dependents_True  Tenure  PhoneService_True  MultipleLines_True  \\\n",
       "5882              1.0    14.0                1.0                 0.0   \n",
       "3614              0.0    69.0                0.0                 0.0   \n",
       "923               0.0    63.0                1.0                 1.0   \n",
       "609               0.0    65.0                1.0                 1.0   \n",
       "5042              1.0    19.0                1.0                 0.0   \n",
       "\n",
       "      MultipleLines_False  InternetService_DSL  ...  StreamingTV_False  \\\n",
       "5882                  1.0                  0.0  ...                0.0   \n",
       "3614                  0.0                  1.0  ...                1.0   \n",
       "923                   0.0                  1.0  ...                1.0   \n",
       "609                   0.0                  0.0  ...                1.0   \n",
       "5042                  1.0                  0.0  ...                0.0   \n",
       "\n",
       "      StreamingMovies_True  StreamingMovies_False  Contract_OneYear  \\\n",
       "5882                   0.0                    0.0               0.0   \n",
       "3614                   1.0                    0.0               0.0   \n",
       "923                    1.0                    0.0               1.0   \n",
       "609                    1.0                    0.0               0.0   \n",
       "5042                   0.0                    0.0               1.0   \n",
       "\n",
       "      Contract_TwoYear  PaperlessBilling_True  PaymentMethod_Electronic  \\\n",
       "5882               1.0                    1.0                       0.0   \n",
       "3614               1.0                    0.0                       0.0   \n",
       "923                0.0                    1.0                       0.0   \n",
       "609                0.0                    0.0                       0.0   \n",
       "5042               0.0                    0.0                       0.0   \n",
       "\n",
       "      PaymentMethod_Mailed  PaymentMethod_Bank  MonthlyCharges  \n",
       "5882                   1.0                 0.0           19.70  \n",
       "3614                   0.0                 1.0           60.25  \n",
       "923                    0.0                 0.0           79.70  \n",
       "609                    0.0                 1.0          105.25  \n",
       "5042                   1.0                 0.0           19.80  \n",
       "\n",
       "[5 rows x 30 columns]"
      ]
     },
     "execution_count": 116,
     "metadata": {},
     "output_type": "execute_result"
    }
   ],
   "source": [
    "churn.head()"
   ]
  },
  {
   "cell_type": "code",
   "execution_count": 117,
   "metadata": {
    "ExecuteTime": {
     "end_time": "2020-02-14T20:55:45.659363Z",
     "start_time": "2020-02-14T20:55:45.653382Z"
    }
   },
   "outputs": [],
   "source": [
    "try:\n",
    "    from sklearn.impute import SimpleImputer # Scikit-Learn 0.20+\n",
    "except ImportError:\n",
    "    from sklearn.preprocessing import Imputer as SimpleImputer\n",
    "\n",
    "imputer = SimpleImputer(strategy=\"median\")"
   ]
  },
  {
   "cell_type": "code",
   "execution_count": 118,
   "metadata": {
    "ExecuteTime": {
     "end_time": "2020-02-14T20:55:55.637029Z",
     "start_time": "2020-02-14T20:55:55.628042Z"
    }
   },
   "outputs": [],
   "source": [
    "churn_num=churn.select_dtypes(include=[np.number])"
   ]
  },
  {
   "cell_type": "code",
   "execution_count": 119,
   "metadata": {
    "ExecuteTime": {
     "end_time": "2020-02-14T20:55:56.245771Z",
     "start_time": "2020-02-14T20:55:56.225816Z"
    }
   },
   "outputs": [
    {
     "data": {
      "text/plain": [
       "SimpleImputer(add_indicator=False, copy=True, fill_value=None,\n",
       "              missing_values=nan, strategy='median', verbose=0)"
      ]
     },
     "execution_count": 119,
     "metadata": {},
     "output_type": "execute_result"
    }
   ],
   "source": [
    "imputer.fit(churn_num)"
   ]
  },
  {
   "cell_type": "code",
   "execution_count": 120,
   "metadata": {
    "ExecuteTime": {
     "end_time": "2020-02-14T20:55:56.758172Z",
     "start_time": "2020-02-14T20:55:56.750193Z"
    }
   },
   "outputs": [
    {
     "data": {
      "text/plain": [
       "array([ 1.  ,  0.  ,  0.  ,  0.  , 29.  ,  1.  ,  0.  ,  0.  ,  0.  ,\n",
       "        0.  ,  0.  ,  0.  ,  0.  ,  0.  ,  0.  ,  0.  ,  0.  ,  0.  ,\n",
       "        0.  ,  0.  ,  0.  ,  0.  ,  0.  ,  0.  ,  1.  ,  0.  ,  0.  ,\n",
       "        0.  , 70.35])"
      ]
     },
     "execution_count": 120,
     "metadata": {},
     "output_type": "execute_result"
    }
   ],
   "source": [
    "imputer.statistics_"
   ]
  },
  {
   "cell_type": "code",
   "execution_count": 121,
   "metadata": {
    "ExecuteTime": {
     "end_time": "2020-02-14T20:55:57.289952Z",
     "start_time": "2020-02-14T20:55:57.284966Z"
    }
   },
   "outputs": [
    {
     "data": {
      "text/plain": [
       "array([ 1.  ,  0.  ,  0.  ,  0.  , 29.  ,  1.  ,  0.  ,  0.  ,  0.  ,\n",
       "        0.  ,  0.  ,  0.  ,  0.  ,  0.  ,  0.  ,  0.  ,  0.  ,  0.  ,\n",
       "        0.  ,  0.  ,  0.  ,  0.  ,  0.  ,  0.  ,  1.  ,  0.  ,  0.  ,\n",
       "        0.  , 70.35])"
      ]
     },
     "execution_count": 121,
     "metadata": {},
     "output_type": "execute_result"
    }
   ],
   "source": [
    "#checking that the numbers are the same manually\n",
    "churn_num.median().values"
   ]
  },
  {
   "cell_type": "code",
   "execution_count": 122,
   "metadata": {
    "ExecuteTime": {
     "end_time": "2020-02-14T20:55:58.455711Z",
     "start_time": "2020-02-14T20:55:58.449707Z"
    }
   },
   "outputs": [],
   "source": [
    "X = imputer.transform(churn_num)"
   ]
  },
  {
   "cell_type": "code",
   "execution_count": 123,
   "metadata": {
    "ExecuteTime": {
     "end_time": "2020-02-14T20:55:58.889529Z",
     "start_time": "2020-02-14T20:55:58.884543Z"
    }
   },
   "outputs": [],
   "source": [
    "churn_tr= pd.DataFrame(X, columns=churn_num.columns, index=churn.index)"
   ]
  },
  {
   "cell_type": "code",
   "execution_count": 124,
   "metadata": {
    "ExecuteTime": {
     "end_time": "2020-02-14T20:55:59.723589Z",
     "start_time": "2020-02-14T20:55:59.700631Z"
    }
   },
   "outputs": [
    {
     "data": {
      "text/html": [
       "<div>\n",
       "<style scoped>\n",
       "    .dataframe tbody tr th:only-of-type {\n",
       "        vertical-align: middle;\n",
       "    }\n",
       "\n",
       "    .dataframe tbody tr th {\n",
       "        vertical-align: top;\n",
       "    }\n",
       "\n",
       "    .dataframe thead th {\n",
       "        text-align: right;\n",
       "    }\n",
       "</style>\n",
       "<table border=\"1\" class=\"dataframe\">\n",
       "  <thead>\n",
       "    <tr style=\"text-align: right;\">\n",
       "      <th></th>\n",
       "      <th>Gender_Male</th>\n",
       "      <th>SeniorCitizen_True</th>\n",
       "      <th>Partner_True</th>\n",
       "      <th>Dependents_True</th>\n",
       "      <th>Tenure</th>\n",
       "      <th>PhoneService_True</th>\n",
       "      <th>MultipleLines_True</th>\n",
       "      <th>MultipleLines_False</th>\n",
       "      <th>InternetService_DSL</th>\n",
       "      <th>InternetService_Fiber</th>\n",
       "      <th>...</th>\n",
       "      <th>StreamingTV_False</th>\n",
       "      <th>StreamingMovies_True</th>\n",
       "      <th>StreamingMovies_False</th>\n",
       "      <th>Contract_OneYear</th>\n",
       "      <th>Contract_TwoYear</th>\n",
       "      <th>PaperlessBilling_True</th>\n",
       "      <th>PaymentMethod_Electronic</th>\n",
       "      <th>PaymentMethod_Mailed</th>\n",
       "      <th>PaymentMethod_Bank</th>\n",
       "      <th>MonthlyCharges</th>\n",
       "    </tr>\n",
       "  </thead>\n",
       "  <tbody>\n",
       "    <tr>\n",
       "      <th>3826</th>\n",
       "      <td>1.0</td>\n",
       "      <td>0.0</td>\n",
       "      <td>0.0</td>\n",
       "      <td>0.0</td>\n",
       "      <td>29.0</td>\n",
       "      <td>1.0</td>\n",
       "      <td>0.0</td>\n",
       "      <td>0.0</td>\n",
       "      <td>0.0</td>\n",
       "      <td>0.0</td>\n",
       "      <td>...</td>\n",
       "      <td>0.0</td>\n",
       "      <td>0.0</td>\n",
       "      <td>0.0</td>\n",
       "      <td>0.0</td>\n",
       "      <td>0.0</td>\n",
       "      <td>1.0</td>\n",
       "      <td>0.0</td>\n",
       "      <td>0.0</td>\n",
       "      <td>0.0</td>\n",
       "      <td>70.35</td>\n",
       "    </tr>\n",
       "    <tr>\n",
       "      <th>6754</th>\n",
       "      <td>1.0</td>\n",
       "      <td>0.0</td>\n",
       "      <td>0.0</td>\n",
       "      <td>0.0</td>\n",
       "      <td>29.0</td>\n",
       "      <td>1.0</td>\n",
       "      <td>0.0</td>\n",
       "      <td>0.0</td>\n",
       "      <td>0.0</td>\n",
       "      <td>0.0</td>\n",
       "      <td>...</td>\n",
       "      <td>0.0</td>\n",
       "      <td>0.0</td>\n",
       "      <td>0.0</td>\n",
       "      <td>0.0</td>\n",
       "      <td>0.0</td>\n",
       "      <td>1.0</td>\n",
       "      <td>0.0</td>\n",
       "      <td>0.0</td>\n",
       "      <td>0.0</td>\n",
       "      <td>70.35</td>\n",
       "    </tr>\n",
       "    <tr>\n",
       "      <th>6670</th>\n",
       "      <td>1.0</td>\n",
       "      <td>0.0</td>\n",
       "      <td>0.0</td>\n",
       "      <td>0.0</td>\n",
       "      <td>29.0</td>\n",
       "      <td>1.0</td>\n",
       "      <td>0.0</td>\n",
       "      <td>0.0</td>\n",
       "      <td>0.0</td>\n",
       "      <td>0.0</td>\n",
       "      <td>...</td>\n",
       "      <td>0.0</td>\n",
       "      <td>0.0</td>\n",
       "      <td>0.0</td>\n",
       "      <td>0.0</td>\n",
       "      <td>0.0</td>\n",
       "      <td>1.0</td>\n",
       "      <td>0.0</td>\n",
       "      <td>0.0</td>\n",
       "      <td>0.0</td>\n",
       "      <td>70.35</td>\n",
       "    </tr>\n",
       "    <tr>\n",
       "      <th>1340</th>\n",
       "      <td>1.0</td>\n",
       "      <td>0.0</td>\n",
       "      <td>0.0</td>\n",
       "      <td>0.0</td>\n",
       "      <td>29.0</td>\n",
       "      <td>1.0</td>\n",
       "      <td>0.0</td>\n",
       "      <td>0.0</td>\n",
       "      <td>0.0</td>\n",
       "      <td>0.0</td>\n",
       "      <td>...</td>\n",
       "      <td>0.0</td>\n",
       "      <td>0.0</td>\n",
       "      <td>0.0</td>\n",
       "      <td>0.0</td>\n",
       "      <td>0.0</td>\n",
       "      <td>1.0</td>\n",
       "      <td>0.0</td>\n",
       "      <td>0.0</td>\n",
       "      <td>0.0</td>\n",
       "      <td>70.35</td>\n",
       "    </tr>\n",
       "    <tr>\n",
       "      <th>936</th>\n",
       "      <td>1.0</td>\n",
       "      <td>0.0</td>\n",
       "      <td>0.0</td>\n",
       "      <td>0.0</td>\n",
       "      <td>29.0</td>\n",
       "      <td>1.0</td>\n",
       "      <td>0.0</td>\n",
       "      <td>0.0</td>\n",
       "      <td>0.0</td>\n",
       "      <td>0.0</td>\n",
       "      <td>...</td>\n",
       "      <td>0.0</td>\n",
       "      <td>0.0</td>\n",
       "      <td>0.0</td>\n",
       "      <td>0.0</td>\n",
       "      <td>0.0</td>\n",
       "      <td>1.0</td>\n",
       "      <td>0.0</td>\n",
       "      <td>0.0</td>\n",
       "      <td>0.0</td>\n",
       "      <td>70.35</td>\n",
       "    </tr>\n",
       "  </tbody>\n",
       "</table>\n",
       "<p>5 rows × 29 columns</p>\n",
       "</div>"
      ],
      "text/plain": [
       "      Gender_Male  SeniorCitizen_True  Partner_True  Dependents_True  Tenure  \\\n",
       "3826          1.0                 0.0           0.0              0.0    29.0   \n",
       "6754          1.0                 0.0           0.0              0.0    29.0   \n",
       "6670          1.0                 0.0           0.0              0.0    29.0   \n",
       "1340          1.0                 0.0           0.0              0.0    29.0   \n",
       "936           1.0                 0.0           0.0              0.0    29.0   \n",
       "\n",
       "      PhoneService_True  MultipleLines_True  MultipleLines_False  \\\n",
       "3826                1.0                 0.0                  0.0   \n",
       "6754                1.0                 0.0                  0.0   \n",
       "6670                1.0                 0.0                  0.0   \n",
       "1340                1.0                 0.0                  0.0   \n",
       "936                 1.0                 0.0                  0.0   \n",
       "\n",
       "      InternetService_DSL  InternetService_Fiber  ...  StreamingTV_False  \\\n",
       "3826                  0.0                    0.0  ...                0.0   \n",
       "6754                  0.0                    0.0  ...                0.0   \n",
       "6670                  0.0                    0.0  ...                0.0   \n",
       "1340                  0.0                    0.0  ...                0.0   \n",
       "936                   0.0                    0.0  ...                0.0   \n",
       "\n",
       "      StreamingMovies_True  StreamingMovies_False  Contract_OneYear  \\\n",
       "3826                   0.0                    0.0               0.0   \n",
       "6754                   0.0                    0.0               0.0   \n",
       "6670                   0.0                    0.0               0.0   \n",
       "1340                   0.0                    0.0               0.0   \n",
       "936                    0.0                    0.0               0.0   \n",
       "\n",
       "      Contract_TwoYear  PaperlessBilling_True  PaymentMethod_Electronic  \\\n",
       "3826               0.0                    1.0                       0.0   \n",
       "6754               0.0                    1.0                       0.0   \n",
       "6670               0.0                    1.0                       0.0   \n",
       "1340               0.0                    1.0                       0.0   \n",
       "936                0.0                    1.0                       0.0   \n",
       "\n",
       "      PaymentMethod_Mailed  PaymentMethod_Bank  MonthlyCharges  \n",
       "3826                   0.0                 0.0           70.35  \n",
       "6754                   0.0                 0.0           70.35  \n",
       "6670                   0.0                 0.0           70.35  \n",
       "1340                   0.0                 0.0           70.35  \n",
       "936                    0.0                 0.0           70.35  \n",
       "\n",
       "[5 rows x 29 columns]"
      ]
     },
     "execution_count": 124,
     "metadata": {},
     "output_type": "execute_result"
    }
   ],
   "source": [
    "churn_tr.loc[sample_incomplete_rows.index.values]"
   ]
  },
  {
   "cell_type": "code",
   "execution_count": 125,
   "metadata": {
    "ExecuteTime": {
     "end_time": "2020-02-14T20:56:03.480408Z",
     "start_time": "2020-02-14T20:56:03.473424Z"
    }
   },
   "outputs": [
    {
     "data": {
      "text/plain": [
       "'median'"
      ]
     },
     "execution_count": 125,
     "metadata": {},
     "output_type": "execute_result"
    }
   ],
   "source": [
    "imputer.strategy"
   ]
  },
  {
   "cell_type": "code",
   "execution_count": 126,
   "metadata": {
    "ExecuteTime": {
     "end_time": "2020-02-14T20:56:04.439648Z",
     "start_time": "2020-02-14T20:56:04.419176Z"
    }
   },
   "outputs": [
    {
     "data": {
      "text/html": [
       "<div>\n",
       "<style scoped>\n",
       "    .dataframe tbody tr th:only-of-type {\n",
       "        vertical-align: middle;\n",
       "    }\n",
       "\n",
       "    .dataframe tbody tr th {\n",
       "        vertical-align: top;\n",
       "    }\n",
       "\n",
       "    .dataframe thead th {\n",
       "        text-align: right;\n",
       "    }\n",
       "</style>\n",
       "<table border=\"1\" class=\"dataframe\">\n",
       "  <thead>\n",
       "    <tr style=\"text-align: right;\">\n",
       "      <th></th>\n",
       "      <th>Gender_Male</th>\n",
       "      <th>SeniorCitizen_True</th>\n",
       "      <th>Partner_True</th>\n",
       "      <th>Dependents_True</th>\n",
       "      <th>Tenure</th>\n",
       "      <th>PhoneService_True</th>\n",
       "      <th>MultipleLines_True</th>\n",
       "      <th>MultipleLines_False</th>\n",
       "      <th>InternetService_DSL</th>\n",
       "      <th>InternetService_Fiber</th>\n",
       "      <th>...</th>\n",
       "      <th>StreamingTV_False</th>\n",
       "      <th>StreamingMovies_True</th>\n",
       "      <th>StreamingMovies_False</th>\n",
       "      <th>Contract_OneYear</th>\n",
       "      <th>Contract_TwoYear</th>\n",
       "      <th>PaperlessBilling_True</th>\n",
       "      <th>PaymentMethod_Electronic</th>\n",
       "      <th>PaymentMethod_Mailed</th>\n",
       "      <th>PaymentMethod_Bank</th>\n",
       "      <th>MonthlyCharges</th>\n",
       "    </tr>\n",
       "  </thead>\n",
       "  <tbody>\n",
       "    <tr>\n",
       "      <th>5882</th>\n",
       "      <td>0.0</td>\n",
       "      <td>0.0</td>\n",
       "      <td>1.0</td>\n",
       "      <td>1.0</td>\n",
       "      <td>14.0</td>\n",
       "      <td>1.0</td>\n",
       "      <td>0.0</td>\n",
       "      <td>1.0</td>\n",
       "      <td>0.0</td>\n",
       "      <td>0.0</td>\n",
       "      <td>...</td>\n",
       "      <td>0.0</td>\n",
       "      <td>0.0</td>\n",
       "      <td>0.0</td>\n",
       "      <td>0.0</td>\n",
       "      <td>1.0</td>\n",
       "      <td>1.0</td>\n",
       "      <td>0.0</td>\n",
       "      <td>1.0</td>\n",
       "      <td>0.0</td>\n",
       "      <td>19.70</td>\n",
       "    </tr>\n",
       "    <tr>\n",
       "      <th>3614</th>\n",
       "      <td>1.0</td>\n",
       "      <td>0.0</td>\n",
       "      <td>1.0</td>\n",
       "      <td>0.0</td>\n",
       "      <td>69.0</td>\n",
       "      <td>0.0</td>\n",
       "      <td>0.0</td>\n",
       "      <td>0.0</td>\n",
       "      <td>1.0</td>\n",
       "      <td>0.0</td>\n",
       "      <td>...</td>\n",
       "      <td>1.0</td>\n",
       "      <td>1.0</td>\n",
       "      <td>0.0</td>\n",
       "      <td>0.0</td>\n",
       "      <td>1.0</td>\n",
       "      <td>0.0</td>\n",
       "      <td>0.0</td>\n",
       "      <td>0.0</td>\n",
       "      <td>1.0</td>\n",
       "      <td>60.25</td>\n",
       "    </tr>\n",
       "    <tr>\n",
       "      <th>923</th>\n",
       "      <td>0.0</td>\n",
       "      <td>0.0</td>\n",
       "      <td>1.0</td>\n",
       "      <td>0.0</td>\n",
       "      <td>63.0</td>\n",
       "      <td>1.0</td>\n",
       "      <td>1.0</td>\n",
       "      <td>0.0</td>\n",
       "      <td>1.0</td>\n",
       "      <td>0.0</td>\n",
       "      <td>...</td>\n",
       "      <td>1.0</td>\n",
       "      <td>1.0</td>\n",
       "      <td>0.0</td>\n",
       "      <td>1.0</td>\n",
       "      <td>0.0</td>\n",
       "      <td>1.0</td>\n",
       "      <td>0.0</td>\n",
       "      <td>0.0</td>\n",
       "      <td>0.0</td>\n",
       "      <td>79.70</td>\n",
       "    </tr>\n",
       "    <tr>\n",
       "      <th>609</th>\n",
       "      <td>0.0</td>\n",
       "      <td>1.0</td>\n",
       "      <td>1.0</td>\n",
       "      <td>0.0</td>\n",
       "      <td>65.0</td>\n",
       "      <td>1.0</td>\n",
       "      <td>1.0</td>\n",
       "      <td>0.0</td>\n",
       "      <td>0.0</td>\n",
       "      <td>1.0</td>\n",
       "      <td>...</td>\n",
       "      <td>1.0</td>\n",
       "      <td>1.0</td>\n",
       "      <td>0.0</td>\n",
       "      <td>0.0</td>\n",
       "      <td>0.0</td>\n",
       "      <td>0.0</td>\n",
       "      <td>0.0</td>\n",
       "      <td>0.0</td>\n",
       "      <td>1.0</td>\n",
       "      <td>105.25</td>\n",
       "    </tr>\n",
       "    <tr>\n",
       "      <th>5042</th>\n",
       "      <td>1.0</td>\n",
       "      <td>0.0</td>\n",
       "      <td>1.0</td>\n",
       "      <td>1.0</td>\n",
       "      <td>19.0</td>\n",
       "      <td>1.0</td>\n",
       "      <td>0.0</td>\n",
       "      <td>1.0</td>\n",
       "      <td>0.0</td>\n",
       "      <td>0.0</td>\n",
       "      <td>...</td>\n",
       "      <td>0.0</td>\n",
       "      <td>0.0</td>\n",
       "      <td>0.0</td>\n",
       "      <td>1.0</td>\n",
       "      <td>0.0</td>\n",
       "      <td>0.0</td>\n",
       "      <td>0.0</td>\n",
       "      <td>1.0</td>\n",
       "      <td>0.0</td>\n",
       "      <td>19.80</td>\n",
       "    </tr>\n",
       "  </tbody>\n",
       "</table>\n",
       "<p>5 rows × 29 columns</p>\n",
       "</div>"
      ],
      "text/plain": [
       "      Gender_Male  SeniorCitizen_True  Partner_True  Dependents_True  Tenure  \\\n",
       "5882          0.0                 0.0           1.0              1.0    14.0   \n",
       "3614          1.0                 0.0           1.0              0.0    69.0   \n",
       "923           0.0                 0.0           1.0              0.0    63.0   \n",
       "609           0.0                 1.0           1.0              0.0    65.0   \n",
       "5042          1.0                 0.0           1.0              1.0    19.0   \n",
       "\n",
       "      PhoneService_True  MultipleLines_True  MultipleLines_False  \\\n",
       "5882                1.0                 0.0                  1.0   \n",
       "3614                0.0                 0.0                  0.0   \n",
       "923                 1.0                 1.0                  0.0   \n",
       "609                 1.0                 1.0                  0.0   \n",
       "5042                1.0                 0.0                  1.0   \n",
       "\n",
       "      InternetService_DSL  InternetService_Fiber  ...  StreamingTV_False  \\\n",
       "5882                  0.0                    0.0  ...                0.0   \n",
       "3614                  1.0                    0.0  ...                1.0   \n",
       "923                   1.0                    0.0  ...                1.0   \n",
       "609                   0.0                    1.0  ...                1.0   \n",
       "5042                  0.0                    0.0  ...                0.0   \n",
       "\n",
       "      StreamingMovies_True  StreamingMovies_False  Contract_OneYear  \\\n",
       "5882                   0.0                    0.0               0.0   \n",
       "3614                   1.0                    0.0               0.0   \n",
       "923                    1.0                    0.0               1.0   \n",
       "609                    1.0                    0.0               0.0   \n",
       "5042                   0.0                    0.0               1.0   \n",
       "\n",
       "      Contract_TwoYear  PaperlessBilling_True  PaymentMethod_Electronic  \\\n",
       "5882               1.0                    1.0                       0.0   \n",
       "3614               1.0                    0.0                       0.0   \n",
       "923                0.0                    1.0                       0.0   \n",
       "609                0.0                    0.0                       0.0   \n",
       "5042               0.0                    0.0                       0.0   \n",
       "\n",
       "      PaymentMethod_Mailed  PaymentMethod_Bank  MonthlyCharges  \n",
       "5882                   1.0                 0.0           19.70  \n",
       "3614                   0.0                 1.0           60.25  \n",
       "923                    0.0                 0.0           79.70  \n",
       "609                    0.0                 1.0          105.25  \n",
       "5042                   1.0                 0.0           19.80  \n",
       "\n",
       "[5 rows x 29 columns]"
      ]
     },
     "execution_count": 126,
     "metadata": {},
     "output_type": "execute_result"
    }
   ],
   "source": [
    "churn_tr=pd.DataFrame(X, columns=churn_num.columns, index=churn_num.index)\n",
    "churn_tr.head()"
   ]
  },
  {
   "cell_type": "code",
   "execution_count": 127,
   "metadata": {
    "ExecuteTime": {
     "end_time": "2020-02-14T20:56:06.222029Z",
     "start_time": "2020-02-14T20:56:06.218025Z"
    }
   },
   "outputs": [],
   "source": [
    "#categorical variables"
   ]
  },
  {
   "cell_type": "code",
   "execution_count": 139,
   "metadata": {
    "ExecuteTime": {
     "end_time": "2020-02-14T20:58:48.801050Z",
     "start_time": "2020-02-14T20:58:48.796062Z"
    }
   },
   "outputs": [],
   "source": [
    "#churn_cat = churn[[\"MultipleLines\", \"InternetService\",\"OnlineSecurity\", \"OnlineBackup\",\"DeviceProtection\",\"TechSupport\",\"StreamingTV\",\"StreamingMovies\",\"Contract\",\"PaperlessBilling\",\"PaymentMethod\"]]"
   ]
  },
  {
   "cell_type": "code",
   "execution_count": 56,
   "metadata": {
    "ExecuteTime": {
     "end_time": "2020-02-14T20:27:28.252450Z",
     "start_time": "2020-02-14T20:27:28.241480Z"
    }
   },
   "outputs": [
    {
     "data": {
      "text/plain": [
       "MultipleLines       10\n",
       "InternetService     10\n",
       "OnlineSecurity      10\n",
       "OnlineBackup        10\n",
       "DeviceProtection    10\n",
       "TechSupport         10\n",
       "StreamingTV         10\n",
       "StreamingMovies     10\n",
       "Contract            10\n",
       "PaperlessBilling    10\n",
       "PaymentMethod       10\n",
       "dtype: int64"
      ]
     },
     "execution_count": 56,
     "metadata": {},
     "output_type": "execute_result"
    }
   ],
   "source": [
    "#churn_cat.isnull().sum()"
   ]
  },
  {
   "cell_type": "code",
   "execution_count": 57,
   "metadata": {
    "ExecuteTime": {
     "end_time": "2020-02-14T20:27:28.852355Z",
     "start_time": "2020-02-14T20:27:28.843867Z"
    }
   },
   "outputs": [],
   "source": [
    "#churn_cat=churn_cat.dropna()"
   ]
  },
  {
   "cell_type": "code",
   "execution_count": 58,
   "metadata": {
    "ExecuteTime": {
     "end_time": "2020-02-14T20:27:29.090435Z",
     "start_time": "2020-02-14T20:27:29.063483Z"
    },
    "deletable": false,
    "editable": false,
    "run_control": {
     "frozen": true
    }
   },
   "outputs": [
    {
     "data": {
      "text/plain": [
       "array([[1., 0., 0., ..., 0., 0., 1.],\n",
       "       [0., 1., 0., ..., 0., 0., 0.],\n",
       "       [0., 0., 1., ..., 1., 0., 0.],\n",
       "       ...,\n",
       "       [0., 0., 1., ..., 1., 0., 0.],\n",
       "       [0., 0., 1., ..., 0., 1., 0.],\n",
       "       [1., 0., 0., ..., 0., 0., 1.]])"
      ]
     },
     "execution_count": 58,
     "metadata": {},
     "output_type": "execute_result"
    }
   ],
   "source": [
    "try:\n",
    "    from sklearn.preprocessing import OrdinalEncoder # just to raise an ImportError if Scikit-Learn < 0.20\n",
    "    from sklearn.preprocessing import OneHotEncoder\n",
    "except ImportError:\n",
    "    from future_encoders import OneHotEncoder # Scikit-Learn < 0.20\n",
    "\n",
    "cat_encoder = OneHotEncoder(sparse=False)\n",
    "churn_cat_1hot = cat_encoder.fit_transform(churn_cat)\n",
    "churn_cat_1hot"
   ]
  },
  {
   "cell_type": "code",
   "execution_count": 59,
   "metadata": {
    "ExecuteTime": {
     "end_time": "2020-02-14T20:27:29.283894Z",
     "start_time": "2020-02-14T20:27:29.276915Z"
    },
    "deletable": false,
    "editable": false,
    "run_control": {
     "frozen": true
    }
   },
   "outputs": [
    {
     "data": {
      "text/plain": [
       "[array(['No', 'No phone service', 'Yes'], dtype=object),\n",
       " array(['DSL', 'Fiber optic', 'No'], dtype=object),\n",
       " array(['No', 'No internet service', 'Yes'], dtype=object),\n",
       " array(['No', 'No internet service', 'Yes'], dtype=object),\n",
       " array(['No', 'No internet service', 'Yes'], dtype=object),\n",
       " array(['No', 'No internet service', 'Yes'], dtype=object),\n",
       " array(['No', 'No internet service', 'Yes'], dtype=object),\n",
       " array(['No', 'No internet service', 'Yes'], dtype=object),\n",
       " array(['Month-to-month', 'One year', 'Two year'], dtype=object),\n",
       " array(['No', 'Yes'], dtype=object),\n",
       " array(['Bank transfer (automatic)', 'Credit card (automatic)',\n",
       "        'Electronic check', 'Mailed check'], dtype=object)]"
      ]
     },
     "execution_count": 59,
     "metadata": {},
     "output_type": "execute_result"
    }
   ],
   "source": [
    "cat_encoder.categories_"
   ]
  },
  {
   "cell_type": "code",
   "execution_count": 129,
   "metadata": {
    "ExecuteTime": {
     "end_time": "2020-02-14T20:57:40.096481Z",
     "start_time": "2020-02-14T20:57:40.090477Z"
    }
   },
   "outputs": [
    {
     "data": {
      "text/plain": [
       "Index(['customerID', 'Gender_Male', 'SeniorCitizen_True', 'Partner_True',\n",
       "       'Dependents_True', 'Tenure', 'PhoneService_True', 'MultipleLines_True',\n",
       "       'MultipleLines_False', 'InternetService_DSL', 'InternetService_Fiber',\n",
       "       'OnlineSecurity_True', 'OnlineSecurity_False', 'OnlineBackup_True',\n",
       "       'OnlineBackup_False', 'DeviceProtection_True', 'DeviceProtection_False',\n",
       "       'TechSupport_True', 'TechSupport_False', 'StreamingTV_True',\n",
       "       'StreamingTV_False', 'StreamingMovies_True', 'StreamingMovies_False',\n",
       "       'Contract_OneYear', 'Contract_TwoYear', 'PaperlessBilling_True',\n",
       "       'PaymentMethod_Electronic', 'PaymentMethod_Mailed',\n",
       "       'PaymentMethod_Bank', 'MonthlyCharges'],\n",
       "      dtype='object')"
      ]
     },
     "execution_count": 129,
     "metadata": {},
     "output_type": "execute_result"
    }
   ],
   "source": [
    "churn.columns"
   ]
  },
  {
   "cell_type": "code",
   "execution_count": 130,
   "metadata": {
    "ExecuteTime": {
     "end_time": "2020-02-14T20:57:42.949895Z",
     "start_time": "2020-02-14T20:57:42.945828Z"
    }
   },
   "outputs": [],
   "source": [
    "from sklearn.base import BaseEstimator, TransformerMixin"
   ]
  },
  {
   "cell_type": "code",
   "execution_count": 131,
   "metadata": {
    "ExecuteTime": {
     "end_time": "2020-02-14T20:57:48.157961Z",
     "start_time": "2020-02-14T20:57:48.122997Z"
    }
   },
   "outputs": [],
   "source": [
    "from sklearn.preprocessing import FunctionTransformer\n",
    "from sklearn.pipeline import Pipeline\n",
    "from sklearn.preprocessing import StandardScaler\n",
    "\n",
    "num_pipeline = Pipeline([\n",
    "        ('imputer', SimpleImputer(strategy=\"median\")),\n",
    "        ('std_scaler', StandardScaler()),\n",
    "    ])\n",
    "\n",
    "churn_num_tr = num_pipeline.fit_transform(churn_num)"
   ]
  },
  {
   "cell_type": "code",
   "execution_count": 63,
   "metadata": {
    "ExecuteTime": {
     "end_time": "2020-02-14T20:27:30.125497Z",
     "start_time": "2020-02-14T20:27:30.119510Z"
    }
   },
   "outputs": [
    {
     "data": {
      "text/plain": [
       "array([[-0.44305693, -0.75793514, -1.49675045],\n",
       "       [-0.44305693,  1.48016914, -0.15066481],\n",
       "       [-0.44305693,  1.2360123 ,  0.49499156],\n",
       "       ...,\n",
       "       [ 2.25704627,  0.01522815,  0.63275372],\n",
       "       [-0.44305693, -0.06615746,  0.20784875],\n",
       "       [-0.44305693, -1.205556  , -1.4917711 ]])"
      ]
     },
     "execution_count": 63,
     "metadata": {},
     "output_type": "execute_result"
    }
   ],
   "source": [
    "churn_num_tr"
   ]
  },
  {
   "cell_type": "code",
   "execution_count": 134,
   "metadata": {
    "ExecuteTime": {
     "end_time": "2020-02-14T20:58:05.707949Z",
     "start_time": "2020-02-14T20:58:05.680018Z"
    }
   },
   "outputs": [],
   "source": [
    "try:\n",
    "    from sklearn.compose import ColumnTransformer\n",
    "except ImportError:\n",
    "    from future_encoders import ColumnTransformer # Scikit-Learn < 0.20\n",
    "    \n",
    "num_attribs = list(churn_num)\n",
    "full_pipeline = ColumnTransformer([\n",
    "        (\"num\", num_pipeline, num_attribs)\n",
    "    ])\n",
    "\n",
    "churn_prepared = full_pipeline.fit_transform(churn)\n"
   ]
  },
  {
   "cell_type": "code",
   "execution_count": 135,
   "metadata": {
    "ExecuteTime": {
     "end_time": "2020-02-14T20:58:08.051597Z",
     "start_time": "2020-02-14T20:58:08.045610Z"
    }
   },
   "outputs": [
    {
     "data": {
      "text/plain": [
       "array([[-1.01486604, -0.44305693,  1.03381589, ...,  1.84429077,\n",
       "        -0.5331478 , -1.49675045],\n",
       "       [ 0.98535172, -0.44305693,  1.03381589, ..., -0.54221385,\n",
       "         1.8756525 , -0.15066481],\n",
       "       [-1.01486604, -0.44305693,  1.03381589, ..., -0.54221385,\n",
       "        -0.5331478 ,  0.49499156],\n",
       "       ...,\n",
       "       [ 0.98535172,  2.25704627, -0.96729022, ..., -0.54221385,\n",
       "        -0.5331478 ,  0.63275372],\n",
       "       [ 0.98535172, -0.44305693, -0.96729022, ..., -0.54221385,\n",
       "        -0.5331478 ,  0.20784875],\n",
       "       [ 0.98535172, -0.44305693, -0.96729022, ...,  1.84429077,\n",
       "        -0.5331478 , -1.4917711 ]])"
      ]
     },
     "execution_count": 135,
     "metadata": {},
     "output_type": "execute_result"
    }
   ],
   "source": [
    "churn_prepared"
   ]
  },
  {
   "cell_type": "code",
   "execution_count": 136,
   "metadata": {
    "ExecuteTime": {
     "end_time": "2020-02-14T20:58:13.190797Z",
     "start_time": "2020-02-14T20:58:13.183822Z"
    }
   },
   "outputs": [
    {
     "data": {
      "text/plain": [
       "(5625, 29)"
      ]
     },
     "execution_count": 136,
     "metadata": {},
     "output_type": "execute_result"
    }
   ],
   "source": [
    "churn_prepared.shape"
   ]
  },
  {
   "cell_type": "code",
   "execution_count": 140,
   "metadata": {
    "ExecuteTime": {
     "end_time": "2020-02-14T20:59:18.925141Z",
     "start_time": "2020-02-14T20:59:18.910168Z"
    }
   },
   "outputs": [
    {
     "ename": "ValueError",
     "evalue": "Input contains NaN, infinity or a value too large for dtype('float64').",
     "output_type": "error",
     "traceback": [
      "\u001b[1;31m---------------------------------------------------------------------------\u001b[0m",
      "\u001b[1;31mValueError\u001b[0m                                Traceback (most recent call last)",
      "\u001b[1;32m<ipython-input-140-0868788f8c0b>\u001b[0m in \u001b[0;36m<module>\u001b[1;34m\u001b[0m\n\u001b[0;32m      3\u001b[0m \u001b[1;33m\u001b[0m\u001b[0m\n\u001b[0;32m      4\u001b[0m \u001b[0mlin_reg\u001b[0m \u001b[1;33m=\u001b[0m \u001b[0mLinearRegression\u001b[0m\u001b[1;33m(\u001b[0m\u001b[1;33m)\u001b[0m\u001b[1;33m\u001b[0m\u001b[1;33m\u001b[0m\u001b[0m\n\u001b[1;32m----> 5\u001b[1;33m \u001b[0mlin_reg\u001b[0m\u001b[1;33m.\u001b[0m\u001b[0mfit\u001b[0m\u001b[1;33m(\u001b[0m\u001b[0mchurn_prepared\u001b[0m\u001b[1;33m,\u001b[0m \u001b[0mchurn_labels\u001b[0m\u001b[1;33m)\u001b[0m\u001b[1;33m\u001b[0m\u001b[1;33m\u001b[0m\u001b[0m\n\u001b[0m",
      "\u001b[1;32m~\\Anaconda3\\lib\\site-packages\\sklearn\\linear_model\\base.py\u001b[0m in \u001b[0;36mfit\u001b[1;34m(self, X, y, sample_weight)\u001b[0m\n\u001b[0;32m    461\u001b[0m         \u001b[0mn_jobs_\u001b[0m \u001b[1;33m=\u001b[0m \u001b[0mself\u001b[0m\u001b[1;33m.\u001b[0m\u001b[0mn_jobs\u001b[0m\u001b[1;33m\u001b[0m\u001b[1;33m\u001b[0m\u001b[0m\n\u001b[0;32m    462\u001b[0m         X, y = check_X_y(X, y, accept_sparse=['csr', 'csc', 'coo'],\n\u001b[1;32m--> 463\u001b[1;33m                          y_numeric=True, multi_output=True)\n\u001b[0m\u001b[0;32m    464\u001b[0m \u001b[1;33m\u001b[0m\u001b[0m\n\u001b[0;32m    465\u001b[0m         \u001b[1;32mif\u001b[0m \u001b[0msample_weight\u001b[0m \u001b[1;32mis\u001b[0m \u001b[1;32mnot\u001b[0m \u001b[1;32mNone\u001b[0m \u001b[1;32mand\u001b[0m \u001b[0mnp\u001b[0m\u001b[1;33m.\u001b[0m\u001b[0matleast_1d\u001b[0m\u001b[1;33m(\u001b[0m\u001b[0msample_weight\u001b[0m\u001b[1;33m)\u001b[0m\u001b[1;33m.\u001b[0m\u001b[0mndim\u001b[0m \u001b[1;33m>\u001b[0m \u001b[1;36m1\u001b[0m\u001b[1;33m:\u001b[0m\u001b[1;33m\u001b[0m\u001b[1;33m\u001b[0m\u001b[0m\n",
      "\u001b[1;32m~\\Anaconda3\\lib\\site-packages\\sklearn\\utils\\validation.py\u001b[0m in \u001b[0;36mcheck_X_y\u001b[1;34m(X, y, accept_sparse, accept_large_sparse, dtype, order, copy, force_all_finite, ensure_2d, allow_nd, multi_output, ensure_min_samples, ensure_min_features, y_numeric, warn_on_dtype, estimator)\u001b[0m\n\u001b[0;32m    720\u001b[0m     \u001b[1;32mif\u001b[0m \u001b[0mmulti_output\u001b[0m\u001b[1;33m:\u001b[0m\u001b[1;33m\u001b[0m\u001b[1;33m\u001b[0m\u001b[0m\n\u001b[0;32m    721\u001b[0m         y = check_array(y, 'csr', force_all_finite=True, ensure_2d=False,\n\u001b[1;32m--> 722\u001b[1;33m                         dtype=None)\n\u001b[0m\u001b[0;32m    723\u001b[0m     \u001b[1;32melse\u001b[0m\u001b[1;33m:\u001b[0m\u001b[1;33m\u001b[0m\u001b[1;33m\u001b[0m\u001b[0m\n\u001b[0;32m    724\u001b[0m         \u001b[0my\u001b[0m \u001b[1;33m=\u001b[0m \u001b[0mcolumn_or_1d\u001b[0m\u001b[1;33m(\u001b[0m\u001b[0my\u001b[0m\u001b[1;33m,\u001b[0m \u001b[0mwarn\u001b[0m\u001b[1;33m=\u001b[0m\u001b[1;32mTrue\u001b[0m\u001b[1;33m)\u001b[0m\u001b[1;33m\u001b[0m\u001b[1;33m\u001b[0m\u001b[0m\n",
      "\u001b[1;32m~\\Anaconda3\\lib\\site-packages\\sklearn\\utils\\validation.py\u001b[0m in \u001b[0;36mcheck_array\u001b[1;34m(array, accept_sparse, accept_large_sparse, dtype, order, copy, force_all_finite, ensure_2d, allow_nd, ensure_min_samples, ensure_min_features, warn_on_dtype, estimator)\u001b[0m\n\u001b[0;32m    540\u001b[0m         \u001b[1;32mif\u001b[0m \u001b[0mforce_all_finite\u001b[0m\u001b[1;33m:\u001b[0m\u001b[1;33m\u001b[0m\u001b[1;33m\u001b[0m\u001b[0m\n\u001b[0;32m    541\u001b[0m             _assert_all_finite(array,\n\u001b[1;32m--> 542\u001b[1;33m                                allow_nan=force_all_finite == 'allow-nan')\n\u001b[0m\u001b[0;32m    543\u001b[0m \u001b[1;33m\u001b[0m\u001b[0m\n\u001b[0;32m    544\u001b[0m     \u001b[1;32mif\u001b[0m \u001b[0mensure_min_samples\u001b[0m \u001b[1;33m>\u001b[0m \u001b[1;36m0\u001b[0m\u001b[1;33m:\u001b[0m\u001b[1;33m\u001b[0m\u001b[1;33m\u001b[0m\u001b[0m\n",
      "\u001b[1;32m~\\Anaconda3\\lib\\site-packages\\sklearn\\utils\\validation.py\u001b[0m in \u001b[0;36m_assert_all_finite\u001b[1;34m(X, allow_nan)\u001b[0m\n\u001b[0;32m     54\u001b[0m                 not allow_nan and not np.isfinite(X).all()):\n\u001b[0;32m     55\u001b[0m             \u001b[0mtype_err\u001b[0m \u001b[1;33m=\u001b[0m \u001b[1;34m'infinity'\u001b[0m \u001b[1;32mif\u001b[0m \u001b[0mallow_nan\u001b[0m \u001b[1;32melse\u001b[0m \u001b[1;34m'NaN, infinity'\u001b[0m\u001b[1;33m\u001b[0m\u001b[1;33m\u001b[0m\u001b[0m\n\u001b[1;32m---> 56\u001b[1;33m             \u001b[1;32mraise\u001b[0m \u001b[0mValueError\u001b[0m\u001b[1;33m(\u001b[0m\u001b[0mmsg_err\u001b[0m\u001b[1;33m.\u001b[0m\u001b[0mformat\u001b[0m\u001b[1;33m(\u001b[0m\u001b[0mtype_err\u001b[0m\u001b[1;33m,\u001b[0m \u001b[0mX\u001b[0m\u001b[1;33m.\u001b[0m\u001b[0mdtype\u001b[0m\u001b[1;33m)\u001b[0m\u001b[1;33m)\u001b[0m\u001b[1;33m\u001b[0m\u001b[1;33m\u001b[0m\u001b[0m\n\u001b[0m\u001b[0;32m     57\u001b[0m     \u001b[1;31m# for object dtype data, we only check for NaNs (GH-13254)\u001b[0m\u001b[1;33m\u001b[0m\u001b[1;33m\u001b[0m\u001b[1;33m\u001b[0m\u001b[0m\n\u001b[0;32m     58\u001b[0m     \u001b[1;32melif\u001b[0m \u001b[0mX\u001b[0m\u001b[1;33m.\u001b[0m\u001b[0mdtype\u001b[0m \u001b[1;33m==\u001b[0m \u001b[0mnp\u001b[0m\u001b[1;33m.\u001b[0m\u001b[0mdtype\u001b[0m\u001b[1;33m(\u001b[0m\u001b[1;34m'object'\u001b[0m\u001b[1;33m)\u001b[0m \u001b[1;32mand\u001b[0m \u001b[1;32mnot\u001b[0m \u001b[0mallow_nan\u001b[0m\u001b[1;33m:\u001b[0m\u001b[1;33m\u001b[0m\u001b[1;33m\u001b[0m\u001b[0m\n",
      "\u001b[1;31mValueError\u001b[0m: Input contains NaN, infinity or a value too large for dtype('float64')."
     ]
    }
   ],
   "source": [
    "#linear regression\n",
    "from sklearn.linear_model import LinearRegression\n",
    "\n",
    "lin_reg = LinearRegression()\n",
    "lin_reg.fit(churn_prepared, churn_labels)"
   ]
  },
  {
   "cell_type": "code",
   "execution_count": 119,
   "metadata": {},
   "outputs": [
    {
     "name": "stdout",
     "output_type": "stream",
     "text": [
      "Predictions: [ 76.84360475 214.39052838 273.51273315 129.26263252 254.98900087]\n"
     ]
    }
   ],
   "source": [
    "#trying the full preprocessing pipeline on a sample of instances\n",
    "some_data = airbnb.iloc[:5]\n",
    "some_labels = airbnb_labels.iloc[:5]\n",
    "some_data_prepared = full_pipeline.transform(some_data)\n",
    "\n",
    "print(\"Predictions:\", lin_reg.predict(some_data_prepared))"
   ]
  },
  {
   "cell_type": "code",
   "execution_count": 120,
   "metadata": {},
   "outputs": [
    {
     "name": "stdout",
     "output_type": "stream",
     "text": [
      "Labels:  [45, 200, 289, 179, 75]\n"
     ]
    }
   ],
   "source": [
    "print(\"Labels: \", list(some_labels))"
   ]
  },
  {
   "cell_type": "code",
   "execution_count": 121,
   "metadata": {},
   "outputs": [
    {
     "data": {
      "text/plain": [
       "array([[ 0.62272675, -0.81491721, -0.78296264, -0.10865305, -0.24099598,\n",
       "        -0.2061648 , -0.04055142, -0.12642071,  1.4710948 ,  0.        ,\n",
       "         1.        ,  0.        ,  0.        ,  0.        ,  0.        ,\n",
       "         0.        ,  1.        ],\n",
       "       [-1.46605849, -0.6679094 ,  1.00309277, -0.48761892, -0.28868821,\n",
       "        -0.31823836, -0.71796212, -0.18690423, -0.85554404,  0.        ,\n",
       "         0.        ,  1.        ,  0.        ,  0.        ,  1.        ,\n",
       "         0.        ,  0.        ],\n",
       "       [-0.40620626,  0.29006827,  1.44121988,  0.00659946, -0.19330375,\n",
       "        -0.40789721, -0.46393311, -0.18690423,  1.9196951 ,  0.        ,\n",
       "         0.        ,  1.        ,  0.        ,  0.        ,  1.        ,\n",
       "         0.        ,  0.        ],\n",
       "       [ 0.83281442,  1.8498301 ,  0.723718  ,  1.62425847, -0.28868821,\n",
       "         0.75766779,  2.92963397, -0.15666247, -0.85554404,  0.        ,\n",
       "         0.        ,  0.        ,  1.        ,  0.        ,  1.        ,\n",
       "         0.        ,  0.        ],\n",
       "       [-1.34166656, -0.63098408,  0.39998056, -0.65366067,  1.09438648,\n",
       "        -0.22857951, -0.65934004,  0.20623868,  0.41422291,  0.        ,\n",
       "         0.        ,  1.        ,  0.        ,  0.        ,  1.        ,\n",
       "         0.        ,  0.        ]])"
      ]
     },
     "execution_count": 121,
     "metadata": {},
     "output_type": "execute_result"
    }
   ],
   "source": [
    "some_data_prepared"
   ]
  },
  {
   "cell_type": "code",
   "execution_count": 122,
   "metadata": {},
   "outputs": [
    {
     "data": {
      "text/plain": [
       "233.22462655365266"
      ]
     },
     "execution_count": 122,
     "metadata": {},
     "output_type": "execute_result"
    }
   ],
   "source": [
    "#mean squared error\n",
    "from sklearn.metrics import mean_squared_error\n",
    "\n",
    "airbnb_predictions = lin_reg.predict(airbnb_prepared)\n",
    "lin_mse = mean_squared_error(airbnb_labels, airbnb_predictions)\n",
    "lin_rmse = np.sqrt(lin_mse)\n",
    "lin_rmse"
   ]
  },
  {
   "cell_type": "code",
   "execution_count": 123,
   "metadata": {},
   "outputs": [
    {
     "data": {
      "text/plain": [
       "74.01521754906538"
      ]
     },
     "execution_count": 123,
     "metadata": {},
     "output_type": "execute_result"
    }
   ],
   "source": [
    "#mean absolute error\n",
    "from sklearn.metrics import mean_absolute_error\n",
    "\n",
    "lin_mae = mean_absolute_error(airbnb_labels, airbnb_predictions)\n",
    "lin_mae"
   ]
  },
  {
   "cell_type": "code",
   "execution_count": 124,
   "metadata": {},
   "outputs": [
    {
     "data": {
      "text/plain": [
       "DecisionTreeRegressor(criterion='mse', max_depth=None, max_features=None,\n",
       "                      max_leaf_nodes=None, min_impurity_decrease=0.0,\n",
       "                      min_impurity_split=None, min_samples_leaf=1,\n",
       "                      min_samples_split=2, min_weight_fraction_leaf=0.0,\n",
       "                      presort=False, random_state=42, splitter='best')"
      ]
     },
     "execution_count": 124,
     "metadata": {},
     "output_type": "execute_result"
    }
   ],
   "source": [
    "#decision tree regressor\n",
    "from sklearn.tree import DecisionTreeRegressor\n",
    "\n",
    "tree_reg = DecisionTreeRegressor(random_state=42)\n",
    "tree_reg.fit(airbnb_prepared, airbnb_labels)"
   ]
  },
  {
   "cell_type": "code",
   "execution_count": 125,
   "metadata": {},
   "outputs": [
    {
     "data": {
      "text/plain": [
       "0.0"
      ]
     },
     "execution_count": 125,
     "metadata": {},
     "output_type": "execute_result"
    }
   ],
   "source": [
    "airbnb_predictions = tree_reg.predict(airbnb_prepared)\n",
    "tree_mse = mean_squared_error(airbnb_labels, airbnb_predictions)\n",
    "tree_rmse = np.sqrt(tree_mse)\n",
    "tree_rmse"
   ]
  },
  {
   "cell_type": "code",
   "execution_count": 126,
   "metadata": {},
   "outputs": [],
   "source": [
    "#tuning the model"
   ]
  },
  {
   "cell_type": "code",
   "execution_count": 127,
   "metadata": {},
   "outputs": [],
   "source": [
    "#cross-validation score\n",
    "from sklearn.model_selection import cross_val_score\n",
    "\n",
    "scores = cross_val_score(tree_reg, airbnb_prepared, airbnb_labels,\n",
    "                         scoring=\"neg_mean_squared_error\", cv=10)\n",
    "tree_rmse_scores = np.sqrt(-scores)"
   ]
  },
  {
   "cell_type": "code",
   "execution_count": 128,
   "metadata": {},
   "outputs": [
    {
     "name": "stdout",
     "output_type": "stream",
     "text": [
      "Scores: [403.35072076 315.54060267 361.08769201 282.50218343 319.76981472\n",
      " 266.31352608 285.73382271 277.72234165 342.64143153 377.38586761]\n",
      "Mean: 323.2048003157332\n",
      "Standard deviation: 44.28141833688742\n"
     ]
    }
   ],
   "source": [
    "def display_scores(scores):\n",
    "    print(\"Scores:\", scores)\n",
    "    print(\"Mean:\", scores.mean())\n",
    "    print(\"Standard deviation:\", scores.std())\n",
    "\n",
    "display_scores(tree_rmse_scores)"
   ]
  },
  {
   "cell_type": "code",
   "execution_count": 129,
   "metadata": {},
   "outputs": [
    {
     "name": "stdout",
     "output_type": "stream",
     "text": [
      "Scores: [280.67641452 258.2067648  276.16784535 258.93658691 222.44886523\n",
      " 205.08132404 144.09072737 182.14036253 195.77606281 268.11059396]\n",
      "Mean: 229.163554751757\n",
      "Standard deviation: 43.929629509200375\n"
     ]
    }
   ],
   "source": [
    "lin_scores = cross_val_score(lin_reg, airbnb_prepared, airbnb_labels,\n",
    "                             scoring=\"neg_mean_squared_error\", cv=10)\n",
    "lin_rmse_scores = np.sqrt(-lin_scores)\n",
    "display_scores(lin_rmse_scores)"
   ]
  },
  {
   "cell_type": "code",
   "execution_count": 130,
   "metadata": {},
   "outputs": [
    {
     "data": {
      "text/plain": [
       "RandomForestRegressor(bootstrap=True, criterion='mse', max_depth=None,\n",
       "                      max_features='auto', max_leaf_nodes=None,\n",
       "                      min_impurity_decrease=0.0, min_impurity_split=None,\n",
       "                      min_samples_leaf=1, min_samples_split=2,\n",
       "                      min_weight_fraction_leaf=0.0, n_estimators=10,\n",
       "                      n_jobs=None, oob_score=False, random_state=42, verbose=0,\n",
       "                      warm_start=False)"
      ]
     },
     "execution_count": 130,
     "metadata": {},
     "output_type": "execute_result"
    }
   ],
   "source": [
    "#random forest regressor\n",
    "from sklearn.ensemble import RandomForestRegressor\n",
    "\n",
    "forest_reg = RandomForestRegressor(n_estimators=10, random_state=42)\n",
    "forest_reg.fit(airbnb_prepared, airbnb_labels)"
   ]
  },
  {
   "cell_type": "code",
   "execution_count": 131,
   "metadata": {},
   "outputs": [
    {
     "data": {
      "text/plain": [
       "105.54336106687609"
      ]
     },
     "execution_count": 131,
     "metadata": {},
     "output_type": "execute_result"
    }
   ],
   "source": [
    "airbnb_predictions = forest_reg.predict(airbnb_prepared)\n",
    "forest_mse = mean_squared_error(airbnb_labels, airbnb_predictions)\n",
    "forest_rmse = np.sqrt(forest_mse)\n",
    "forest_rmse\n",
    "#best MSE"
   ]
  },
  {
   "cell_type": "code",
   "execution_count": 132,
   "metadata": {},
   "outputs": [
    {
     "name": "stdout",
     "output_type": "stream",
     "text": [
      "Scores: [296.27181062 286.74852513 284.54224747 249.97812603 238.97072604\n",
      " 193.9977298  167.18579033 168.79356275 219.96083461 271.73934768]\n",
      "Mean: 237.81887004424652\n",
      "Standard deviation: 46.13722059986082\n"
     ]
    }
   ],
   "source": [
    "from sklearn.model_selection import cross_val_score\n",
    "\n",
    "forest_scores = cross_val_score(forest_reg, airbnb_prepared, airbnb_labels,\n",
    "                                scoring=\"neg_mean_squared_error\", cv=10)\n",
    "forest_rmse_scores = np.sqrt(-forest_scores)\n",
    "display_scores(forest_rmse_scores)"
   ]
  },
  {
   "cell_type": "code",
   "execution_count": 133,
   "metadata": {},
   "outputs": [
    {
     "data": {
      "text/plain": [
       "count     10.000000\n",
       "mean     229.163555\n",
       "std       46.305895\n",
       "min      144.090727\n",
       "25%      198.102378\n",
       "50%      240.327815\n",
       "75%      265.817092\n",
       "max      280.676415\n",
       "dtype: float64"
      ]
     },
     "execution_count": 133,
     "metadata": {},
     "output_type": "execute_result"
    }
   ],
   "source": [
    "scores = cross_val_score(lin_reg, airbnb_prepared, airbnb_labels, scoring=\"neg_mean_squared_error\", cv=10)\n",
    "pd.Series(np.sqrt(-scores)).describe()"
   ]
  },
  {
   "cell_type": "code",
   "execution_count": 108,
   "metadata": {},
   "outputs": [
    {
     "data": {
      "text/plain": [
       "237.73693010733638"
      ]
     },
     "execution_count": 108,
     "metadata": {},
     "output_type": "execute_result"
    }
   ],
   "source": [
    "#SVR\n",
    "from sklearn.svm import SVR\n",
    "\n",
    "svm_reg = SVR(kernel=\"linear\")\n",
    "svm_reg.fit(airbnb_prepared, airbnb_labels)\n",
    "airbnb_predictions = svm_reg.predict(airbnb_prepared)\n",
    "svm_mse = mean_squared_error(airbnb_labels, airbnb_predictions)\n",
    "svm_rmse = np.sqrt(svm_mse)\n",
    "svm_rmse"
   ]
  },
  {
   "cell_type": "code",
   "execution_count": 136,
   "metadata": {},
   "outputs": [
    {
     "data": {
      "text/plain": [
       "GridSearchCV(cv=5, error_score='raise-deprecating',\n",
       "             estimator=RandomForestRegressor(bootstrap=True, criterion='mse',\n",
       "                                             max_depth=None,\n",
       "                                             max_features='auto',\n",
       "                                             max_leaf_nodes=None,\n",
       "                                             min_impurity_decrease=0.0,\n",
       "                                             min_impurity_split=None,\n",
       "                                             min_samples_leaf=1,\n",
       "                                             min_samples_split=2,\n",
       "                                             min_weight_fraction_leaf=0.0,\n",
       "                                             n_estimators='warn', n_jobs=None,\n",
       "                                             oob_score=False, random_state=42,\n",
       "                                             verbose=0, warm_start=False),\n",
       "             iid='warn', n_jobs=None,\n",
       "             param_grid=[{'max_features': [2, 4, 6, 8],\n",
       "                          'n_estimators': [40, 60, 80]},\n",
       "                         {'bootstrap': [False], 'max_features': [2, 3, 4],\n",
       "                          'n_estimators': [3, 10]}],\n",
       "             pre_dispatch='2*n_jobs', refit=True, return_train_score=True,\n",
       "             scoring='neg_mean_squared_error', verbose=0)"
      ]
     },
     "execution_count": 136,
     "metadata": {},
     "output_type": "execute_result"
    }
   ],
   "source": [
    "from sklearn.model_selection import GridSearchCV\n",
    "\n",
    "param_grid = [\n",
    "    # try 12 (3×4) combinations of hyperparameters\n",
    "    {'n_estimators': [40,60,80], 'max_features': [2, 4, 6, 8]},\n",
    "    # then try 6 (2×3) combinations with bootstrap set as False\n",
    "    {'bootstrap': [False], 'n_estimators': [3, 10], 'max_features': [2, 3, 4]},\n",
    "  ]\n",
    "\n",
    "forest_reg = RandomForestRegressor(random_state=42)\n",
    "# train across 5 folds, that's a total of (12+6)*5=90 rounds of training \n",
    "grid_search = GridSearchCV(forest_reg, param_grid, cv=5,\n",
    "                           scoring='neg_mean_squared_error', return_train_score=True)\n",
    "grid_search.fit(airbnb_prepared, airbnb_labels)"
   ]
  },
  {
   "cell_type": "code",
   "execution_count": 137,
   "metadata": {},
   "outputs": [
    {
     "data": {
      "text/plain": [
       "{'max_features': 2, 'n_estimators': 80}"
      ]
     },
     "execution_count": 137,
     "metadata": {},
     "output_type": "execute_result"
    }
   ],
   "source": [
    "grid_search.best_params_"
   ]
  },
  {
   "cell_type": "code",
   "execution_count": 138,
   "metadata": {},
   "outputs": [
    {
     "data": {
      "text/plain": [
       "RandomForestRegressor(bootstrap=True, criterion='mse', max_depth=None,\n",
       "                      max_features=2, max_leaf_nodes=None,\n",
       "                      min_impurity_decrease=0.0, min_impurity_split=None,\n",
       "                      min_samples_leaf=1, min_samples_split=2,\n",
       "                      min_weight_fraction_leaf=0.0, n_estimators=80,\n",
       "                      n_jobs=None, oob_score=False, random_state=42, verbose=0,\n",
       "                      warm_start=False)"
      ]
     },
     "execution_count": 138,
     "metadata": {},
     "output_type": "execute_result"
    }
   ],
   "source": [
    "grid_search.best_estimator_"
   ]
  },
  {
   "cell_type": "code",
   "execution_count": 139,
   "metadata": {},
   "outputs": [
    {
     "data": {
      "text/plain": [
       "RandomizedSearchCV(cv=5, error_score='raise-deprecating',\n",
       "                   estimator=RandomForestRegressor(bootstrap=True,\n",
       "                                                   criterion='mse',\n",
       "                                                   max_depth=None,\n",
       "                                                   max_features='auto',\n",
       "                                                   max_leaf_nodes=None,\n",
       "                                                   min_impurity_decrease=0.0,\n",
       "                                                   min_impurity_split=None,\n",
       "                                                   min_samples_leaf=1,\n",
       "                                                   min_samples_split=2,\n",
       "                                                   min_weight_fraction_leaf=0.0,\n",
       "                                                   n_estimators='warn',\n",
       "                                                   n_jobs=None, oob_score=False,\n",
       "                                                   random_sta...\n",
       "                                                   warm_start=False),\n",
       "                   iid='warn', n_iter=10, n_jobs=None,\n",
       "                   param_distributions={'max_features': <scipy.stats._distn_infrastructure.rv_frozen object at 0x000001FE325857B8>,\n",
       "                                        'n_estimators': <scipy.stats._distn_infrastructure.rv_frozen object at 0x000001FE313AF278>},\n",
       "                   pre_dispatch='2*n_jobs', random_state=42, refit=True,\n",
       "                   return_train_score=False, scoring='neg_mean_squared_error',\n",
       "                   verbose=0)"
      ]
     },
     "execution_count": 139,
     "metadata": {},
     "output_type": "execute_result"
    }
   ],
   "source": [
    "#up to ten features\n",
    "from sklearn.model_selection import RandomizedSearchCV\n",
    "from scipy.stats import randint\n",
    "\n",
    "param_distribs = {\n",
    "        'n_estimators': randint(low=1, high=200),\n",
    "        'max_features': randint(low=1, high=10),\n",
    "    }\n",
    "\n",
    "forest_reg = RandomForestRegressor(random_state=42)\n",
    "rnd_search = RandomizedSearchCV(forest_reg, param_distributions=param_distribs,\n",
    "                                n_iter=10, cv=5, scoring='neg_mean_squared_error', random_state=42)\n",
    "rnd_search.fit(airbnb_prepared, airbnb_labels)"
   ]
  },
  {
   "cell_type": "code",
   "execution_count": 140,
   "metadata": {},
   "outputs": [
    {
     "name": "stdout",
     "output_type": "stream",
     "text": [
      "223.2088385394488 {'max_features': 7, 'n_estimators': 180}\n",
      "223.53665944142944 {'max_features': 8, 'n_estimators': 189}\n",
      "223.0885951999642 {'max_features': 5, 'n_estimators': 103}\n",
      "222.65906867934603 {'max_features': 3, 'n_estimators': 75}\n",
      "223.3772379692992 {'max_features': 8, 'n_estimators': 117}\n",
      "222.47811584235566 {'max_features': 4, 'n_estimators': 104}\n",
      "223.27926223054246 {'max_features': 8, 'n_estimators': 131}\n",
      "224.0754916802366 {'max_features': 6, 'n_estimators': 53}\n",
      "222.83406743036608 {'max_features': 2, 'n_estimators': 88}\n",
      "222.45594986428782 {'max_features': 6, 'n_estimators': 130}\n"
     ]
    }
   ],
   "source": [
    "cvres = rnd_search.cv_results_\n",
    "for mean_score, params in zip(cvres[\"mean_test_score\"], cvres[\"params\"]):\n",
    "    print(np.sqrt(-mean_score), params)"
   ]
  },
  {
   "cell_type": "code",
   "execution_count": 141,
   "metadata": {},
   "outputs": [
    {
     "data": {
      "text/plain": [
       "array([0.13731099, 0.14155578, 0.14550526, 0.16848628, 0.08382966,\n",
       "       0.05171763, 0.06097945, 0.03932935, 0.08767488, 0.00055655,\n",
       "       0.00553431, 0.01271387, 0.00427904, 0.00097312, 0.03072114,\n",
       "       0.02605822, 0.00277447])"
      ]
     },
     "execution_count": 141,
     "metadata": {},
     "output_type": "execute_result"
    }
   ],
   "source": [
    "feature_importances = grid_search.best_estimator_.feature_importances_\n",
    "feature_importances"
   ]
  },
  {
   "cell_type": "code",
   "execution_count": 142,
   "metadata": {},
   "outputs": [
    {
     "data": {
      "text/plain": [
       "[(0.1684862798593258, 'longitude'),\n",
       " (0.1455052564861625, 'latitude'),\n",
       " (0.14155578064244162, 'host_id'),\n",
       " (0.1373109923336132, 'id'),\n",
       " (0.0876748754011145, 'availability_365'),\n",
       " (0.08382966418990742, 'minimum_nights'),\n",
       " (0.06097945051756008, 'reviews_per_month'),\n",
       " (0.05171763185587836, 'number_of_reviews'),\n",
       " (0.039329354448024184, 'calculated_host_listings_count'),\n",
       " (0.005534307648584168,\n",
       "  array(['Entire home/apt', 'Private room', 'Shared room'], dtype=object)),\n",
       " (0.0005565530038350748,\n",
       "  array(['Bronx', 'Brooklyn', 'Manhattan', 'Queens', 'Staten Island'],\n",
       "        dtype=object))]"
      ]
     },
     "execution_count": 142,
     "metadata": {},
     "output_type": "execute_result"
    }
   ],
   "source": [
    "cat_encoder = full_pipeline.named_transformers_[\"cat\"]\n",
    "cat_one_hot_attribs = list(cat_encoder.categories_)\n",
    "attributes = num_attribs + cat_one_hot_attribs\n",
    "sorted(zip(feature_importances, attributes), reverse=True)"
   ]
  },
  {
   "cell_type": "code",
   "execution_count": 148,
   "metadata": {},
   "outputs": [],
   "source": [
    "final_model = grid_search.best_estimator_\n",
    "\n",
    "X_test = strat_test_set.drop(\"price\", axis=1)\n",
    "y_test = strat_test_set[\"price\"].copy()\n",
    "\n",
    "X_test_prepared = full_pipeline.transform(X_test)\n",
    "final_predictions = final_model.predict(X_test_prepared)\n",
    "\n",
    "final_mse = mean_squared_error(y_test, final_predictions)\n",
    "final_rmse = np.sqrt(final_mse)"
   ]
  },
  {
   "cell_type": "code",
   "execution_count": 144,
   "metadata": {},
   "outputs": [
    {
     "data": {
      "text/plain": [
       "185.0185081486533"
      ]
     },
     "execution_count": 144,
     "metadata": {},
     "output_type": "execute_result"
    }
   ],
   "source": [
    "final_rmse"
   ]
  },
  {
   "cell_type": "code",
   "execution_count": 145,
   "metadata": {},
   "outputs": [],
   "source": [
    "#computing the 95% confidence interval for the test RMSE"
   ]
  },
  {
   "cell_type": "code",
   "execution_count": 146,
   "metadata": {},
   "outputs": [],
   "source": [
    "from scipy import stats"
   ]
  },
  {
   "cell_type": "code",
   "execution_count": 147,
   "metadata": {},
   "outputs": [
    {
     "data": {
      "text/plain": [
       "array([145.19840412, 217.67204725])"
      ]
     },
     "execution_count": 147,
     "metadata": {},
     "output_type": "execute_result"
    }
   ],
   "source": [
    "confidence = 0.95\n",
    "squared_errors = (final_predictions - y_test) ** 2\n",
    "mean = squared_errors.mean()\n",
    "m = len(squared_errors)\n",
    "\n",
    "np.sqrt(stats.t.interval(confidence, m - 1,\n",
    "                         loc=np.mean(squared_errors),\n",
    "                         scale=stats.sem(squared_errors)))"
   ]
  },
  {
   "cell_type": "code",
   "execution_count": 124,
   "metadata": {},
   "outputs": [],
   "source": [
    "#lcl = 148.88 ucl=220.03"
   ]
  },
  {
   "cell_type": "code",
   "execution_count": 125,
   "metadata": {},
   "outputs": [],
   "source": [
    "#confirm with manual calculation"
   ]
  },
  {
   "cell_type": "code",
   "execution_count": 126,
   "metadata": {},
   "outputs": [
    {
     "data": {
      "text/plain": [
       "(148.88076974430788, 220.0325946012148)"
      ]
     },
     "execution_count": 126,
     "metadata": {},
     "output_type": "execute_result"
    }
   ],
   "source": [
    "tscore = stats.t.ppf((1 + confidence) / 2, df=m - 1)\n",
    "tmargin = tscore * squared_errors.std(ddof=1) / np.sqrt(m)\n",
    "np.sqrt(mean - tmargin), np.sqrt(mean + tmargin)"
   ]
  },
  {
   "cell_type": "code",
   "execution_count": null,
   "metadata": {},
   "outputs": [],
   "source": []
  }
 ],
 "metadata": {
  "kernelspec": {
   "display_name": "Python 3",
   "language": "python",
   "name": "python3"
  },
  "language_info": {
   "codemirror_mode": {
    "name": "ipython",
    "version": 3
   },
   "file_extension": ".py",
   "mimetype": "text/x-python",
   "name": "python",
   "nbconvert_exporter": "python",
   "pygments_lexer": "ipython3",
   "version": "3.7.3"
  }
 },
 "nbformat": 4,
 "nbformat_minor": 2
}
